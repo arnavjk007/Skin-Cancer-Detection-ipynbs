{
  "nbformat": 4,
  "nbformat_minor": 0,
  "metadata": {
    "accelerator": "GPU",
    "colab": {
      "provenance": []
    },
    "kernelspec": {
      "display_name": "Python 3",
      "name": "python3"
    },
    "widgets": {
      "application/vnd.jupyter.widget-state+json": {
        "1a05111614164fa79fb0d8a8c999170a": {
          "model_module": "@jupyter-widgets/controls",
          "model_name": "HBoxModel",
          "model_module_version": "1.5.0",
          "state": {
            "_dom_classes": [],
            "_model_module": "@jupyter-widgets/controls",
            "_model_module_version": "1.5.0",
            "_model_name": "HBoxModel",
            "_view_count": null,
            "_view_module": "@jupyter-widgets/controls",
            "_view_module_version": "1.5.0",
            "_view_name": "HBoxView",
            "box_style": "",
            "children": [
              "IPY_MODEL_64d02a026ae0457f9c851be5fbf1b5f5",
              "IPY_MODEL_d70b5422066f4ad3b62d269b751941cf",
              "IPY_MODEL_f6abd995ecd34940a30ccd5786799393"
            ],
            "layout": "IPY_MODEL_7c090c293ccf4517834bf61ba6448a32"
          }
        },
        "64d02a026ae0457f9c851be5fbf1b5f5": {
          "model_module": "@jupyter-widgets/controls",
          "model_name": "HTMLModel",
          "model_module_version": "1.5.0",
          "state": {
            "_dom_classes": [],
            "_model_module": "@jupyter-widgets/controls",
            "_model_module_version": "1.5.0",
            "_model_name": "HTMLModel",
            "_view_count": null,
            "_view_module": "@jupyter-widgets/controls",
            "_view_module_version": "1.5.0",
            "_view_name": "HTMLView",
            "description": "",
            "description_tooltip": null,
            "layout": "IPY_MODEL_edaadafcad0e4f00840d6e36989621f5",
            "placeholder": "​",
            "style": "IPY_MODEL_e37cf800b8ed4d59b228d8df58ca8a67",
            "value": "100%"
          }
        },
        "d70b5422066f4ad3b62d269b751941cf": {
          "model_module": "@jupyter-widgets/controls",
          "model_name": "FloatProgressModel",
          "model_module_version": "1.5.0",
          "state": {
            "_dom_classes": [],
            "_model_module": "@jupyter-widgets/controls",
            "_model_module_version": "1.5.0",
            "_model_name": "FloatProgressModel",
            "_view_count": null,
            "_view_module": "@jupyter-widgets/controls",
            "_view_module_version": "1.5.0",
            "_view_name": "ProgressView",
            "bar_style": "success",
            "description": "",
            "description_tooltip": null,
            "layout": "IPY_MODEL_03450dd1aecd448fab609d6587aad109",
            "max": 580,
            "min": 0,
            "orientation": "horizontal",
            "style": "IPY_MODEL_6168b01d0a9e4f1088dbb0bd3e5b9dd0",
            "value": 580
          }
        },
        "f6abd995ecd34940a30ccd5786799393": {
          "model_module": "@jupyter-widgets/controls",
          "model_name": "HTMLModel",
          "model_module_version": "1.5.0",
          "state": {
            "_dom_classes": [],
            "_model_module": "@jupyter-widgets/controls",
            "_model_module_version": "1.5.0",
            "_model_name": "HTMLModel",
            "_view_count": null,
            "_view_module": "@jupyter-widgets/controls",
            "_view_module_version": "1.5.0",
            "_view_name": "HTMLView",
            "description": "",
            "description_tooltip": null,
            "layout": "IPY_MODEL_7732c4ffadd346b7b8599e084eecb27c",
            "placeholder": "​",
            "style": "IPY_MODEL_4ab29d07d4ee4fa1b7e1fbac393dcc4b",
            "value": " 580/580 [00:00&lt;00:00, 5912.70it/s]"
          }
        },
        "7c090c293ccf4517834bf61ba6448a32": {
          "model_module": "@jupyter-widgets/base",
          "model_name": "LayoutModel",
          "model_module_version": "1.2.0",
          "state": {
            "_model_module": "@jupyter-widgets/base",
            "_model_module_version": "1.2.0",
            "_model_name": "LayoutModel",
            "_view_count": null,
            "_view_module": "@jupyter-widgets/base",
            "_view_module_version": "1.2.0",
            "_view_name": "LayoutView",
            "align_content": null,
            "align_items": null,
            "align_self": null,
            "border": null,
            "bottom": null,
            "display": null,
            "flex": null,
            "flex_flow": null,
            "grid_area": null,
            "grid_auto_columns": null,
            "grid_auto_flow": null,
            "grid_auto_rows": null,
            "grid_column": null,
            "grid_gap": null,
            "grid_row": null,
            "grid_template_areas": null,
            "grid_template_columns": null,
            "grid_template_rows": null,
            "height": null,
            "justify_content": null,
            "justify_items": null,
            "left": null,
            "margin": null,
            "max_height": null,
            "max_width": null,
            "min_height": null,
            "min_width": null,
            "object_fit": null,
            "object_position": null,
            "order": null,
            "overflow": null,
            "overflow_x": null,
            "overflow_y": null,
            "padding": null,
            "right": null,
            "top": null,
            "visibility": null,
            "width": null
          }
        },
        "edaadafcad0e4f00840d6e36989621f5": {
          "model_module": "@jupyter-widgets/base",
          "model_name": "LayoutModel",
          "model_module_version": "1.2.0",
          "state": {
            "_model_module": "@jupyter-widgets/base",
            "_model_module_version": "1.2.0",
            "_model_name": "LayoutModel",
            "_view_count": null,
            "_view_module": "@jupyter-widgets/base",
            "_view_module_version": "1.2.0",
            "_view_name": "LayoutView",
            "align_content": null,
            "align_items": null,
            "align_self": null,
            "border": null,
            "bottom": null,
            "display": null,
            "flex": null,
            "flex_flow": null,
            "grid_area": null,
            "grid_auto_columns": null,
            "grid_auto_flow": null,
            "grid_auto_rows": null,
            "grid_column": null,
            "grid_gap": null,
            "grid_row": null,
            "grid_template_areas": null,
            "grid_template_columns": null,
            "grid_template_rows": null,
            "height": null,
            "justify_content": null,
            "justify_items": null,
            "left": null,
            "margin": null,
            "max_height": null,
            "max_width": null,
            "min_height": null,
            "min_width": null,
            "object_fit": null,
            "object_position": null,
            "order": null,
            "overflow": null,
            "overflow_x": null,
            "overflow_y": null,
            "padding": null,
            "right": null,
            "top": null,
            "visibility": null,
            "width": null
          }
        },
        "e37cf800b8ed4d59b228d8df58ca8a67": {
          "model_module": "@jupyter-widgets/controls",
          "model_name": "DescriptionStyleModel",
          "model_module_version": "1.5.0",
          "state": {
            "_model_module": "@jupyter-widgets/controls",
            "_model_module_version": "1.5.0",
            "_model_name": "DescriptionStyleModel",
            "_view_count": null,
            "_view_module": "@jupyter-widgets/base",
            "_view_module_version": "1.2.0",
            "_view_name": "StyleView",
            "description_width": ""
          }
        },
        "03450dd1aecd448fab609d6587aad109": {
          "model_module": "@jupyter-widgets/base",
          "model_name": "LayoutModel",
          "model_module_version": "1.2.0",
          "state": {
            "_model_module": "@jupyter-widgets/base",
            "_model_module_version": "1.2.0",
            "_model_name": "LayoutModel",
            "_view_count": null,
            "_view_module": "@jupyter-widgets/base",
            "_view_module_version": "1.2.0",
            "_view_name": "LayoutView",
            "align_content": null,
            "align_items": null,
            "align_self": null,
            "border": null,
            "bottom": null,
            "display": null,
            "flex": null,
            "flex_flow": null,
            "grid_area": null,
            "grid_auto_columns": null,
            "grid_auto_flow": null,
            "grid_auto_rows": null,
            "grid_column": null,
            "grid_gap": null,
            "grid_row": null,
            "grid_template_areas": null,
            "grid_template_columns": null,
            "grid_template_rows": null,
            "height": null,
            "justify_content": null,
            "justify_items": null,
            "left": null,
            "margin": null,
            "max_height": null,
            "max_width": null,
            "min_height": null,
            "min_width": null,
            "object_fit": null,
            "object_position": null,
            "order": null,
            "overflow": null,
            "overflow_x": null,
            "overflow_y": null,
            "padding": null,
            "right": null,
            "top": null,
            "visibility": null,
            "width": null
          }
        },
        "6168b01d0a9e4f1088dbb0bd3e5b9dd0": {
          "model_module": "@jupyter-widgets/controls",
          "model_name": "ProgressStyleModel",
          "model_module_version": "1.5.0",
          "state": {
            "_model_module": "@jupyter-widgets/controls",
            "_model_module_version": "1.5.0",
            "_model_name": "ProgressStyleModel",
            "_view_count": null,
            "_view_module": "@jupyter-widgets/base",
            "_view_module_version": "1.2.0",
            "_view_name": "StyleView",
            "bar_color": null,
            "description_width": ""
          }
        },
        "7732c4ffadd346b7b8599e084eecb27c": {
          "model_module": "@jupyter-widgets/base",
          "model_name": "LayoutModel",
          "model_module_version": "1.2.0",
          "state": {
            "_model_module": "@jupyter-widgets/base",
            "_model_module_version": "1.2.0",
            "_model_name": "LayoutModel",
            "_view_count": null,
            "_view_module": "@jupyter-widgets/base",
            "_view_module_version": "1.2.0",
            "_view_name": "LayoutView",
            "align_content": null,
            "align_items": null,
            "align_self": null,
            "border": null,
            "bottom": null,
            "display": null,
            "flex": null,
            "flex_flow": null,
            "grid_area": null,
            "grid_auto_columns": null,
            "grid_auto_flow": null,
            "grid_auto_rows": null,
            "grid_column": null,
            "grid_gap": null,
            "grid_row": null,
            "grid_template_areas": null,
            "grid_template_columns": null,
            "grid_template_rows": null,
            "height": null,
            "justify_content": null,
            "justify_items": null,
            "left": null,
            "margin": null,
            "max_height": null,
            "max_width": null,
            "min_height": null,
            "min_width": null,
            "object_fit": null,
            "object_position": null,
            "order": null,
            "overflow": null,
            "overflow_x": null,
            "overflow_y": null,
            "padding": null,
            "right": null,
            "top": null,
            "visibility": null,
            "width": null
          }
        },
        "4ab29d07d4ee4fa1b7e1fbac393dcc4b": {
          "model_module": "@jupyter-widgets/controls",
          "model_name": "DescriptionStyleModel",
          "model_module_version": "1.5.0",
          "state": {
            "_model_module": "@jupyter-widgets/controls",
            "_model_module_version": "1.5.0",
            "_model_name": "DescriptionStyleModel",
            "_view_count": null,
            "_view_module": "@jupyter-widgets/base",
            "_view_module_version": "1.2.0",
            "_view_name": "StyleView",
            "description_width": ""
          }
        }
      }
    }
  },
  "cells": [
    {
      "cell_type": "markdown",
      "metadata": {
        "id": "TiM6gYg0nhkY"
      },
      "source": [
        "<font color=\"#de3023\"><h1><b>REMINDER MAKE A COPY OF THIS NOTEBOOK, DO NOT EDIT</b></h1></font>"
      ]
    },
    {
      "cell_type": "markdown",
      "metadata": {
        "id": "8qhF7Oi9c-v6"
      },
      "source": [
        " # Module 2a"
      ]
    },
    {
      "cell_type": "markdown",
      "metadata": {
        "id": "JouKR3pTBF_L"
      },
      "source": [
        "# *Online Dermatologists:* 📱 🌐 Diagnosing Skin Cancer through a Web Application"
      ]
    },
    {
      "cell_type": "markdown",
      "metadata": {
        "id": "nPnF7JnsD6II"
      },
      "source": [
        "In this project, we will be be diagnosing skin lesion images for signs of skin cancer. To perform this task, we'll be working with an array of machine learning methods and models.\n",
        "\n",
        "We're hoping that our model might be useful to people who don't have easy access to medical professionals. For that, it'll need to be both highly accurate and easily accessible! Yesterday's simple models didn't perform well enough for this job.\n",
        "\n",
        "In this notebook we'll be:\n",
        "*   Developing more complex ML models using Convolutional Neural Networks\n",
        "*   Deploying our ML models to a web app"
      ]
    },
    {
      "cell_type": "markdown",
      "metadata": {
        "id": "-ObbA3WmI798"
      },
      "source": [
        "# Set up our Environment"
      ]
    },
    {
      "cell_type": "code",
      "metadata": {
        "id": "ih8pc-WDIxbx",
        "outputId": "b6227be1-e7fd-4228-e768-bd9633e8377a",
        "colab": {
          "base_uri": "https://localhost:8080/"
        }
      },
      "source": [
        "#@title Run this to download data and prepare our environment! { display-mode: \"form\" }\n",
        "print(\"Installing packages...\")\n",
        "!pip install hypopt tensorflowjs > /dev/null\n",
        "print(\"Downloading files...\")\n",
        "!wget https://www.dropbox.com/s/fedqcdt4o0m2oxp/X.npy &> /dev/null\n",
        "!wget https://www.dropbox.com/s/h7xh92w1w7px30a/X_g.npy &> /dev/null\n",
        "!wget https://www.dropbox.com/s/grn9brfvzx74c8a/y.npy &> /dev/null\n",
        "print(\"Importing stuff...\")\n",
        "import os\n",
        "os.makedirs(\"static/js\", exist_ok=True)\n",
        "!wget -O static/js/skin_cancer_diagnosis_script.js 'https://storage.googleapis.com/inspirit-ai-data-bucket-1/Data/AI%20Scholars/Sessions%206%20-%2010%20(Projects)/Project%20-%20(Healthcare%20B)%20Skin%20Cancer%20Diagnosis/skin_cancer_diagnosis_script.js' &> /dev/null\n",
        "output = 'static/js/skin_cancer_diagnosis_script.js'\n",
        "\n",
        "from google.colab.output import eval_js\n",
        "\n",
        "import time\n",
        "start_time = time.time()\n",
        "\n",
        "import tensorflow as tf\n",
        "from tensorflow.keras.preprocessing.image import ImageDataGenerator\n",
        "from tqdm.notebook import tqdm\n",
        "\n",
        "import keras\n",
        "from keras import backend as K\n",
        "from tensorflow.keras.layers import *\n",
        "from keras.models import Sequential\n",
        "from keras.layers import Dense, Conv2D\n",
        "from keras.layers import Activation, MaxPooling2D, Dropout, Flatten, Reshape\n",
        "import tensorflow.keras.optimizers as optimizers\n",
        "from keras.wrappers.scikit_learn import KerasClassifier\n",
        "\n",
        "import matplotlib.pyplot as plt\n",
        "import matplotlib\n",
        "import seaborn as sns\n",
        "import os\n",
        "import random\n",
        "from PIL import Image\n",
        "import gdown\n",
        "\n",
        "import argparse\n",
        "import numpy as np\n",
        "from keras.layers import Conv2D, Input, BatchNormalization, LeakyReLU, ZeroPadding2D, UpSampling2D\n",
        "from keras.layers.merge import add, concatenate\n",
        "from keras.models import Model\n",
        "import struct\n",
        "from google.colab.patches import cv2_imshow\n",
        "from copy import deepcopy\n",
        "import pandas as pd\n",
        "\n",
        "from sklearn.model_selection import train_test_split\n",
        "from sklearn.linear_model import LogisticRegression\n",
        "from sklearn.neighbors import KNeighborsClassifier\n",
        "from sklearn import tree\n",
        "from sklearn.metrics import confusion_matrix, classification_report\n",
        "from sklearn.metrics import precision_recall_curve\n",
        "from sklearn.metrics import roc_auc_score\n",
        "from sklearn.base import BaseEstimator\n",
        "\n",
        "from sklearn.neural_network import MLPClassifier\n",
        "from sklearn.neighbors import KNeighborsClassifier\n",
        "from sklearn.svm import SVC\n",
        "from sklearn.gaussian_process import GaussianProcessClassifier\n",
        "from sklearn.gaussian_process.kernels import RBF\n",
        "from sklearn.tree import DecisionTreeClassifier\n",
        "from sklearn.ensemble import RandomForestClassifier, AdaBoostClassifier\n",
        "from sklearn.naive_bayes import GaussianNB\n",
        "from sklearn.discriminant_analysis import QuadraticDiscriminantAnalysis\n",
        "\n",
        "from sklearn.metrics import make_scorer\n",
        "from sklearn.metrics import accuracy_score\n",
        "from keras.applications.mobilenet import MobileNet\n",
        "\n",
        "from hypopt import GridSearch\n",
        "\n",
        "from sklearn.decomposition import PCA\n",
        "from sklearn.manifold import TSNE\n",
        "\n",
        "from sklearn.cluster import KMeans\n",
        "from sklearn.cluster import AgglomerativeClustering\n",
        "\n",
        "import cv2\n",
        "\n",
        "\n",
        "import tensorflowjs as tfjs\n",
        "\n",
        "from google.colab import files\n",
        "\n",
        "import requests, io, zipfile\n",
        "import os\n",
        "\n",
        "\n",
        "\n",
        "import os.path\n",
        "from os import path\n",
        "\n",
        "\n",
        "\n",
        "\n",
        "print(\"Done!\")"
      ],
      "execution_count": null,
      "outputs": [
        {
          "output_type": "stream",
          "name": "stdout",
          "text": [
            "Installing packages...\n",
            "\u001b[31mERROR: pip's dependency resolver does not currently take into account all the packages that are installed. This behaviour is the source of the following dependency conflicts.\n",
            "datascience 0.10.6 requires folium==0.2.1, but you have folium 0.8.3 which is incompatible.\u001b[0m\n",
            "Downloading files...\n",
            "Importing stuff...\n",
            "Done!\n"
          ]
        }
      ]
    },
    {
      "cell_type": "code",
      "metadata": {
        "id": "ITfh4GjlttRH"
      },
      "source": [
        "IMG_WIDTH = 100\n",
        "IMG_HEIGHT = 75"
      ],
      "execution_count": null,
      "outputs": []
    },
    {
      "cell_type": "markdown",
      "metadata": {
        "id": "eMVUe5bs_2uX"
      },
      "source": [
        "Let's load in our data from last time!"
      ]
    },
    {
      "cell_type": "code",
      "metadata": {
        "id": "Kpq4DXFN6cRf"
      },
      "source": [
        "X = np.load(\"X.npy\")\n",
        "X_g = np.load(\"X_g.npy\")\n",
        "y = np.load(\"y.npy\")"
      ],
      "execution_count": null,
      "outputs": []
    },
    {
      "cell_type": "code",
      "metadata": {
        "id": "UC4VupwgyqpN",
        "outputId": "da5e6eee-8a07-4d2b-c782-affa3dfd8b34",
        "colab": {
          "base_uri": "https://localhost:8080/",
          "height": 49,
          "referenced_widgets": [
            "1a05111614164fa79fb0d8a8c999170a",
            "64d02a026ae0457f9c851be5fbf1b5f5",
            "d70b5422066f4ad3b62d269b751941cf",
            "f6abd995ecd34940a30ccd5786799393",
            "7c090c293ccf4517834bf61ba6448a32",
            "edaadafcad0e4f00840d6e36989621f5",
            "e37cf800b8ed4d59b228d8df58ca8a67",
            "03450dd1aecd448fab609d6587aad109",
            "6168b01d0a9e4f1088dbb0bd3e5b9dd0",
            "7732c4ffadd346b7b8599e084eecb27c",
            "4ab29d07d4ee4fa1b7e1fbac393dcc4b"
          ]
        }
      },
      "source": [
        "#@title Run this to Perform Data Augmentation { display-mode: \"form\" }\n",
        "X_train, X_test, y_train, y_test = train_test_split(X, y, test_size=0.4, random_state=101)\n",
        "X_g_train, X_g_test, y_train, y_test = train_test_split(X_g, y, test_size=0.4, random_state=101)\n",
        "\n",
        "X_augmented = []\n",
        "X_g_augmented = []\n",
        "\n",
        "y_augmented = []\n",
        "\n",
        "for i in tqdm(range(len(X_train))):\n",
        "  transform = random.randint(0,1)\n",
        "  if (transform == 0):\n",
        "    # Flip the image across the y-axis\n",
        "    X_augmented.append(cv2.flip(X_train[i],1))\n",
        "    X_g_augmented.append(cv2.flip(X_g_train[i],1))\n",
        "    y_augmented.append(y_train[i])\n",
        "  else:\n",
        "    # Zoom 33% into the image\n",
        "    zoom = 0.33\n",
        "\n",
        "    centerX,centerY=int(IMG_HEIGHT/2),int(IMG_WIDTH/2)\n",
        "    radiusX,radiusY= int((1-zoom)*IMG_HEIGHT*2),int((1-zoom)*IMG_WIDTH*2)\n",
        "\n",
        "    minX,maxX=centerX-radiusX,centerX+radiusX\n",
        "    minY,maxY=centerY-radiusY,centerY+radiusY\n",
        "\n",
        "    cropped = (X_train[i])[minX:maxX, minY:maxY]\n",
        "    new_img = cv2.resize(cropped, (IMG_WIDTH, IMG_HEIGHT))\n",
        "    X_augmented.append(new_img)\n",
        "\n",
        "    cropped = (X_g_train[i])[minX:maxX, minY:maxY]\n",
        "    new_img = cv2.resize(cropped, (IMG_WIDTH, IMG_HEIGHT))\n",
        "    X_g_augmented.append(new_img)\n",
        "\n",
        "    y_augmented.append(y_train[i])\n",
        "\n",
        "X_augmented = np.array(X_augmented)\n",
        "X_g_augmented = np.array(X_g_augmented)\n",
        "\n",
        "y_augmented = np.array(y_augmented)\n",
        "\n",
        "X_train = np.vstack((X_train,X_augmented))\n",
        "X_g_train = np.vstack((X_g_train,X_g_augmented))\n",
        "\n",
        "y_train = np.append(y_train,y_augmented)"
      ],
      "execution_count": null,
      "outputs": [
        {
          "output_type": "display_data",
          "data": {
            "text/plain": [
              "  0%|          | 0/580 [00:00<?, ?it/s]"
            ],
            "application/vnd.jupyter.widget-view+json": {
              "version_major": 2,
              "version_minor": 0,
              "model_id": "1a05111614164fa79fb0d8a8c999170a"
            }
          },
          "metadata": {}
        }
      ]
    },
    {
      "cell_type": "markdown",
      "metadata": {
        "id": "dwVcrhcDDE7h"
      },
      "source": [
        "Let's view the shape of our training variables after data augmentation:"
      ]
    },
    {
      "cell_type": "code",
      "metadata": {
        "id": "A2yCz4Cqc9U5"
      },
      "source": [
        "#Your Code Here\n",
        "\n"
      ],
      "execution_count": null,
      "outputs": []
    },
    {
      "cell_type": "markdown",
      "metadata": {
        "id": "pZThMze80XRW"
      },
      "source": [
        "# Creating Machine Learning Models"
      ]
    },
    {
      "cell_type": "markdown",
      "metadata": {
        "id": "G8yRJmUHkqWw"
      },
      "source": [
        "**Now**, let's explore some alternative classification options."
      ]
    },
    {
      "cell_type": "markdown",
      "metadata": {
        "id": "5WAr9_wa1AXX"
      },
      "source": [
        "Let's take a look at Convolutional Neural Networks. These machine learning models are tailor made to work with images through the use of *Convolutional Layers*.\n",
        "\n",
        "CNNs contain several kinds of layers; some of the most important are the *Convolutional Layers*, *Pooling Layers*, and *Fully Connected Layers*.\n",
        "\n",
        "The Convolutional Layer is used to extract features from the image through the use of a sliding window, known as a kernel.\n"
      ]
    },
    {
      "cell_type": "markdown",
      "metadata": {
        "id": "iE55_4A6OgiP"
      },
      "source": [
        "![alt text](https://stanford.edu/~shervine/teaching/cs-230/illustrations/convolution-layer-a.png?1c517e00cb8d709baf32fc3d39ebae67)"
      ]
    },
    {
      "cell_type": "markdown",
      "metadata": {
        "id": "BJJzjq1VOkCe"
      },
      "source": [
        "\n",
        "The Pooling Layer reduces the dimensions of the image, and extracts the most important features. This layer is very useful in minimizing overfitting, as a lot of the features that are too specific to the training data will be discarded in this step."
      ]
    },
    {
      "cell_type": "markdown",
      "metadata": {
        "id": "JATieE3K1A6X"
      },
      "source": [
        "![alt text](https://miro.medium.com/max/875/1*KQIEqhxzICU7thjaQBfPBQ.png)"
      ]
    },
    {
      "cell_type": "markdown",
      "metadata": {
        "id": "EkZ5aeG0OT9O"
      },
      "source": [
        "Finally, after multiple iterations of Convolutional and Pooling Layers, the image is converted to a classification probability in the fully connected layer. The fully connected layer is architecturally similar to a traditional neural network. The input to this component is our flattened image (after all the transformations from the Convolutional and Pooling layers are applied), and the outputs are the predictions."
      ]
    },
    {
      "cell_type": "markdown",
      "metadata": {
        "id": "U5Mqv1hwOwYu"
      },
      "source": [
        "\n",
        "![alt text](https://sds-platform-private.s3-us-east-2.amazonaws.com/uploads/74_blog_image_1.png)\n"
      ]
    },
    {
      "cell_type": "code",
      "metadata": {
        "id": "Swoyff2uRp82"
      },
      "source": [
        "# Your Response Here\n",
        "\n"
      ],
      "execution_count": null,
      "outputs": []
    },
    {
      "cell_type": "markdown",
      "metadata": {
        "id": "P15J_c6gxnxI"
      },
      "source": [
        "We'll use the the library Keras to create the models for our skin lesion classification. Let's start off by creating our own CNN model (This is the same model we used in the earlier Intro to CNNs notebook). We can work with our color images with the CNNs."
      ]
    },
    {
      "cell_type": "markdown",
      "metadata": {
        "id": "Ysnigm4YO-Ua"
      },
      "source": [
        "Take a look at the CNN's definition below.\n",
        "\n",
        "**Question**: How is the model organized? Could you draw a diagram of its structure?"
      ]
    },
    {
      "cell_type": "code",
      "metadata": {
        "id": "TB0G7k4jO7Tm"
      },
      "source": [
        "# Your Response Here\n",
        "\n"
      ],
      "execution_count": null,
      "outputs": []
    },
    {
      "cell_type": "code",
      "metadata": {
        "id": "jfVye7oWuNMM"
      },
      "source": [
        "def CNNClassifier(epochs=20, batch_size=10, layers=5, dropout=0.5, activation='relu'):\n",
        "  def set_params():\n",
        "    i = 1\n",
        "  def create_model():\n",
        "    model = Sequential()\n",
        "\n",
        "    for i in range(layers):\n",
        "      model.add(Conv2D(64, (3, 3), padding='same'))\n",
        "      model.add(Activation(activation))\n",
        "\n",
        "    model.add(Conv2D(64, (3, 3)))\n",
        "    model.add(Activation(activation))\n",
        "    model.add(MaxPooling2D(pool_size=(2, 2)))\n",
        "    model.add(Dropout(dropout / 2.0))\n",
        "\n",
        "    model.add(Conv2D(128, (3, 3), padding='same'))\n",
        "    model.add(Activation(activation))\n",
        "    model.add(Conv2D(128, (3, 3)))\n",
        "    model.add(Activation(activation))\n",
        "    model.add(MaxPooling2D(pool_size=(2, 2)))\n",
        "    model.add(Dropout(dropout / 2.0))\n",
        "\n",
        "    model.add(Flatten())\n",
        "    model.add(Dense(512))\n",
        "    model.add(Activation(activation))\n",
        "    model.add(Dropout(dropout))\n",
        "    model.add(Dense(7))\n",
        "    model.add(Activation('softmax'))\n",
        "\n",
        "    # initiate RMSprop optimizer\n",
        "    opt = optimizers.RMSprop(learning_rate=0.0001, decay=1e-6)\n",
        "\n",
        "    # Let's train the model using RMSprop\n",
        "    model.compile(loss='categorical_crossentropy',\n",
        "                  optimizer=opt,\n",
        "                  metrics=[tf.keras.metrics.AUC()])\n",
        "    return model\n",
        "  return KerasClassifier(build_fn=create_model, epochs=epochs, batch_size=batch_size, verbose=1)"
      ],
      "execution_count": null,
      "outputs": []
    },
    {
      "cell_type": "markdown",
      "metadata": {
        "id": "VDsvw0vZPYDm"
      },
      "source": [
        "Some terms you might notice include Epochs, Batch Size, Learning Rate, Dropout, and Activation functions:\n",
        "\n",
        "\n",
        "*   Dropout is a method of preventing overfitting by randomly ignoring certain neurons from the model during training.\n",
        "*   Activation functions determine how a neuron calculates its output after adding up its weighted inputs.\n",
        "*   Epochs are just the number of iterations we would like to train our model for.\n",
        "*   Batch Size is the number of samples we would like to send through the model at a time.\n",
        "*   The Learning Rate is a hyperparameter that affects how quickly the model changes to adapt to the training data.\n",
        "\n",
        "Phew, that was a lot of terms!\n",
        "\n",
        "**Question:** With your knowledge so far, what values would you set these parameters to be? What might your model's architecture look like?"
      ]
    },
    {
      "cell_type": "code",
      "metadata": {
        "id": "M33InjU0cybr"
      },
      "source": [
        "# Your Response Here\n",
        "\n"
      ],
      "execution_count": null,
      "outputs": []
    },
    {
      "cell_type": "markdown",
      "metadata": {
        "id": "_1kKW8jm1m24"
      },
      "source": [
        "We also need to transform our y labels into one hot encoded labels for training."
      ]
    },
    {
      "cell_type": "code",
      "metadata": {
        "id": "WPCxQjeS1Qjk"
      },
      "source": [
        "y_train_onehot = np.zeros((y_train.size, y_train.max().astype(int)+1))\n",
        "y_train_onehot[np.arange(y_train.size),y_train.astype(int)] = 1\n",
        "\n",
        "y_test_onehot = np.zeros((y_test.size, y_test.max().astype(int)+1))\n",
        "y_test_onehot[np.arange(y_test.size),y_test.astype(int)] = 1"
      ],
      "execution_count": null,
      "outputs": []
    },
    {
      "cell_type": "markdown",
      "metadata": {
        "id": "tWHMBqfzkBVM"
      },
      "source": [
        "Let's initialize and train our CNN. This may take a while to execute as well."
      ]
    },
    {
      "cell_type": "code",
      "metadata": {
        "id": "z_blzuQQyiJv",
        "colab": {
          "base_uri": "https://localhost:8080/"
        },
        "outputId": "efe592c2-b729-446a-f2c9-e7be0e875648"
      },
      "source": [
        "cnn = CNNClassifier()\n",
        "\n",
        "cnn.fit(X_train.astype(np.float32), y_train_onehot.astype(np.float32),\n",
        "        validation_data=(X_test.astype(np.float32),y_test_onehot.astype(np.float32))\n",
        "        ,verbose=1)"
      ],
      "execution_count": null,
      "outputs": [
        {
          "output_type": "stream",
          "name": "stderr",
          "text": [
            "/usr/local/lib/python3.7/dist-packages/ipykernel_launcher.py:38: DeprecationWarning: KerasClassifier is deprecated, use Sci-Keras (https://github.com/adriangb/scikeras) instead. See https://www.adriangb.com/scikeras/stable/migration.html for help migrating.\n"
          ]
        },
        {
          "output_type": "stream",
          "name": "stdout",
          "text": [
            "Epoch 1/20\n",
            "116/116 [==============================] - 25s 56ms/step - loss: 3.8236 - auc: 0.6060 - val_loss: 1.8517 - val_auc: 0.6139\n",
            "Epoch 2/20\n",
            "116/116 [==============================] - 5s 45ms/step - loss: 1.7086 - auc: 0.7141 - val_loss: 1.5904 - val_auc: 0.8051\n",
            "Epoch 3/20\n",
            "116/116 [==============================] - 5s 45ms/step - loss: 1.4909 - auc: 0.8063 - val_loss: 1.4641 - val_auc: 0.8260\n",
            "Epoch 4/20\n",
            "116/116 [==============================] - 5s 47ms/step - loss: 1.3726 - auc: 0.8445 - val_loss: 1.4832 - val_auc: 0.8116\n",
            "Epoch 5/20\n",
            "116/116 [==============================] - 5s 45ms/step - loss: 1.2506 - auc: 0.8753 - val_loss: 1.6110 - val_auc: 0.8189\n",
            "Epoch 6/20\n",
            "116/116 [==============================] - 5s 47ms/step - loss: 1.1763 - auc: 0.8892 - val_loss: 1.4082 - val_auc: 0.8426\n",
            "Epoch 7/20\n",
            "116/116 [==============================] - 5s 47ms/step - loss: 1.0607 - auc: 0.9082 - val_loss: 1.4663 - val_auc: 0.8307\n",
            "Epoch 8/20\n",
            "116/116 [==============================] - 5s 46ms/step - loss: 0.9859 - auc: 0.9206 - val_loss: 1.4775 - val_auc: 0.8251\n",
            "Epoch 9/20\n",
            "116/116 [==============================] - 5s 47ms/step - loss: 0.9807 - auc: 0.9289 - val_loss: 1.4913 - val_auc: 0.8260\n",
            "Epoch 10/20\n",
            "116/116 [==============================] - 6s 48ms/step - loss: 0.8353 - auc: 0.9449 - val_loss: 1.3086 - val_auc: 0.8721\n",
            "Epoch 11/20\n",
            "116/116 [==============================] - 5s 46ms/step - loss: 0.7767 - auc: 0.9499 - val_loss: 1.3542 - val_auc: 0.8668\n",
            "Epoch 12/20\n",
            "116/116 [==============================] - 5s 46ms/step - loss: 0.7082 - auc: 0.9592 - val_loss: 1.8625 - val_auc: 0.8415\n",
            "Epoch 13/20\n",
            "116/116 [==============================] - 5s 46ms/step - loss: 0.6205 - auc: 0.9672 - val_loss: 1.4793 - val_auc: 0.8720\n",
            "Epoch 14/20\n",
            "116/116 [==============================] - 5s 46ms/step - loss: 0.5662 - auc: 0.9735 - val_loss: 1.5672 - val_auc: 0.8584\n",
            "Epoch 15/20\n",
            "116/116 [==============================] - 5s 46ms/step - loss: 0.5589 - auc: 0.9733 - val_loss: 1.5169 - val_auc: 0.8708\n",
            "Epoch 16/20\n",
            "116/116 [==============================] - 5s 46ms/step - loss: 0.4885 - auc: 0.9811 - val_loss: 1.7352 - val_auc: 0.8657\n",
            "Epoch 17/20\n",
            "116/116 [==============================] - 5s 47ms/step - loss: 0.4267 - auc: 0.9830 - val_loss: 1.7282 - val_auc: 0.8526\n",
            "Epoch 18/20\n",
            "116/116 [==============================] - 6s 48ms/step - loss: 0.3821 - auc: 0.9857 - val_loss: 2.0261 - val_auc: 0.8434\n",
            "Epoch 19/20\n",
            "116/116 [==============================] - 5s 47ms/step - loss: 0.3230 - auc: 0.9898 - val_loss: 2.4242 - val_auc: 0.8409\n",
            "Epoch 20/20\n",
            "116/116 [==============================] - 6s 48ms/step - loss: 0.3269 - auc: 0.9877 - val_loss: 1.8384 - val_auc: 0.8568\n"
          ]
        },
        {
          "output_type": "execute_result",
          "data": {
            "text/plain": [
              "<keras.callbacks.History at 0x7fb0b02c9a50>"
            ]
          },
          "metadata": {},
          "execution_count": 11
        }
      ]
    },
    {
      "cell_type": "markdown",
      "metadata": {
        "id": "NniM-5heGlsh"
      },
      "source": [
        "Let's save and download our trained model, so that we can use it in a web app later on."
      ]
    },
    {
      "cell_type": "code",
      "metadata": {
        "id": "WNiX3iRXTLoz"
      },
      "source": [
        "tfjs.converters.save_keras_model(cnn.model, 'cnn_model')"
      ],
      "execution_count": null,
      "outputs": []
    },
    {
      "cell_type": "markdown",
      "metadata": {
        "id": "f6p-1f4H-WyO"
      },
      "source": [
        "**Let's evaluate our model's performance!** Let's start by defining our `model_stats()` and `plot_cm()` functions."
      ]
    },
    {
      "cell_type": "code",
      "metadata": {
        "id": "tdgFEDo82dYQ"
      },
      "source": [
        "#@title Click here to define `model_stats()`! { display-mode: \"form\" }\n",
        "def model_stats(name, y_test, y_pred, y_pred_proba):\n",
        "  cm = confusion_matrix(y_test, y_pred)\n",
        "\n",
        "  print(name)\n",
        "\n",
        "  accuracy = accuracy_score(y_test,y_pred)\n",
        "  print (\"The accuracy of the model is \" + str(round(accuracy,5)))\n",
        "\n",
        "  y_test_onehot = np.zeros((y_test.size, y_test.max().astype(int)+1))\n",
        "  y_test_onehot[np.arange(y_test.size),y_test.astype(int)] = 1\n",
        "\n",
        "  roc_score = roc_auc_score(y_test_onehot, y_pred_proba)\n",
        "\n",
        "  print (\"The ROC AUC Score of the model is \" + str(round(roc_score,5)))\n",
        "\n",
        "  return cm"
      ],
      "execution_count": null,
      "outputs": []
    },
    {
      "cell_type": "markdown",
      "metadata": {
        "id": "OvsanDVh3tJ_"
      },
      "source": [
        "How can we use this function to evaluate our model? Code your answer below!"
      ]
    },
    {
      "cell_type": "code",
      "metadata": {
        "id": "S1LVV03hvWI9",
        "colab": {
          "base_uri": "https://localhost:8080/"
        },
        "outputId": "7ab40d65-309f-4cd4-8e44-fedfac595a73"
      },
      "source": [
        "# Your code here!\n",
        "y_pred = cnn.predict(X_test)\n",
        "y_test_proba = cnn.predict_proba(X_test)\n",
        "cnn_cm = model_stats(cnn, y_test, y_pred, y_test_proba)"
      ],
      "execution_count": null,
      "outputs": [
        {
          "output_type": "stream",
          "name": "stdout",
          "text": [
            "<keras.wrappers.scikit_learn.KerasClassifier object at 0x7fb02c76b190>\n",
            "The accuracy of the model is 0.35659\n",
            "The ROC AUC Score of the model is 0.64468\n"
          ]
        }
      ]
    },
    {
      "cell_type": "code",
      "metadata": {
        "id": "EHweJLDq2hJO"
      },
      "source": [
        "#@title Let's also redefine the `plot_cm()` function from our first notebook. { display-mode: \"form\" }\n",
        "def plot_cm(name, cm):\n",
        "  classes = ['akiec', 'bcc', 'bkl', 'df', 'mel', 'nv', 'vasc']\n",
        "\n",
        "  df_cm = pd.DataFrame(cm, index = [i for i in classes], columns = [i for i in classes])\n",
        "  df_cm = df_cm.round(5)\n",
        "\n",
        "  plt.figure(figsize = (12,8))\n",
        "  sns.heatmap(df_cm, annot=True, fmt='g')\n",
        "  plt.title(name + \" Model Confusion Matrix\")\n",
        "  plt.xlabel(\"Predicted Label\")\n",
        "  plt.ylabel(\"True Label\")\n",
        "  plt.show()"
      ],
      "execution_count": null,
      "outputs": []
    },
    {
      "cell_type": "markdown",
      "metadata": {
        "id": "es3RakSP49Tj"
      },
      "source": [
        "Let's use the function to plot a confusion matrix of our model!"
      ]
    },
    {
      "cell_type": "code",
      "metadata": {
        "id": "vN6xRVnLvY9n"
      },
      "source": [
        "# Your code here!\n",
        "\n"
      ],
      "execution_count": null,
      "outputs": []
    },
    {
      "cell_type": "markdown",
      "metadata": {
        "id": "2j89i4MY0RSm"
      },
      "source": [
        "It looks like our custom CNN's performance is better than the KNN and Decision Tree models. More training epochs or a bigger dataset would probably help with the performance."
      ]
    },
    {
      "cell_type": "markdown",
      "metadata": {
        "id": "bPtcDPJjF9KF"
      },
      "source": [
        "Try building your own CNN! Let's see who can get the best performance in your group!"
      ]
    },
    {
      "cell_type": "markdown",
      "metadata": {
        "id": "CUX0Etpsrnik"
      },
      "source": [
        "### First, define your model here!"
      ]
    },
    {
      "cell_type": "code",
      "metadata": {
        "id": "-eFkna-TGCB0"
      },
      "source": [
        "def CNNClassifier_Modified(epochs=20, batch_size=10, layers=5, dropout=0.5, activation='relu'):\n",
        "  def set_params():\n",
        "    i = 1\n",
        "  def create_model():\n",
        "    model = Sequential()\n",
        "\n",
        "    # Your Code Here\n",
        "    model.add(Flatten())\n",
        "    model.add(Dense(7))\n",
        "    model.add(Activation('softmax'))\n",
        "\n",
        "    # initiate RMSprop optimizer\n",
        "    opt = optimizers.RMSprop(learning_rate=0.0001, decay=1e-6)\n",
        "\n",
        "    # Let's train the model using RMSprop\n",
        "    model.compile(loss='categorical_crossentropy',\n",
        "                  optimizer=opt,\n",
        "                  metrics=[tf.keras.metrics.AUC()])\n",
        "    return model\n",
        "  return KerasClassifier(build_fn=create_model, epochs=epochs, batch_size=batch_size, verbose=1)"
      ],
      "execution_count": null,
      "outputs": []
    },
    {
      "cell_type": "markdown",
      "metadata": {
        "id": "_PPhn_GNrvgq"
      },
      "source": [
        "### Then, run the code below to train your model."
      ]
    },
    {
      "cell_type": "code",
      "metadata": {
        "id": "H1tJLItEGR70",
        "colab": {
          "base_uri": "https://localhost:8080/"
        },
        "outputId": "d0a68ffc-efb6-4878-a8e5-905eaa5def30"
      },
      "source": [
        "cnn = CNNClassifier_Modified()\n",
        "\n",
        "cnn.fit(X_train.astype(np.float32), y_train_onehot.astype(np.float32),\n",
        "        validation_data=(X_test.astype(np.float32),y_test_onehot.astype(np.float32))\n",
        "        ,verbose=1)"
      ],
      "execution_count": null,
      "outputs": [
        {
          "output_type": "stream",
          "name": "stdout",
          "text": [
            "Epoch 1/20\n"
          ]
        },
        {
          "output_type": "stream",
          "name": "stderr",
          "text": [
            "/usr/local/lib/python3.7/dist-packages/ipykernel_launcher.py:20: DeprecationWarning: KerasClassifier is deprecated, use Sci-Keras (https://github.com/adriangb/scikeras) instead. See https://www.adriangb.com/scikeras/stable/migration.html for help migrating.\n"
          ]
        },
        {
          "output_type": "stream",
          "name": "stdout",
          "text": [
            "116/116 [==============================] - 2s 15ms/step - loss: 413.5667 - auc_1: 0.5208 - val_loss: 283.8616 - val_auc_1: 0.5526\n",
            "Epoch 2/20\n",
            "116/116 [==============================] - 1s 9ms/step - loss: 327.9242 - auc_1: 0.5521 - val_loss: 440.3037 - val_auc_1: 0.5628\n",
            "Epoch 3/20\n",
            "116/116 [==============================] - 1s 9ms/step - loss: 314.1118 - auc_1: 0.5632 - val_loss: 233.9820 - val_auc_1: 0.5721\n",
            "Epoch 4/20\n",
            "116/116 [==============================] - 1s 7ms/step - loss: 299.2789 - auc_1: 0.5709 - val_loss: 282.3857 - val_auc_1: 0.6108\n",
            "Epoch 5/20\n",
            "116/116 [==============================] - 1s 9ms/step - loss: 309.2667 - auc_1: 0.5701 - val_loss: 291.5676 - val_auc_1: 0.6139\n",
            "Epoch 6/20\n",
            "116/116 [==============================] - 1s 7ms/step - loss: 287.5487 - auc_1: 0.5894 - val_loss: 162.4478 - val_auc_1: 0.6370\n",
            "Epoch 7/20\n",
            "116/116 [==============================] - 1s 8ms/step - loss: 277.4281 - auc_1: 0.6045 - val_loss: 247.1803 - val_auc_1: 0.5993\n",
            "Epoch 8/20\n",
            "116/116 [==============================] - 1s 7ms/step - loss: 261.0422 - auc_1: 0.5997 - val_loss: 170.7198 - val_auc_1: 0.6107\n",
            "Epoch 9/20\n",
            "116/116 [==============================] - 1s 8ms/step - loss: 278.2005 - auc_1: 0.6015 - val_loss: 161.7706 - val_auc_1: 0.6615\n",
            "Epoch 10/20\n",
            "116/116 [==============================] - 1s 7ms/step - loss: 258.3879 - auc_1: 0.6084 - val_loss: 301.2998 - val_auc_1: 0.5588\n",
            "Epoch 11/20\n",
            "116/116 [==============================] - 1s 9ms/step - loss: 265.5111 - auc_1: 0.6119 - val_loss: 573.2862 - val_auc_1: 0.4996\n",
            "Epoch 12/20\n",
            "116/116 [==============================] - 1s 9ms/step - loss: 256.3191 - auc_1: 0.6052 - val_loss: 304.8883 - val_auc_1: 0.6128\n",
            "Epoch 13/20\n",
            "116/116 [==============================] - 1s 9ms/step - loss: 268.1956 - auc_1: 0.6033 - val_loss: 245.6378 - val_auc_1: 0.6260\n",
            "Epoch 14/20\n",
            "116/116 [==============================] - 1s 7ms/step - loss: 256.1506 - auc_1: 0.6262 - val_loss: 338.1030 - val_auc_1: 0.5836\n",
            "Epoch 15/20\n",
            "116/116 [==============================] - 1s 8ms/step - loss: 262.0628 - auc_1: 0.6162 - val_loss: 434.8915 - val_auc_1: 0.5349\n",
            "Epoch 16/20\n",
            "116/116 [==============================] - 1s 8ms/step - loss: 252.3908 - auc_1: 0.6272 - val_loss: 322.1724 - val_auc_1: 0.5966\n",
            "Epoch 17/20\n",
            "116/116 [==============================] - 1s 9ms/step - loss: 245.4099 - auc_1: 0.6296 - val_loss: 212.2590 - val_auc_1: 0.6205\n",
            "Epoch 18/20\n",
            "116/116 [==============================] - 1s 8ms/step - loss: 247.4792 - auc_1: 0.6295 - val_loss: 252.2009 - val_auc_1: 0.6463\n",
            "Epoch 19/20\n",
            "116/116 [==============================] - 1s 8ms/step - loss: 229.9768 - auc_1: 0.6331 - val_loss: 272.9915 - val_auc_1: 0.6325\n",
            "Epoch 20/20\n",
            "116/116 [==============================] - 1s 8ms/step - loss: 236.9966 - auc_1: 0.6387 - val_loss: 249.8134 - val_auc_1: 0.6236\n"
          ]
        },
        {
          "output_type": "execute_result",
          "data": {
            "text/plain": [
              "<keras.callbacks.History at 0x7fb02d7c7110>"
            ]
          },
          "metadata": {},
          "execution_count": 18
        }
      ]
    },
    {
      "cell_type": "markdown",
      "metadata": {
        "id": "2easqS-JviIS"
      },
      "source": [
        "### Next, let's evaluate your model's performance!"
      ]
    },
    {
      "cell_type": "code",
      "metadata": {
        "id": "6dSZrUKzGUZ7",
        "colab": {
          "base_uri": "https://localhost:8080/"
        },
        "outputId": "8046ac2a-6af2-4bfe-fb71-575a3ab608a0"
      },
      "source": [
        "y_pred = cnn.predict(X_test)\n",
        "y_pred_proba = cnn.predict_proba(X_test)\n",
        "cnn_cm = model_stats(\"CNN\",y_test,y_pred,y_pred_proba)"
      ],
      "execution_count": null,
      "outputs": [
        {
          "output_type": "stream",
          "name": "stdout",
          "text": [
            "CNN\n",
            "The accuracy of the model is 0.35659\n",
            "The ROC AUC Score of the model is 0.64468\n"
          ]
        }
      ]
    },
    {
      "cell_type": "markdown",
      "metadata": {
        "id": "BVnNteSEvp3x"
      },
      "source": [
        "### Finally, we can plot our confusion matrix below."
      ]
    },
    {
      "cell_type": "code",
      "metadata": {
        "id": "B6DWNF-AGWQr",
        "colab": {
          "base_uri": "https://localhost:8080/",
          "height": 513
        },
        "outputId": "b1200e40-4987-4456-87e3-31ecdbcddfac"
      },
      "source": [
        "plot_cm(\"CNN\", cnn_cm)"
      ],
      "execution_count": null,
      "outputs": [
        {
          "output_type": "display_data",
          "data": {
            "text/plain": [
              "<Figure size 864x576 with 2 Axes>"
            ],
            "image/png": "[encoded data removed]"
          },
          "metadata": {
            "needs_background": "light"
          }
        }
      ]
    },
    {
      "cell_type": "markdown",
      "metadata": {
        "id": "JK-jmPIbELKO"
      },
      "source": [
        "Let's try using a grid search with our CNN. A note to instructors, this section may take a long time to execute so it's better if students come back to this portion on their own time."
      ]
    },
    {
      "cell_type": "markdown",
      "metadata": {
        "id": "vSbd6nVW8qnK"
      },
      "source": [
        "In the variable `param_grid` we can specify which parameters in our CNN we want to modify."
      ]
    },
    {
      "cell_type": "code",
      "metadata": {
        "id": "h9sLO2ozhbEp"
      },
      "source": [
        "param_grid = {\n",
        "              'epochs' :              [10, 20, 30],\n",
        "              'batch_size' :          [32, 64,128],\n",
        "              'layers' :              [1, 3, 5],\n",
        "              'dropout' :             [0.2, 0.3, 0.5],\n",
        "              'activation' :          ['relu', 'elu']\n",
        "             }"
      ],
      "execution_count": null,
      "outputs": []
    },
    {
      "cell_type": "markdown",
      "metadata": {
        "id": "gUZ5HOnoFdur"
      },
      "source": [
        "With this parameter grid we would be training 162 different models! This is because the total number of hyperparameter combinations is calculated as `3 * 3 * 3 * 3 * 2`. For testing out our grid search, let's redefine our parameter grid to just have four possible combinations.\n",
        "\n"
      ]
    },
    {
      "cell_type": "code",
      "metadata": {
        "id": "t3RbPa_cXV90"
      },
      "source": [
        "# Your Code Here\n",
        "\n",
        "\n",
        "\n"
      ],
      "execution_count": null,
      "outputs": []
    },
    {
      "cell_type": "markdown",
      "metadata": {
        "id": "L6O6O1kOzw45"
      },
      "source": [
        "Let's create a validation slice in our dataset."
      ]
    },
    {
      "cell_type": "code",
      "metadata": {
        "id": "Wq58SXMGz21Q"
      },
      "source": [
        "X_test_small, X_val, y_test_small, y_val = train_test_split(X_test, y_test, test_size=0.5, random_state=101)"
      ],
      "execution_count": null,
      "outputs": []
    },
    {
      "cell_type": "markdown",
      "metadata": {
        "id": "YhvYxtNbFASa"
      },
      "source": [
        "Here we've created a class for our Grid Search Classifier that can be used by the hypopt library for generating various models with different hyperparameters."
      ]
    },
    {
      "cell_type": "code",
      "metadata": {
        "id": "qzz_Dod38c09"
      },
      "source": [
        "#@title Run this to Define our Grid Search CNN Class { display-mode: \"form\" }\n",
        "class gridSearchCNN():\n",
        "\n",
        "    keras_model = None\n",
        "    model = Sequential()\n",
        "    #epochs=10\n",
        "    epochs=1\n",
        "    batch_size=10\n",
        "    layers=5\n",
        "    dropout=0.5\n",
        "    activation='relu'\n",
        "\n",
        "    def __init__(self, **params):\n",
        "      pass\n",
        "\n",
        "    def fit(self, X, y, sample_weight = None):\n",
        "        print(\"fitting\")\n",
        "        self.keras_model.fit(X,y)\n",
        "        print(\"fitted\")\n",
        "        return self.keras_model\n",
        "    def predict(self, X):\n",
        "        return self.keras_model.predict(X)\n",
        "    def predict_proba(self, X):\n",
        "        return self.keras_model.predict_proba(X)\n",
        "    def score(self, X, y, sample_weight = None):\n",
        "        print(\"scoring\")\n",
        "        #return self.keras_model.score(X,y)\n",
        "        y_pred_proba = self.keras_model.predict_proba(X)\n",
        "        roc_auc_score_val = roc_auc_score(y, y_pred_proba)\n",
        "        print(\"scored\")\n",
        "        return roc_auc_score_val\n",
        "\n",
        "\n",
        "    def createKerasCNN(self,):\n",
        "\n",
        "      def create_model():\n",
        "        self.model = Sequential()\n",
        "\n",
        "        for i in range(self.layers):\n",
        "          self.model.add(Conv2D(64, (3, 3), padding='same'))\n",
        "          self.model.add(Activation(self.activation))\n",
        "\n",
        "        self.model.add(Conv2D(64, (3, 3)))\n",
        "        self.model.add(Activation(self.activation))\n",
        "        self.model.add(MaxPooling2D(pool_size=(2, 2)))\n",
        "        self.model.add(Dropout(self.dropout / 2.0))\n",
        "\n",
        "        self.model.add(Conv2D(128, (3, 3), padding='same'))\n",
        "        self.model.add(Activation(self.activation))\n",
        "        self.model.add(Conv2D(128, (3, 3)))\n",
        "        self.model.add(Activation(self.activation))\n",
        "        self.model.add(MaxPooling2D(pool_size=(2, 2)))\n",
        "        self.model.add(Dropout(self.dropout / 2.0))\n",
        "\n",
        "        self.model.add(Flatten())\n",
        "        self.model.add(Dense(512))\n",
        "        self.model.add(Activation(self.activation))\n",
        "        self.model.add(Dropout(self.dropout))\n",
        "        self.model.add(Dense(7))\n",
        "        self.model.add(Activation('softmax'))\n",
        "\n",
        "        # initiate RMSprop optimizer\n",
        "        opt = optimizers.RMSprop(learning_rate=0.0001, decay=1e-6)\n",
        "\n",
        "        # Let's train the model using RMSprop\n",
        "        self.model.compile(loss='categorical_crossentropy',\n",
        "                      optimizer=opt,\n",
        "                      metrics=[tf.keras.metrics.AUC()])\n",
        "        return self.model\n",
        "\n",
        "      return KerasClassifier(build_fn=create_model, epochs=self.epochs,\n",
        "                            batch_size=self.batch_size, verbose=2)\n",
        "\n",
        "    def get_params(self, deep = True):\n",
        "        return {\n",
        "            'epochs': self.epochs,\n",
        "            'batch_size': self.batch_size,\n",
        "            'layers': self.layers,\n",
        "            'dropout': self.dropout,\n",
        "            'activation': self.activation\n",
        "            }\n",
        "\n",
        "    def set_params(self, **params):\n",
        "      if 'epochs' in params.keys():\n",
        "        self.epochs = params['epochs']\n",
        "      if 'batch_size' in params.keys():\n",
        "        self.batch_size = params['batch_size']\n",
        "      if 'layers' in params.keys():\n",
        "        self.layers = params['layers']\n",
        "      if 'dropout' in params.keys():\n",
        "        self.dropout = params['dropout']\n",
        "      if 'activation' in params.keys():\n",
        "        self.activation = params['activation']\n",
        "\n",
        "      self.keras_model = self.createKerasCNN()\n",
        "      return self"
      ],
      "execution_count": null,
      "outputs": []
    },
    {
      "cell_type": "markdown",
      "metadata": {
        "id": "KMGPIzKqkOQO"
      },
      "source": [
        "Now let's implement our grid search to identify our optimal model parameters.\n",
        "\n",
        "**Note:** This may take very long to run (around 11 minutes), so it might be a good idea to come back to this later."
      ]
    },
    {
      "cell_type": "code",
      "metadata": {
        "id": "kSdY_2_PvwNd"
      },
      "source": [
        "gs = GridSearch(model=gridSearchCNN(),param_grid=param_grid,parallelize=False)\n",
        "# Your Code Here\n",
        "\n",
        "# End Code\n",
        "y_train_onehot = np.zeros((y_train.size, y_train.max().astype(int)+1))\n",
        "y_train_onehot[np.arange(y_train.size),y_train.astype(int)] = 1\n",
        "\n",
        "y_val_onehot = np.zeros((y_val.size, y_val.max().astype(int)+1))\n",
        "y_val_onehot[np.arange(y_val.size),y_val.astype(int)] = 1"
      ],
      "execution_count": null,
      "outputs": []
    },
    {
      "cell_type": "markdown",
      "metadata": {
        "id": "sov5qvd49gZ1"
      },
      "source": [
        "Let's evaluate our model with our testing dataset."
      ]
    },
    {
      "cell_type": "code",
      "metadata": {
        "id": "qUi61PjX9lS2"
      },
      "source": [
        "# Your Code Here\n",
        "\n",
        "\n"
      ],
      "execution_count": null,
      "outputs": []
    },
    {
      "cell_type": "markdown",
      "metadata": {
        "id": "69xnmWMM-IVp"
      },
      "source": [
        "Let's also plot the confusion matrix."
      ]
    },
    {
      "cell_type": "code",
      "metadata": {
        "id": "MedHDGHE-OLo"
      },
      "source": [
        "# Your Code Here\n"
      ],
      "execution_count": null,
      "outputs": []
    },
    {
      "cell_type": "markdown",
      "metadata": {
        "id": "VxzSJIvvhC_I"
      },
      "source": [
        "#Transfer Learning\n",
        "\n",
        "Now, let's try implementing *transfer learning.* This a form of machine learning where we take an existing pre-trained network and modify the weights for the top level neurons by training on our dataset. Here, we'll use the MobileNet model as a basis for our model."
      ]
    },
    {
      "cell_type": "code",
      "metadata": {
        "id": "m_JkoWrRwJms"
      },
      "source": [
        "def transfer_learning_model():\n",
        "  mobilenet_model = MobileNet(input_shape=(IMG_HEIGHT,IMG_WIDTH,3), include_top=False, pooling=\"max\")\n",
        "\n",
        "  transfer_model = Sequential()\n",
        "  transfer_model.add(mobilenet_model)\n",
        "  transfer_model.add(Dropout(0.1))\n",
        "  transfer_model.add(BatchNormalization())\n",
        "  transfer_model.add(Dense(256, activation=\"relu\"))\n",
        "  transfer_model.add(Dropout(0.1))\n",
        "  transfer_model.add(BatchNormalization())\n",
        "  transfer_model.add(Dense(7, activation=\"softmax\"))\n",
        "\n",
        "  # initiate RMSprop optimizer\n",
        "  opt = optimizers.RMSprop(learning_rate=0.0001, decay=1e-6)\n",
        "\n",
        "  # Let's train the model using RMSprop\n",
        "  transfer_model.compile(loss='categorical_crossentropy',\n",
        "                optimizer=opt,\n",
        "                metrics=[tf.keras.metrics.AUC()])\n",
        "\n",
        "  return transfer_model"
      ],
      "execution_count": null,
      "outputs": []
    },
    {
      "cell_type": "markdown",
      "metadata": {
        "id": "p31AQxYW_rhq"
      },
      "source": [
        "We no longer need the validation dataset as we aren't tweaking any hyperparameters anymore, so we can use our original, bigger `X_test` dataset that includes the validation data."
      ]
    },
    {
      "cell_type": "markdown",
      "metadata": {
        "id": "yInf5HpxGlvR"
      },
      "source": [
        "Let's confirm that our training and testing variables are the right shapes. Once again, we'll use the one-hot encoded variables for the output: `y_test_roc` and `y_train_roc`."
      ]
    },
    {
      "cell_type": "markdown",
      "metadata": {
        "id": "y000oRyf-yRy"
      },
      "source": [
        "Let's define our `transfer_model` and train it below!"
      ]
    },
    {
      "cell_type": "code",
      "metadata": {
        "id": "T0NmNz5L_Rku",
        "colab": {
          "base_uri": "https://localhost:8080/"
        },
        "outputId": "720532d3-8308-4b21-daa2-da737e29bd35"
      },
      "source": [
        "transfer_model = KerasClassifier(build_fn=transfer_learning_model, verbose=1, epochs=20)\n",
        "# Your Code Here\n",
        "y_train_roc = transfer_model.fit(X_train, y_train)\n",
        "y_test_roc = transfer_model.predict(X_test)"
      ],
      "execution_count": null,
      "outputs": [
        {
          "output_type": "stream",
          "name": "stdout",
          "text": [
            "WARNING:tensorflow:`input_shape` is undefined or non-square, or `rows` is not in [128, 160, 192, 224]. Weights for input shape (224, 224) will be loaded as the default.\n"
          ]
        },
        {
          "output_type": "stream",
          "name": "stderr",
          "text": [
            "/usr/local/lib/python3.7/dist-packages/ipykernel_launcher.py:1: DeprecationWarning: KerasClassifier is deprecated, use Sci-Keras (https://github.com/adriangb/scikeras) instead. See https://www.adriangb.com/scikeras/stable/migration.html for help migrating.\n",
            "  \"\"\"Entry point for launching an IPython kernel.\n"
          ]
        },
        {
          "output_type": "stream",
          "name": "stdout",
          "text": [
            "Epoch 1/20\n",
            "37/37 [==============================] - 7s 37ms/step - loss: 1.8588 - auc_7: 0.7262\n",
            "Epoch 2/20\n",
            "37/37 [==============================] - 1s 33ms/step - loss: 0.9989 - auc_7: 0.9153\n",
            "Epoch 3/20\n",
            "37/37 [==============================] - 1s 33ms/step - loss: 0.5945 - auc_7: 0.9725\n",
            "Epoch 4/20\n",
            "37/37 [==============================] - 1s 33ms/step - loss: 0.4063 - auc_7: 0.9890\n",
            "Epoch 5/20\n",
            "37/37 [==============================] - 1s 33ms/step - loss: 0.2756 - auc_7: 0.9951\n",
            "Epoch 6/20\n",
            "37/37 [==============================] - 1s 33ms/step - loss: 0.1838 - auc_7: 0.9983\n",
            "Epoch 7/20\n",
            "37/37 [==============================] - 1s 32ms/step - loss: 0.1406 - auc_7: 0.9989\n",
            "Epoch 8/20\n",
            "37/37 [==============================] - 1s 34ms/step - loss: 0.1006 - auc_7: 0.9991\n",
            "Epoch 9/20\n",
            "37/37 [==============================] - 1s 33ms/step - loss: 0.0740 - auc_7: 0.9996\n",
            "Epoch 10/20\n",
            "37/37 [==============================] - 1s 33ms/step - loss: 0.0559 - auc_7: 0.9998\n",
            "Epoch 11/20\n",
            "37/37 [==============================] - 1s 33ms/step - loss: 0.0412 - auc_7: 1.0000\n",
            "Epoch 12/20\n",
            "37/37 [==============================] - 1s 33ms/step - loss: 0.0331 - auc_7: 1.0000\n",
            "Epoch 13/20\n",
            "37/37 [==============================] - 1s 33ms/step - loss: 0.0327 - auc_7: 0.9999\n",
            "Epoch 14/20\n",
            "37/37 [==============================] - 1s 33ms/step - loss: 0.0260 - auc_7: 1.0000\n",
            "Epoch 15/20\n",
            "37/37 [==============================] - 1s 33ms/step - loss: 0.0262 - auc_7: 1.0000\n",
            "Epoch 16/20\n",
            "37/37 [==============================] - 1s 33ms/step - loss: 0.0307 - auc_7: 1.0000\n",
            "Epoch 17/20\n",
            "37/37 [==============================] - 1s 33ms/step - loss: 0.0157 - auc_7: 1.0000\n",
            "Epoch 18/20\n",
            "37/37 [==============================] - 1s 33ms/step - loss: 0.0171 - auc_7: 1.0000\n",
            "Epoch 19/20\n",
            "37/37 [==============================] - 1s 33ms/step - loss: 0.0272 - auc_7: 1.0000\n",
            "Epoch 20/20\n",
            "37/37 [==============================] - 1s 33ms/step - loss: 0.0216 - auc_7: 0.9995\n"
          ]
        }
      ]
    },
    {
      "cell_type": "markdown",
      "metadata": {
        "id": "rAQXleqU_DEy"
      },
      "source": [
        "Let's also observe its performance:"
      ]
    },
    {
      "cell_type": "code",
      "metadata": {
        "id": "Qmemnv5RDf4_"
      },
      "source": [
        "# Your Code Here\n",
        "accuracy = accuracy_score()\n",
        "\n"
      ],
      "execution_count": null,
      "outputs": []
    },
    {
      "cell_type": "markdown",
      "metadata": {
        "id": "fcjLUgpa_E-e"
      },
      "source": [
        "Let's take a look at the confusion matrix."
      ]
    },
    {
      "cell_type": "code",
      "metadata": {
        "id": "-n_p4h60ADL1"
      },
      "source": [
        "# Your Code Here\n"
      ],
      "execution_count": null,
      "outputs": []
    },
    {
      "cell_type": "markdown",
      "metadata": {
        "id": "l5fUPqfuAhoE"
      },
      "source": [
        "Great, looks like this model performed the best! **Question:** Why would that be?"
      ]
    },
    {
      "cell_type": "code",
      "metadata": {
        "id": "XjPeKGhNAnj6"
      },
      "source": [
        "# Your Response Here\n",
        "\n",
        "\n"
      ],
      "execution_count": null,
      "outputs": []
    },
    {
      "cell_type": "markdown",
      "metadata": {
        "id": "AYNCn41kApnl"
      },
      "source": [
        "Now that we've created our model, let's save it to a file we can load up later."
      ]
    },
    {
      "cell_type": "code",
      "metadata": {
        "id": "dtGN1E9tN2A0",
        "colab": {
          "base_uri": "https://localhost:8080/",
          "height": 169
        },
        "outputId": "8fec37fd-90fa-49b2-e434-58e59eae3a01"
      },
      "source": [
        "tfjs.converters.save_keras_model(transfer_model.model, 'transfer_model')"
      ],
      "execution_count": null,
      "outputs": [
        {
          "output_type": "error",
          "ename": "AttributeError",
          "evalue": "ignored",
          "traceback": [
            "\u001b[0;31m---------------------------------------------------------------------------\u001b[0m",
            "\u001b[0;31mAttributeError\u001b[0m                            Traceback (most recent call last)",
            "\u001b[0;32m<ipython-input-33-2fa4ed9b480b>\u001b[0m in \u001b[0;36m<module>\u001b[0;34m()\u001b[0m\n\u001b[0;32m----> 1\u001b[0;31m \u001b[0mtfjs\u001b[0m\u001b[0;34m.\u001b[0m\u001b[0mconverters\u001b[0m\u001b[0;34m.\u001b[0m\u001b[0msave_keras_model\u001b[0m\u001b[0;34m(\u001b[0m\u001b[0mtransfer_model\u001b[0m\u001b[0;34m.\u001b[0m\u001b[0mmodel\u001b[0m\u001b[0;34m,\u001b[0m \u001b[0;34m'transfer_model'\u001b[0m\u001b[0;34m)\u001b[0m\u001b[0;34m\u001b[0m\u001b[0;34m\u001b[0m\u001b[0m\n\u001b[0m",
            "\u001b[0;31mAttributeError\u001b[0m: 'KerasClassifier' object has no attribute 'model'"
          ]
        }
      ]
    },
    {
      "cell_type": "markdown",
      "metadata": {
        "id": "v6v4v5r8Dw0j"
      },
      "source": [
        " Now, the model should be saved to your computer through your browser. Unfortunately, tensorflowjs doesn't support this version of MobileNet, so we'll have to use our first CNN model for the website deployment."
      ]
    },
    {
      "cell_type": "markdown",
      "metadata": {
        "id": "IIwaTfNvDXo0"
      },
      "source": [
        "Great work! We've just developed various ML models to perform classification on our skin lesion dataset! Now, our next step is to package this model into a mobile application. Run the code cell below."
      ]
    },
    {
      "cell_type": "code",
      "metadata": {
        "id": "CX6OKDjzyvVP"
      },
      "source": [
        "!zip -r ./cnn_model.zip ./cnn_model/"
      ],
      "execution_count": null,
      "outputs": []
    },
    {
      "cell_type": "markdown",
      "metadata": {
        "id": "on_CQSbjPSZJ"
      },
      "source": [
        "After the line of code above finishes executing, click on the folder icon on the left, click the three dots to the left of ```cnn_model.zip```, and download it to your computer. Downloading might take a while! If you choose to deploy your model on the web, you'll be uploading this file to colab notebook 2b so that you can deploy our first CNN model!"
      ]
    }
  ]
}