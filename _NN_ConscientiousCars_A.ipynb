{
  "nbformat": 4,
  "nbformat_minor": 0,
  "metadata": {
    "colab": {
      "provenance": []
    },
    "kernelspec": {
      "name": "python3",
      "display_name": "Python 3"
    },
    "accelerator": "GPU"
  },
  "cells": [
    {
      "cell_type": "markdown",
      "metadata": {
        "id": "TiM6gYg0nhkY"
      },
      "source": [
        "<font color=\"#de3023\"><h1><b>MAKE A COPY OF THIS NOTEBOOK SO YOUR EDITS ARE SAVED</b></h1></font>"
      ]
    },
    {
      "cell_type": "markdown",
      "metadata": {
        "id": "Sq-JhCcLpBwS"
      },
      "source": [
        "\n",
        "We work for CC: ConscientiousCars, where we help self-driving vehicles be more conscientious of their surroundings. Our cars have been very good at recognizing and avoiding humans. They haven't, however, been capable of recognizing dogs. Since dogs are man's best friend and will always be where we humans are, we want our cars to know if a dog is on the road in front of them and avoid the dog!\n",
        "\n",
        "The first step to avoiding these cute puppies is **knowing if a puppy is in front of the car**. So today we will **build a detector that can tell when our car sees a dog or not**!\n",
        "\n"
      ]
    },
    {
      "cell_type": "code",
      "metadata": {
        "id": "uhNVum16scIW"
      },
      "source": [
        "#@title Run this to load some packages and data! { display-mode: \"form\" }\n",
        "from sklearn.neural_network import MLPClassifier\n",
        "from sklearn.neighbors import KNeighborsClassifier\n",
        "from sklearn import model_selection\n",
        "from sklearn.metrics import accuracy_score\n",
        "from collections import Counter\n",
        "import tensorflow.keras as keras\n",
        "from keras.models import Sequential\n",
        "from keras.layers import Dense, Conv2D\n",
        "from keras.layers import Activation, MaxPooling2D, Dropout, Flatten, Reshape\n",
        "from keras.wrappers.scikit_learn import KerasClassifier\n",
        "from sklearn.model_selection import StratifiedKFold\n",
        "from sklearn.model_selection import cross_val_score\n",
        "import numpy as np\n",
        "import pandas as pd\n",
        "import seaborn as sns\n",
        "import matplotlib.pyplot as plt\n",
        "\n",
        "import warnings\n",
        "warnings.filterwarnings(\"ignore\", category=UserWarning)\n",
        "\n",
        "\n",
        "def categorical_to_numpy(labels_in):\n",
        "  labels = []\n",
        "  for label in labels_in:\n",
        "    if label == 'dog':\n",
        "      labels.append(np.array([1, 0]))\n",
        "    else:\n",
        "      labels.append(np.array([0, 1]))\n",
        "  return np.array(labels)\n",
        "\n",
        "def one_hot_encoding(input):\n",
        "  output = np.array(input)\n",
        "  output = np.zeros((input.size, input.max()+1))\n",
        "  output[np.arange(input.size),input] = 1\n",
        "\n",
        "  return output\n",
        "\n",
        "\n",
        "def load_data():\n",
        "  # Run this cell to download our data into a file called 'cifar_data'\n",
        "  !wget -O cifar_data https://storage.googleapis.com/inspirit-ai-data-bucket-1/Data/AI%20Scholars/Sessions%201%20-%205/Session%204%20_%205%20-%20Neural%20Networks%20_%20CNN/dogs_v_roads\n",
        "\n",
        "  # now load the data from our cloud computer\n",
        "  import pickle\n",
        "  data_dict = pickle.load(open( \"cifar_data\", \"rb\" ));\n",
        "\n",
        "  data   = data_dict['data']\n",
        "  labels = data_dict['labels']\n",
        "\n",
        "  return data, labels\n",
        "\n",
        "def plot_one_image(data, labels, img_idx):\n",
        "  from google.colab.patches import cv2_imshow\n",
        "  import cv2\n",
        "  import matplotlib.pyplot as plt\n",
        "  my_img   = data[img_idx, :].squeeze().reshape([32,32,3]).copy()\n",
        "  my_label = labels[img_idx]\n",
        "  print('label: %s'%my_label)\n",
        "  fig, ax = plt.subplots(1,1)\n",
        "\n",
        "  img = ax.imshow(my_img, extent=[-1,1,-1,1])\n",
        "\n",
        "  x_label_list = [0, 8, 16, 24, 32]\n",
        "  y_label_list = [0, 8, 16, 24, 32]\n",
        "\n",
        "  ax.set_xticks([-1, -0.5, 0, 0.5, 1])\n",
        "  ax.set_yticks([-1, -0.5, 0, 0.5, 1])\n",
        "\n",
        "  ax.set_xticklabels(x_label_list)\n",
        "  ax.set_yticklabels(y_label_list)\n",
        "\n",
        "  fig.show(img)\n",
        "\n",
        "def CNNClassifier(num_epochs=30, layers=4, dropout=0.5):\n",
        "  def create_model():\n",
        "    model = Sequential()\n",
        "    model.add(Reshape((32, 32, 3)))\n",
        "\n",
        "    for i in range(layers):\n",
        "      model.add(Conv2D(32, (3, 3), padding='same'))\n",
        "      model.add(Activation('relu'))\n",
        "\n",
        "    model.add(Conv2D(32, (3, 3)))\n",
        "    model.add(Activation('relu'))\n",
        "    model.add(MaxPooling2D(pool_size=(2, 2)))\n",
        "    model.add(Dropout(dropout))\n",
        "\n",
        "    model.add(Conv2D(64, (3, 3), padding='same'))\n",
        "    model.add(Activation('relu'))\n",
        "    model.add(Conv2D(64, (3, 3)))\n",
        "    model.add(Activation('relu'))\n",
        "    model.add(MaxPooling2D(pool_size=(2, 2)))\n",
        "    model.add(Dropout(dropout))\n",
        "\n",
        "    model.add(Flatten())\n",
        "    model.add(Dense(512))\n",
        "    model.add(Activation('relu'))\n",
        "    model.add(Dropout(dropout))\n",
        "    model.add(Dense(2))\n",
        "    model.add(Activation('softmax'))\n",
        "\n",
        "    # initiate RMSprop optimizer\n",
        "    opt = keras.optimizers.RMSprop(learning_rate=0.0001, decay=1e-6)\n",
        "\n",
        "    # Let's train the model using RMSprop\n",
        "    model.compile(loss='categorical_crossentropy',\n",
        "                  optimizer=opt,\n",
        "                  metrics=['accuracy'])\n",
        "    return model\n",
        "  return KerasClassifier(build_fn=create_model, epochs=num_epochs, batch_size=10, verbose=2)\n",
        "\n",
        "def plot_acc(history, ax = None, xlabel = 'Epoch #'):\n",
        "    history = history.history\n",
        "    history.update({'epoch':list(range(len(history['val_accuracy'])))})\n",
        "    history = pd.DataFrame.from_dict(history)\n",
        "\n",
        "    best_epoch = history.sort_values(by = 'val_accuracy', ascending = False).iloc[0]['epoch']\n",
        "\n",
        "    if not ax:\n",
        "      f, ax = plt.subplots(1,1)\n",
        "    sns.lineplot(x = 'epoch', y = 'val_accuracy', data = history, label = 'Validation', ax = ax)\n",
        "    sns.lineplot(x = 'epoch', y = 'accuracy', data = history, label = 'Training', ax = ax)\n",
        "    ax.axhline(0.5, linestyle = '--',color='red', label = 'Chance')\n",
        "    ax.axvline(x = best_epoch, linestyle = '--', color = 'green', label = 'Best Epoch')\n",
        "    ax.legend(loc = 7)\n",
        "    ax.set_ylim([0.4, 1])\n",
        "\n",
        "    ax.set_xlabel(xlabel)\n",
        "    ax.set_ylabel('Accuracy (Fraction)')\n",
        "\n",
        "    plt.show()"
      ],
      "execution_count": null,
      "outputs": []
    },
    {
      "cell_type": "markdown",
      "metadata": {
        "id": "EsGDD5lvQoBZ"
      },
      "source": [
        "In this notebook, you'll:\n",
        "- Explore the cars vs. roads dataset\n",
        "- Train a simple K-neighbors classifier for computer vision\n",
        "- Train neural nets to tell dogs from roads\n",
        "- Improve your model with convolutional neural networks!\n",
        "- (Optional challenge) Use a saliency map to implement explainable AI"
      ]
    },
    {
      "cell_type": "markdown",
      "metadata": {
        "id": "1QxGsnvhnn8R"
      },
      "source": [
        "# Understanding our data"
      ]
    },
    {
      "cell_type": "markdown",
      "metadata": {
        "id": "btr24O6Hqgo6"
      },
      "source": [
        "Our cars are very attentive and always have their eyes on the road.\n",
        "\n",
        "Every second, they're streaming in data about the street, including video.\n",
        "\n",
        "From this video data, we want our car to tell: is there 'road' or 'dog' in front of it?\n",
        "\n",
        "Lucky for us, we have a dataset of dog and road images already prepared! Let's start by reading that *labeled* data in.\n"
      ]
    },
    {
      "cell_type": "code",
      "metadata": {
        "id": "MmZbrZoKnthN",
        "colab": {
          "base_uri": "https://localhost:8080/"
        },
        "outputId": "39c040d6-38fd-4129-b54d-c6ab268ce25a"
      },
      "source": [
        "# load our data\n",
        "data, labels = load_data()"
      ],
      "execution_count": null,
      "outputs": [
        {
          "output_type": "stream",
          "name": "stdout",
          "text": [
            "--2022-06-19 16:20:16--  https://storage.googleapis.com/inspirit-ai-data-bucket-1/Data/AI%20Scholars/Sessions%201%20-%205/Session%204%20_%205%20-%20Neural%20Networks%20_%20CNN/dogs_v_roads\n",
            "Resolving storage.googleapis.com (storage.googleapis.com)... 142.251.12.128, 172.217.194.128, 142.250.4.128, ...\n",
            "Connecting to storage.googleapis.com (storage.googleapis.com)|142.251.12.128|:443... connected.\n",
            "HTTP request sent, awaiting response... 200 OK\n",
            "Length: 3689015 (3.5M) [application/octet-stream]\n",
            "Saving to: ‘cifar_data’\n",
            "\n",
            "\rcifar_data            0%[                    ]       0  --.-KB/s               \rcifar_data          100%[===================>]   3.52M  --.-KB/s    in 0.02s   \n",
            "\n",
            "2022-06-19 16:20:16 (152 MB/s) - ‘cifar_data’ saved [3689015/3689015]\n",
            "\n"
          ]
        }
      ]
    },
    {
      "cell_type": "markdown",
      "metadata": {
        "id": "AGO0FFnqdFne"
      },
      "source": [
        "Let's look at an image of a dog!\n",
        "\n",
        "Try changing the number below. What does it do?\n",
        "\n"
      ]
    },
    {
      "cell_type": "code",
      "metadata": {
        "id": "csXB_FPMrx1D",
        "colab": {
          "base_uri": "https://localhost:8080/",
          "height": 287
        },
        "outputId": "344f2170-f87f-4ead-cd8e-31e28cba458b"
      },
      "source": [
        "plot_one_image(data, labels, 400) #change this number"
      ],
      "execution_count": null,
      "outputs": [
        {
          "output_type": "stream",
          "name": "stdout",
          "text": [
            "label: dog\n"
          ]
        },
        {
          "output_type": "display_data",
          "data": {
            "text/plain": [
              "<Figure size 432x288 with 1 Axes>"
            ],
            "image/png": "[encoded data removed]"
          },
          "metadata": {
            "needs_background": "light"
          }
        }
      ]
    },
    {
      "cell_type": "markdown",
      "metadata": {
        "id": "ZYRzHTxVdSTG"
      },
      "source": [
        "**Discuss:** Why might we be using such blurry images?\n",
        "\n",
        "Next, let's try a road image. Again, try changing the number:"
      ]
    },
    {
      "cell_type": "code",
      "metadata": {
        "id": "CsRj6BAqs25Y",
        "colab": {
          "base_uri": "https://localhost:8080/",
          "height": 287
        },
        "outputId": "52a13132-918d-4ee1-cb64-92a1c31055d8"
      },
      "source": [
        "plot_one_image(data, labels, 700) #change this number"
      ],
      "execution_count": null,
      "outputs": [
        {
          "output_type": "stream",
          "name": "stdout",
          "text": [
            "label: road\n"
          ]
        },
        {
          "output_type": "display_data",
          "data": {
            "text/plain": [
              "<Figure size 432x288 with 1 Axes>"
            ],
            "image/png": "[encoded data removed]"
          },
          "metadata": {
            "needs_background": "light"
          }
        }
      ]
    },
    {
      "cell_type": "markdown",
      "metadata": {
        "id": "r0Qx4UYxdbTK"
      },
      "source": [
        "How many images do we have?"
      ]
    },
    {
      "cell_type": "code",
      "metadata": {
        "id": "6LQXCiGmAmz-",
        "colab": {
          "base_uri": "https://localhost:8080/"
        },
        "outputId": "ab7c0eba-6e07-43d9-c30b-16da5c549b75"
      },
      "source": [
        "print (len(data))\n",
        "print(Counter(labels))"
      ],
      "execution_count": null,
      "outputs": [
        {
          "output_type": "stream",
          "name": "stdout",
          "text": [
            "1200\n",
            "Counter({'dog': 600, 'road': 600})\n"
          ]
        }
      ]
    },
    {
      "cell_type": "markdown",
      "metadata": {
        "id": "OojOPMbLAl2B"
      },
      "source": [
        "The dataset is organized such that there are 600 images of dogs and 600 images of roads."
      ]
    },
    {
      "cell_type": "markdown",
      "metadata": {
        "id": "9Sz2c5LlU7Sj"
      },
      "source": [
        "#### Optional Exercise: Examining More Images\n",
        "\n",
        "**Look at a few more images of both classes.**\n",
        "\n",
        "Try using a `for` loop to look at 5 images!"
      ]
    },
    {
      "cell_type": "code",
      "metadata": {
        "id": "DkcqdB2ZVoNc",
        "colab": {
          "base_uri": "https://localhost:8080/",
          "height": 1000
        },
        "outputId": "1015c95f-5356-4d02-a664-2109f7050ade"
      },
      "source": [
        "### YOUR CODE HERE\n",
        "from random import randint\n",
        "for i in range(5):\n",
        "  plot_one_image(data, labels, randint(0,1200))\n",
        "\n",
        "### END CODE"
      ],
      "execution_count": null,
      "outputs": [
        {
          "output_type": "stream",
          "name": "stdout",
          "text": [
            "label: road\n",
            "label: dog\n",
            "label: dog\n",
            "label: dog\n",
            "label: dog\n"
          ]
        },
        {
          "output_type": "display_data",
          "data": {
            "text/plain": [
              "<Figure size 432x288 with 1 Axes>"
            ],
            "image/png": "[encoded data removed]"
          },
          "metadata": {
            "needs_background": "light"
          }
        },
        {
          "output_type": "display_data",
          "data": {
            "text/plain": [
              "<Figure size 432x288 with 1 Axes>"
            ],
            "image/png": "[encoded data removed]"
          },
          "metadata": {
            "needs_background": "light"
          }
        },
        {
          "output_type": "display_data",
          "data": {
            "text/plain": [
              "<Figure size 432x288 with 1 Axes>"
            ],
            "image/png": "[encoded data removed]"
          },
          "metadata": {
            "needs_background": "light"
          }
        },
        {
          "output_type": "display_data",
          "data": {
            "text/plain": [
              "<Figure size 432x288 with 1 Axes>"
            ],
            "image/png": "[encoded data removed]"
          },
          "metadata": {
            "needs_background": "light"
          }
        },
        {
          "output_type": "display_data",
          "data": {
            "text/plain": [
              "<Figure size 432x288 with 1 Axes>"
            ],
            "image/png": "[encoded data removed]"
          },
          "metadata": {
            "needs_background": "light"
          }
        }
      ]
    },
    {
      "cell_type": "markdown",
      "metadata": {
        "id": "PHS0E_3wt0RS"
      },
      "source": [
        "##Understanding our Data Representation\n",
        "\n",
        "In an image each pixel is denoted by 3 numbers that represent the intensity value of that pixel (0 - 255) for each color channel (R, G, and B). Below we\n",
        "see a list of numbers for each image that represent the intensity values.\n"
      ]
    },
    {
      "cell_type": "code",
      "metadata": {
        "id": "DlgF6jWit9jz",
        "colab": {
          "base_uri": "https://localhost:8080/"
        },
        "outputId": "8c158644-9e8c-4e84-e75c-2ace379ee24b"
      },
      "source": [
        "print('One image looks like: ')\n",
        "print(data[0])\n",
        "print(\"Length of list: \", len(data[0]))"
      ],
      "execution_count": null,
      "outputs": [
        {
          "output_type": "stream",
          "name": "stdout",
          "text": [
            "One image looks like: \n",
            "[45 20 19 ... 83 99 31]\n",
            "Length of list:  3072\n"
          ]
        }
      ]
    },
    {
      "cell_type": "markdown",
      "metadata": {
        "id": "gPu7IDsZU_On"
      },
      "source": [
        "**Discuss:** What does each number mean? Can you explain the length of the list?"
      ]
    },
    {
      "cell_type": "code",
      "metadata": {
        "id": "YWBX6fWUui4R",
        "colab": {
          "base_uri": "https://localhost:8080/"
        },
        "outputId": "87b06e27-a4d4-4207-a80c-ce81c3c3a4cd"
      },
      "source": [
        "#@title Exercise: Fill in the correct values for each image's height, width, and number of color channels:\n",
        "\n",
        "img_height =  32#@param {type:\"integer\"}\n",
        "img_width =  32#@param {type:\"integer\"}\n",
        "color_channels =  3#@param {type:\"integer\"}\n",
        "\n",
        "if img_height == 32 and img_width == 32 and color_channels == 3:\n",
        "  print(\"Correct!\")\n",
        "  print (\"Each image is\", img_height, 'x', img_width, 'pixels.')\n",
        "  print (\"Each pixel has\", color_channels, \"channels for red, green, blue.\")\n",
        "  print (\"This gives a total of\", img_height * img_width * color_channels, \"intensity values per image.\")\n",
        "else:\n",
        "  print(\"Those aren't quite the values.\")\n",
        "  print(\"Your values give a total of\", img_height * img_width * color_channels, \"intensity values per image.\")\n",
        "  print(\"Discuss with your group and try again!\")\n",
        "\n"
      ],
      "execution_count": null,
      "outputs": [
        {
          "output_type": "stream",
          "name": "stdout",
          "text": [
            "Correct!\n",
            "Each image is 32 x 32 pixels.\n",
            "Each pixel has 3 channels for red, green, blue.\n",
            "This gives a total of 3072 intensity values per image.\n"
          ]
        }
      ]
    },
    {
      "cell_type": "markdown",
      "metadata": {
        "id": "-haNvnOwt-YE"
      },
      "source": [
        "We use these values as **inputs** to predict an **output** label: 'dog' or 'road'!\n",
        "\n",
        "Here's what our entire dataset looks like:"
      ]
    },
    {
      "cell_type": "code",
      "metadata": {
        "id": "JZIiCuBrvS6z",
        "colab": {
          "base_uri": "https://localhost:8080/"
        },
        "outputId": "178e8c4e-c088-48b8-8ac1-e4ee10357245"
      },
      "source": [
        "print ('Data shape:', data.shape)\n",
        "print ('Data:', data)"
      ],
      "execution_count": null,
      "outputs": [
        {
          "output_type": "stream",
          "name": "stdout",
          "text": [
            "Data shape: (1200, 3072)\n",
            "Data: [[ 45  20  19 ...  83  99  31]\n",
            " [101 114  35 ... 155 134  91]\n",
            " [213 221 221 ... 139  58  47]\n",
            " ...\n",
            " [126 174 202 ... 124 128 129]\n",
            " [191 232 240 ...  74  93  81]\n",
            " [237 248 254 ...  45  56  10]]\n"
          ]
        }
      ]
    },
    {
      "cell_type": "markdown",
      "metadata": {
        "id": "tUjr5CKnhvtg"
      },
      "source": [
        "#A Simple Machine Learner"
      ]
    },
    {
      "cell_type": "markdown",
      "metadata": {
        "id": "hPskDCqlzOEE"
      },
      "source": [
        "We want to create a machine learning model that can tell us whether a new image is either a dog or a road.\n",
        "\n",
        "We will give our model a training manual of data and labels that it will study or train on.\n",
        "\n",
        "We then check how well our model is doing on a test, where it is given data and told to predict their labels.\n"
      ]
    },
    {
      "cell_type": "markdown",
      "metadata": {
        "id": "S0tDoNWFVVYB"
      },
      "source": [
        "##Building a KNN##"
      ]
    },
    {
      "cell_type": "markdown",
      "metadata": {
        "id": "Q8_JZ9PVzKzr"
      },
      "source": [
        "Let's start by using the `KNeighborsClassifier` model.\n",
        "\n",
        "**Playground:** Explore [this demo](http://vision.stanford.edu/teaching/cs231n-demos/knn/) to understand what the KNN model is doing!\n",
        "\n",
        "**Exercise:** Below, please build, train, and measure the accuracy of your own KNN model. Experiment with changing the number of neighbors!\n"
      ]
    },
    {
      "cell_type": "code",
      "metadata": {
        "id": "ZFOgS2VEyTkH",
        "colab": {
          "base_uri": "https://localhost:8080/"
        },
        "outputId": "0fc3fd4d-6f29-4c39-bcc2-21e9014b60d5"
      },
      "source": [
        "X_train, X_test, y_train, y_test = model_selection.train_test_split(data, labels, test_size=0.2, random_state=1)\n",
        "### YOUR CODE HERE\n",
        "\n",
        "# Initialize our model\n",
        "knn_model = KNeighborsClassifier(n_neighbors = 3) # Change this!\n",
        "\n",
        "# Train our model\n",
        "knn_model.fit(X_train, y_train)\n",
        "# Test our model\n",
        "y_pred = knn_model.predict(X_test)\n",
        "# Print the score on the testing data\n",
        "print(accuracy_score(y_test, y_pred))\n",
        "### END CODE"
      ],
      "execution_count": null,
      "outputs": [
        {
          "output_type": "stream",
          "name": "stdout",
          "text": [
            "0.8\n"
          ]
        }
      ]
    },
    {
      "cell_type": "markdown",
      "metadata": {
        "id": "x1ZgBtyIHYr7"
      },
      "source": [
        "**(Optional):** After you've built your KNN model, remove ```random_state=1``` and re-run the cells above. How does removing ```random_state=1``` affect your accuracy? Why?"
      ]
    },
    {
      "cell_type": "markdown",
      "metadata": {
        "id": "uU48O9l18_-C"
      },
      "source": [
        "##Predicting on images\n",
        "\n",
        "We can use our trained model to predict whether our car is seeing a `dog` or `road`. Let's try this out - experiment with different images!\n"
      ]
    },
    {
      "cell_type": "code",
      "metadata": {
        "id": "Az1_moLl9E0B",
        "colab": {
          "base_uri": "https://localhost:8080/",
          "height": 305
        },
        "outputId": "fe5b36ea-4303-4f00-cb34-261018633c2f"
      },
      "source": [
        "# Specify which image you want to show\n",
        "image_id = 19 #Change this!\n",
        "\n",
        "# Visualize the image\n",
        "plot_one_image(X_test, y_test, image_id)\n",
        "\n",
        "# Use the model to predict what this might be and print it\n",
        "print('prediction:', knn_model.predict([X_test[image_id]])[0])"
      ],
      "execution_count": null,
      "outputs": [
        {
          "output_type": "stream",
          "name": "stdout",
          "text": [
            "label: dog\n",
            "prediction: road\n"
          ]
        },
        {
          "output_type": "display_data",
          "data": {
            "text/plain": [
              "<Figure size 432x288 with 1 Axes>"
            ],
            "image/png": "[encoded data removed]"
          },
          "metadata": {
            "needs_background": "light"
          }
        }
      ]
    },
    {
      "cell_type": "markdown",
      "metadata": {
        "id": "4oW_Wb-1CTfB"
      },
      "source": [
        "## Choosing a value of k\n",
        "\n",
        "**Exercise** Determine the optimal value of \"K\" for our data. Use a for-loop to loop through different values of \"K\". In particular, *at the very least* try K = 1, 3, 5, 10, 20, and 30. For each of these values of \"K\", define a new KNN model, train it, and evaluate the accuracy."
      ]
    },
    {
      "cell_type": "code",
      "metadata": {
        "id": "OrZK_qoAZOAd",
        "colab": {
          "base_uri": "https://localhost:8080/"
        },
        "outputId": "77435cce-f848-4ca8-835e-536dba201aa2"
      },
      "source": [
        "### YOUR CODE HERE\n",
        "\n",
        "for k in [1,3,5,10,20,30]:\n",
        "  knn_model.fit(X_train, y_train)\n",
        "  y_pred = knn_model.predict(X_test)\n",
        "  print(\"Accuracy is \" + str(accuracy_score(y_test, y_pred)))\n",
        "  print(\"K is \" +  str(k))\n",
        "### END CODE"
      ],
      "execution_count": null,
      "outputs": [
        {
          "output_type": "stream",
          "name": "stdout",
          "text": [
            "Accuracy is 0.8\n",
            "K is 1\n",
            "Accuracy is 0.8\n",
            "K is 3\n",
            "Accuracy is 0.8\n",
            "K is 5\n",
            "Accuracy is 0.8\n",
            "K is 10\n",
            "Accuracy is 0.8\n",
            "K is 20\n",
            "Accuracy is 0.8\n",
            "K is 30\n"
          ]
        }
      ]
    },
    {
      "cell_type": "markdown",
      "metadata": {
        "id": "AZ9uYgKMCX-z"
      },
      "source": [
        "**Discuss:** What are the advantages and disadvantages of using a bigger vs. smaller **k**? What is the optimal value?"
      ]
    },
    {
      "cell_type": "markdown",
      "metadata": {
        "id": "j09evSD_YfJ4"
      },
      "source": [
        "## (Optional) Understanding our mistakes\n",
        "\n",
        "Our classifications are OK, but are they good enough for our conscientious cars?\n",
        "\n",
        "Let's put on our detective hats to determine the root causes of the incorrect classifications!\n",
        "\n",
        "**Exercise:** Below, please print out 4 images of true positives, 4 images of true negatives, 4 images of false positives, and 4 images of false negatives. What are the reasons for failure (both for false positives and false negatives)?"
      ]
    },
    {
      "cell_type": "code",
      "metadata": {
        "id": "xWy1S_gyGoJT",
        "colab": {
          "base_uri": "https://localhost:8080/",
          "height": 1000
        },
        "outputId": "84021055-a376-4247-aacd-df892bf0231d"
      },
      "source": [
        "#True Positives (code provided)\n",
        "tp_count = 0\n",
        "print (\"TRUE POSITIVES\")\n",
        "i = 0\n",
        "while tp_count < 4 and i < len(X_test):\n",
        "  prediction = knn_model.predict([X_test[i]])[0]\n",
        "  if prediction == y_test[i] and prediction == 'dog':\n",
        "    plot_one_image(X_test, y_test, i)\n",
        "    tp_count += 1\n",
        "  i += 1\n",
        "\n",
        "#False Positives\n",
        "#YOUR CODE HERE\n",
        "fp_count = 0\n",
        "print (\"FALSE POSITIVES\")\n",
        "i = 0\n",
        "while fp_count < 4 and i < len(X_test):\n",
        "  prediction = knn_model.predict([X_test[i]])[0]\n",
        "  if prediction != y_test[i] and prediction == 'dog':\n",
        "    plot_one_image(X_test, y_test, i)\n",
        "    fp_count += 1\n",
        "  i += 1\n",
        "#True Negatives\n",
        "#YOUR CODE HERE\n",
        "\n",
        "#False Negatives\n",
        "#YOUR CODE HERE"
      ],
      "execution_count": null,
      "outputs": [
        {
          "output_type": "stream",
          "name": "stdout",
          "text": [
            "TRUE POSITIVES\n",
            "label: dog\n",
            "label: dog\n",
            "label: dog\n",
            "label: dog\n",
            "FALSE POSITIVES\n",
            "label: road\n",
            "label: road\n",
            "label: road\n"
          ]
        },
        {
          "output_type": "display_data",
          "data": {
            "text/plain": [
              "<Figure size 432x288 with 1 Axes>"
            ],
            "image/png": "[encoded data removed]"
          },
          "metadata": {
            "needs_background": "light"
          }
        },
        {
          "output_type": "display_data",
          "data": {
            "text/plain": [
              "<Figure size 432x288 with 1 Axes>"
            ],
            "image/png": "[encoded data removed]"
          },
          "metadata": {
            "needs_background": "light"
          }
        },
        {
          "output_type": "display_data",
          "data": {
            "text/plain": [
              "<Figure size 432x288 with 1 Axes>"
            ],
            "image/png": "[encoded data removed]"
          },
          "metadata": {
            "needs_background": "light"
          }
        },
        {
          "output_type": "display_data",
          "data": {
            "text/plain": [
              "<Figure size 432x288 with 1 Axes>"
            ],
            "image/png": "[encoded data removed]"
          },
          "metadata": {
            "needs_background": "light"
          }
        },
        {
          "output_type": "display_data",
          "data": {
            "text/plain": [
              "<Figure size 432x288 with 1 Axes>"
            ],
            "image/png": "[encoded data removed]"
          },
          "metadata": {
            "needs_background": "light"
          }
        },
        {
          "output_type": "display_data",
          "data": {
            "text/plain": [
              "<Figure size 432x288 with 1 Axes>"
            ],
            "image/png": "[encoded data removed]"
          },
          "metadata": {
            "needs_background": "light"
          }
        },
        {
          "output_type": "display_data",
          "data": {
            "text/plain": [
              "<Figure size 432x288 with 1 Axes>"
            ],
            "image/png": "[encoded data removed]"
          },
          "metadata": {
            "needs_background": "light"
          }
        }
      ]
    },
    {
      "cell_type": "markdown",
      "metadata": {
        "id": "nSx8HEhHKxFd"
      },
      "source": [
        "**Discuss:** What patterns did you notice? What are some reasons that the model makes mistakes?"
      ]
    },
    {
      "cell_type": "markdown",
      "metadata": {
        "id": "doLXp1Ot8D2C"
      },
      "source": [
        "#Neural Networks\n",
        "Now, let's create some new models using neural networks!\n",
        "\n",
        "You can play around with [TensorFlow Playground](https://playground.tensorflow.org/#activation=tanh&batchSize=10&dataset=circle&regDataset=reg-plane&learningRate=0.03&regularizationRate=0&noise=0&networkShape=4,2&seed=0.62283&showTestData=false&discretize=false&percTrainData=50&x=true&y=true&xTimesY=false&xSquared=false&ySquared=false&cosX=false&sinX=false&cosY=false&sinY=false&collectStats=false&problem=classification&initZero=false&hideText=false&regularization_hide=true&regularizationRate_hide=true&learningRate_hide=true&batchSize_hide=true&stepButton_hide=true&activation_hide=true) to get a feel for how neural nets work."
      ]
    },
    {
      "cell_type": "markdown",
      "metadata": {
        "id": "u9iFe-B4zqQA"
      },
      "source": [
        "To build a simple neural network, we use `MLPClassifier` from scikit-learn. We will play with the **number of neurons** and the **number of hidden layers** to adjust the complexity of our model, just like we did in Playground!\n",
        "\n",
        "**Example 1:**\n",
        "Here's how we create a neural network with 1 hidden layer of 3 neurons.\n",
        "\n",
        "`nnet = MLPClassifier(hidden_layer_sizes=(3)) `\n",
        "\n",
        "**Example 2:**\n",
        "\n",
        "Here's how we create a neural network with 2 hidden layers: one of 3 neurons and one of 4 neurons.\n",
        "\n",
        "`nnet = MLPClassifier(hidden_layer_sizes=(3, 4)) `"
      ]
    },
    {
      "cell_type": "code",
      "metadata": {
        "id": "x4XblMWBzm96",
        "colab": {
          "base_uri": "https://localhost:8080/"
        },
        "outputId": "9dd83b7d-70df-4ce3-c171-8d774f248cf3"
      },
      "source": [
        "# Create and train our multi layer perceptron model\n",
        "nnet = MLPClassifier(hidden_layer_sizes=(80), random_state=1, max_iter=10000000)  ## How many hidden layers? How many neurons does this have?\n",
        "nnet.fit(X_train, y_train)\n",
        "\n",
        "# Predict what the classes are based on the testing data\n",
        "predictions = nnet.predict(X_test)\n",
        "\n",
        "# Print the score on the testing data\n",
        "print(\"MLP Testing Accuracy:\")\n",
        "print(accuracy_score(y_test, predictions)*100)"
      ],
      "execution_count": null,
      "outputs": [
        {
          "output_type": "stream",
          "name": "stdout",
          "text": [
            "MLP Testing Accuracy:\n",
            "87.91666666666667\n"
          ]
        }
      ]
    },
    {
      "cell_type": "markdown",
      "metadata": {
        "id": "J1QYZTxq0RCV"
      },
      "source": [
        "**How well did your neural network perform?**\n",
        "\n",
        "Multilayer perceptrons are more complex models and it can be difficult to find the right \"settings\" for them. It takes some trial and error!"
      ]
    },
    {
      "cell_type": "markdown",
      "metadata": {
        "id": "nX27P2eY0yqQ"
      },
      "source": [
        "**Exercise: try the following out and see how well you can get your network to do!**\n",
        "* Train a 1 layer, 10 neuron network for practice\n",
        "* Change the number of neurons and/or add layers to see how well you can do\n",
        "* Increase or decrease the number of iterations"
      ]
    },
    {
      "cell_type": "code",
      "metadata": {
        "id": "_nPOrTN-JMYk",
        "colab": {
          "base_uri": "https://localhost:8080/"
        },
        "outputId": "1e6bd403-be93-4fc7-bfb2-e59d8ac3a0cd"
      },
      "source": [
        "#YOUR CODE HERE\n",
        "for layer in [10,10,10,10], [25,25,25], [40,40], [80]:\n",
        "  print(\"Layers is \" + str(layer))\n",
        "  nnet = MLPClassifier(hidden_layer_sizes= layer, random_state=1, max_iter=10000000)\n",
        "  nnet.fit(X_train, y_train)\n",
        "\n",
        "# Predict what the classes are based on the testing data\n",
        "  predictions = nnet.predict(X_test)\n",
        "\n",
        "# Print the score on the testing data\n",
        "  print(\"MLP Testing Accuracy:\")\n",
        "  print(accuracy_score(y_test, predictions)*100)"
      ],
      "execution_count": null,
      "outputs": [
        {
          "output_type": "stream",
          "name": "stdout",
          "text": [
            "Layers is [10, 10, 10, 10]\n",
            "MLP Testing Accuracy:\n",
            "90.0\n",
            "Layers is [25, 25, 25]\n",
            "MLP Testing Accuracy:\n",
            "85.0\n",
            "Layers is [40, 40]\n",
            "MLP Testing Accuracy:\n",
            "89.16666666666667\n",
            "Layers is [80]\n",
            "MLP Testing Accuracy:\n",
            "87.91666666666667\n"
          ]
        }
      ]
    },
    {
      "cell_type": "markdown",
      "metadata": {
        "id": "hXud5MuBXqzo"
      },
      "source": [
        "###Automating our Experiments\n",
        "\n",
        "**Exercise:** Similar to what you did for KNNs, use a for loop to automate your investigation. Explore different numbers of hidden layers, the size of the hidden layers, and the number of iterations! How well can you get your network performing?"
      ]
    },
    {
      "cell_type": "code",
      "metadata": {
        "id": "owrF6cDvX0HX"
      },
      "source": [
        "### YOUR CODE HERE\n",
        "\n",
        "### END CODE"
      ],
      "execution_count": null,
      "outputs": []
    },
    {
      "cell_type": "markdown",
      "metadata": {
        "id": "37O_VE_D1Bdy"
      },
      "source": [
        "# Models for Vision: Convolutional Neural Networks\n",
        "There is a famous type of neural network known as convolutional neural networks (CNNs). These types of neural networks work particularly well on problems to do with computer vision. Let's try one out!"
      ]
    },
    {
      "cell_type": "markdown",
      "metadata": {
        "id": "GqrfI4JiVeFr"
      },
      "source": [
        "###Training Your CNN\n",
        "To load up a simple CNN on scikit-learn, just run:\n",
        "\n",
        "`cnn = CNNClassifier(num_epochs=N)`\n",
        "\n",
        "The `num_epochs` represents how many times the neural network passes through the training dataset.\n",
        "\n",
        "We'll need to change our data to floats (decimal numbers).\n",
        "\n",
        "**Exercise:** Please train and test your CNN below!"
      ]
    },
    {
      "cell_type": "code",
      "metadata": {
        "id": "dSwghlVU4WTy",
        "colab": {
          "base_uri": "https://localhost:8080/"
        },
        "outputId": "e8b191bd-4a41-441b-bd12-5a4149130a13"
      },
      "source": [
        "# convert our data to floats for our CNN\n",
        "X_train = X_train.astype(float)\n",
        "X_test = X_test.astype(float)\n",
        "\n",
        "### YOUR CODE HERE\n",
        "# Create and train our cnn\n",
        "cnn = CNNClassifier(num_epochs=10)\n",
        "cnn.fit(X_train, y_train)\n",
        "# Predict what the classes are based on the testing data\n",
        "y_pred = cnn.predict(X_test)\n",
        "# Print the score on the testing data\n",
        "print(accuracy_score(y_test, y_pred))\n",
        "\n",
        "### END CODE"
      ],
      "execution_count": null,
      "outputs": [
        {
          "output_type": "stream",
          "name": "stderr",
          "text": [
            "/usr/local/lib/python3.7/dist-packages/ipykernel_launcher.py:111: DeprecationWarning: KerasClassifier is deprecated, use Sci-Keras (https://github.com/adriangb/scikeras) instead. See https://www.adriangb.com/scikeras/stable/migration.html for help migrating.\n"
          ]
        },
        {
          "output_type": "stream",
          "name": "stdout",
          "text": [
            "Epoch 1/10\n",
            "96/96 - 13s - loss: 1.3253 - accuracy: 0.6833 - 13s/epoch - 140ms/step\n",
            "Epoch 2/10\n",
            "96/96 - 0s - loss: 0.4593 - accuracy: 0.8281 - 482ms/epoch - 5ms/step\n",
            "Epoch 3/10\n",
            "96/96 - 0s - loss: 0.3263 - accuracy: 0.8781 - 493ms/epoch - 5ms/step\n",
            "Epoch 4/10\n",
            "96/96 - 0s - loss: 0.2411 - accuracy: 0.9000 - 473ms/epoch - 5ms/step\n",
            "Epoch 5/10\n",
            "96/96 - 0s - loss: 0.2507 - accuracy: 0.9031 - 485ms/epoch - 5ms/step\n",
            "Epoch 6/10\n",
            "96/96 - 0s - loss: 0.1903 - accuracy: 0.9271 - 466ms/epoch - 5ms/step\n",
            "Epoch 7/10\n",
            "96/96 - 0s - loss: 0.1972 - accuracy: 0.9323 - 482ms/epoch - 5ms/step\n",
            "Epoch 8/10\n",
            "96/96 - 0s - loss: 0.1739 - accuracy: 0.9375 - 470ms/epoch - 5ms/step\n",
            "Epoch 9/10\n",
            "96/96 - 0s - loss: 0.1406 - accuracy: 0.9510 - 478ms/epoch - 5ms/step\n",
            "Epoch 10/10\n",
            "96/96 - 0s - loss: 0.1467 - accuracy: 0.9323 - 481ms/epoch - 5ms/step\n",
            "0.95\n"
          ]
        }
      ]
    },
    {
      "cell_type": "markdown",
      "metadata": {
        "id": "KGWpgsVXP1ut"
      },
      "source": [
        "**Discuss: Is this CNN good enough to use in practice?**\n",
        "\n",
        "CNNs typically perform better than basic Neural Networks on vision problems - but like basic Neural Networks, they aren't always consistent in their results and are sensitive to a number of factors.\n",
        "\n",
        "If you're interested in learning more about CNNs, spend some time exploring the [CNN Explainer](https://poloclub.github.io/cnn-explainer/)!\n",
        "\n",
        "**Report to the class your highest model accuracy.**\n",
        "\n",
        "**Bonus Question:** Each of you might see a different max accuracy. Can you think of why that might be?\n"
      ]
    },
    {
      "cell_type": "markdown",
      "metadata": {
        "id": "c-XRh5Y5P_CL"
      },
      "source": [
        "## Training and Validation Curves\n",
        "\n",
        "An important aspect of training neural networks is to prevent overfitting. **How do you know when your model is overfitting?**\n",
        "\n",
        "To plot our model's history, we can train it with\n",
        "```\n",
        "history = model.fit(X_train, categorical_to_numpy(y_train), validation_data=(X_test, categorical_to_numpy(y_test)))\n",
        "```\n",
        "\n",
        "and then use\n",
        "```\n",
        "plot_acc(history)\n",
        "```\n",
        "Don't forget to change ```model``` to be the name of your model!"
      ]
    },
    {
      "cell_type": "markdown",
      "metadata": {
        "id": "8eaFvE2PQEFe"
      },
      "source": [
        "**Exercise:** Train a CNN model and plot a train vs. test curve.\n",
        "\n",
        "**After how many epochs does the model begin to overfit?** Overfitting occurs when the validation accuracy starts to drop below the training accuracy."
      ]
    },
    {
      "cell_type": "code",
      "metadata": {
        "id": "OsVAasDbjARJ",
        "colab": {
          "base_uri": "https://localhost:8080/",
          "height": 640
        },
        "outputId": "d3f920d8-5db2-4d46-8f0c-c64b580d0e7f"
      },
      "source": [
        "### YOUR CODE HERE\n",
        "history = cnn.fit(X_train, categorical_to_numpy(y_train), validation_data=(X_test, categorical_to_numpy(y_test)))\n",
        "plot_acc(history)\n",
        "### END CODE"
      ],
      "execution_count": null,
      "outputs": [
        {
          "output_type": "stream",
          "name": "stdout",
          "text": [
            "Epoch 1/10\n",
            "96/96 - 2s - loss: 1.2107 - accuracy: 0.6719 - val_loss: 0.2851 - val_accuracy: 0.9375 - 2s/epoch - 24ms/step\n",
            "Epoch 2/10\n",
            "96/96 - 1s - loss: 0.4107 - accuracy: 0.8219 - val_loss: 0.2309 - val_accuracy: 0.9125 - 547ms/epoch - 6ms/step\n",
            "Epoch 3/10\n",
            "96/96 - 1s - loss: 0.2933 - accuracy: 0.8917 - val_loss: 0.1621 - val_accuracy: 0.9375 - 558ms/epoch - 6ms/step\n",
            "Epoch 4/10\n",
            "96/96 - 1s - loss: 0.2505 - accuracy: 0.8969 - val_loss: 0.1648 - val_accuracy: 0.9500 - 558ms/epoch - 6ms/step\n",
            "Epoch 5/10\n",
            "96/96 - 1s - loss: 0.2481 - accuracy: 0.9115 - val_loss: 0.1555 - val_accuracy: 0.9542 - 553ms/epoch - 6ms/step\n",
            "Epoch 6/10\n",
            "96/96 - 1s - loss: 0.2003 - accuracy: 0.9250 - val_loss: 0.1630 - val_accuracy: 0.9500 - 563ms/epoch - 6ms/step\n",
            "Epoch 7/10\n",
            "96/96 - 1s - loss: 0.1775 - accuracy: 0.9354 - val_loss: 0.1357 - val_accuracy: 0.9583 - 603ms/epoch - 6ms/step\n",
            "Epoch 8/10\n",
            "96/96 - 1s - loss: 0.1818 - accuracy: 0.9302 - val_loss: 0.1334 - val_accuracy: 0.9625 - 578ms/epoch - 6ms/step\n",
            "Epoch 9/10\n",
            "96/96 - 1s - loss: 0.1737 - accuracy: 0.9333 - val_loss: 0.1333 - val_accuracy: 0.9500 - 557ms/epoch - 6ms/step\n",
            "Epoch 10/10\n",
            "96/96 - 1s - loss: 0.1728 - accuracy: 0.9354 - val_loss: 0.1934 - val_accuracy: 0.9333 - 564ms/epoch - 6ms/step\n"
          ]
        },
        {
          "output_type": "display_data",
          "data": {
            "text/plain": [
              "<Figure size 432x288 with 1 Axes>"
            ],
            "image/png": "[encoded data removed]"
          },
          "metadata": {
            "needs_background": "light"
          }
        }
      ]
    },
    {
      "cell_type": "markdown",
      "metadata": {
        "id": "RVzEpI_xWpE5"
      },
      "source": [
        "### Hopefully your CNN worked *very* well! We want to keep the doggos as safe as they can be.\n",
        "\n",
        "![](https://images.pexels.com/photos/316/black-and-white-animal-dog-pet.jpg?auto=compress&cs=tinysrgb&dpr=2&h=650&w=940)"
      ]
    },
    {
      "cell_type": "markdown",
      "metadata": {
        "id": "7Y1wGoQPm2Ko"
      },
      "source": [
        "# Challenge Exercise: Explainability through Saliency Maps"
      ]
    },
    {
      "cell_type": "markdown",
      "metadata": {
        "id": "UnGTR2Vdb08i"
      },
      "source": [
        "Neural networks have achieved incredible results in many fields. But they have a big problem: it’s very difficult to explain exactly why a neural network makes the decisions it does. This makes it difficult to trust them in high-stakes applications like medicine, self-driving cars, and criminal justice - would you trust an AI that diagnosed you with a disease, but couldn’t explain why?\n",
        "\n",
        "Other classifiers are much more explainable:\n",
        "\n",
        "*   With logistic regression, we can see the coefficient (importance) attached to each input feature.\n",
        "*   With a decision tree, we can trace a particular decision down the tree.\n",
        "*   With KNN, we can examine the nearby neighbors.\n",
        "\n",
        "Our CNN, above, works well. For example, let's try choosing an image from our dataset and classifying it."
      ]
    },
    {
      "cell_type": "code",
      "metadata": {
        "id": "HmU6Peb7m67F",
        "colab": {
          "base_uri": "https://localhost:8080/",
          "height": 337
        },
        "outputId": "0840f5ea-09d5-4b4f-a1ea-ab440b4b763f"
      },
      "source": [
        "image_index = 70 #pick any image you'd like\n",
        "input_image = X_test[image_index]\n",
        "print (input_image.shape)\n",
        "print (input_image) #How many numbers are there? What does each represent?\n",
        "\n",
        "plt.imshow(input_image.reshape(32,32,3).astype(int))\n",
        "plt.show()\n",
        "\n",
        "print ('Classification:')\n",
        "print(cnn.predict(np.array([input_image]))) #Our predict function expects a 2D array.\n",
        "#0 means dog, 1 means road"
      ],
      "execution_count": null,
      "outputs": [
        {
          "output_type": "stream",
          "name": "stdout",
          "text": [
            "(3072,)\n",
            "[144. 144. 148. ... 207. 173. 142.]\n"
          ]
        },
        {
          "output_type": "display_data",
          "data": {
            "text/plain": [
              "<Figure size 432x288 with 1 Axes>"
            ],
            "image/png": "[encoded data removed]"
          },
          "metadata": {
            "needs_background": "light"
          }
        },
        {
          "output_type": "stream",
          "name": "stdout",
          "text": [
            "Classification:\n",
            "[0]\n"
          ]
        }
      ]
    },
    {
      "cell_type": "markdown",
      "metadata": {
        "id": "c6P7DX_WcfOU"
      },
      "source": [
        "But why did the CNN reach that decision? It’s really hard to give a clear answer! The CNN relies on multiplying input features by the weights it has set. You can print out and look at the hundreds of weights:\n"
      ]
    },
    {
      "cell_type": "code",
      "metadata": {
        "id": "w8M8UZCgcpqO",
        "colab": {
          "base_uri": "https://localhost:8080/"
        },
        "outputId": "d7888351-0435-4a41-ddfd-4e03cb566c8b"
      },
      "source": [
        "#Warning: expect a large output!\n",
        "for layer_weights in history.model.weights:\n",
        "  print (layer_weights)"
      ],
      "execution_count": null,
      "outputs": [
        {
          "output_type": "stream",
          "name": "stdout",
          "text": [
            "<tf.Variable 'conv2d_7/kernel:0' shape=(3, 3, 3, 32) dtype=float32, numpy=\n",
            "array([[[[ 0.09947672, -0.11348108,  0.0998702 , -0.0413194 ,\n",
            "          -0.07866852, -0.03296192, -0.04680049,  0.07313866,\n",
            "           0.08022956,  0.11841384,  0.07771616, -0.03434816,\n",
            "          -0.11147645, -0.08816089,  0.05717925, -0.01285844,\n",
            "           0.0975038 , -0.09002053, -0.06977244,  0.06682035,\n",
            "          -0.11041322,  0.1285211 ,  0.12127998,  0.12021331,\n",
            "           0.09108672, -0.04655453,  0.01081614, -0.09588496,\n",
            "           0.01840998, -0.13042668,  0.0143787 , -0.11232704],\n",
            "         [ 0.03031209, -0.12998545, -0.00084984,  0.06715956,\n",
            "           0.07152238,  0.1181129 , -0.11474594,  0.12605144,\n",
            "           0.01442816, -0.05245376, -0.08105008,  0.05619119,\n",
            "           0.02943957,  0.07066976, -0.02348113, -0.02498326,\n",
            "          -0.0739335 ,  0.12551221,  0.03275337, -0.08809672,\n",
            "          -0.02959956, -0.06596471, -0.08271412,  0.12934321,\n",
            "          -0.10813916, -0.10158322, -0.03735837, -0.10109374,\n",
            "           0.04775615, -0.07565238,  0.01080041, -0.02585412],\n",
            "         [-0.00938363,  0.09415565,  0.10858434, -0.06003706,\n",
            "          -0.00557272, -0.06652616,  0.02789084,  0.0341011 ,\n",
            "           0.11287302, -0.10192327,  0.00564992, -0.09265591,\n",
            "           0.03499606,  0.10317466, -0.04986927, -0.07096825,\n",
            "          -0.04308873, -0.11168002,  0.09823305,  0.08510845,\n",
            "           0.06905422, -0.1362706 , -0.12950367,  0.07349707,\n",
            "          -0.05555364,  0.083196  , -0.06197392, -0.08320575,\n",
            "          -0.08181425,  0.12447319, -0.12734799,  0.06903572]],\n",
            "\n",
            "        [[-0.09840499,  0.08313031, -0.0680275 , -0.0873113 ,\n",
            "           0.12116998,  0.1147345 , -0.03623122, -0.00817298,\n",
            "           0.00483243, -0.0061456 ,  0.03229014, -0.04264421,\n",
            "           0.01395144,  0.10250945, -0.10915924, -0.1333057 ,\n",
            "          -0.11953315,  0.11499789,  0.1182249 , -0.10813677,\n",
            "           0.11588709, -0.04585396,  0.01512516, -0.08114735,\n",
            "           0.04322306, -0.0318194 ,  0.07735246,  0.05051278,\n",
            "          -0.10780669, -0.07441352, -0.01316918, -0.08150589],\n",
            "         [-0.00989813, -0.0614587 , -0.11627781, -0.03953069,\n",
            "          -0.08928054,  0.12376007,  0.01754646, -0.1279736 ,\n",
            "           0.01843706,  0.0639826 ,  0.10081759,  0.0639474 ,\n",
            "          -0.07087789, -0.05537634, -0.05447444,  0.10957943,\n",
            "          -0.08014857, -0.134272  ,  0.05966724, -0.00933278,\n",
            "          -0.02720513,  0.00064229, -0.07455564, -0.01000614,\n",
            "          -0.08189868, -0.00261077, -0.09496463,  0.09249573,\n",
            "          -0.00888995,  0.00899921,  0.08146872,  0.07156207],\n",
            "         [ 0.06099837, -0.00664345, -0.10284323, -0.03912316,\n",
            "           0.11015431,  0.01948451,  0.10496476,  0.06587674,\n",
            "          -0.11421967, -0.11311682, -0.13237944,  0.1140632 ,\n",
            "          -0.04508248, -0.07745127,  0.09062856, -0.07036176,\n",
            "          -0.01727638,  0.13638568, -0.00617957,  0.07991048,\n",
            "           0.1362393 ,  0.0863738 , -0.05523036,  0.07326436,\n",
            "           0.00846136, -0.01401826, -0.06908795, -0.13975452,\n",
            "           0.02635539, -0.08631137,  0.03362346,  0.07067924]],\n",
            "\n",
            "        [[ 0.01542861, -0.00182425,  0.00351875, -0.03153306,\n",
            "           0.00607635,  0.03461003,  0.04984637, -0.05239556,\n",
            "          -0.04444027,  0.07342675, -0.09398405,  0.05174388,\n",
            "           0.10431597,  0.11662046,  0.08686956,  0.01387973,\n",
            "          -0.1272643 ,  0.08972218, -0.0071653 , -0.04994551,\n",
            "          -0.07947226, -0.06669591, -0.06088646,  0.12474922,\n",
            "          -0.11617304, -0.04531159,  0.00281518, -0.03754683,\n",
            "          -0.11983307,  0.00904107,  0.12443253, -0.09985434],\n",
            "         [-0.06655718,  0.11791149,  0.0515363 ,  0.04658689,\n",
            "           0.01233285, -0.04094549, -0.04628418, -0.13069929,\n",
            "          -0.09086987, -0.07449922, -0.11356878, -0.12521139,\n",
            "          -0.09070322, -0.11752602, -0.05040515,  0.09259434,\n",
            "          -0.06894111, -0.10466065, -0.10240446,  0.01552584,\n",
            "          -0.07742202,  0.09555652, -0.07102277, -0.08834795,\n",
            "           0.10019613, -0.01982019,  0.07826025,  0.07337867,\n",
            "           0.04479239, -0.07537943, -0.09371734, -0.03131528],\n",
            "         [ 0.00080001, -0.01386356,  0.05077659,  0.11700791,\n",
            "          -0.07132422, -0.01009879,  0.01289788,  0.00734683,\n",
            "          -0.11002192, -0.09206965, -0.12509695,  0.11307839,\n",
            "          -0.12766348, -0.0947362 , -0.02635992,  0.05837392,\n",
            "           0.0073766 , -0.02463765, -0.04685325,  0.05087197,\n",
            "           0.07095701, -0.09977449,  0.01639537,  0.06310736,\n",
            "           0.03282968,  0.07293798,  0.00369171, -0.08178861,\n",
            "           0.03480091,  0.08757394,  0.13026543, -0.06837086]]],\n",
            "\n",
            "\n",
            "       [[[-0.00820651,  0.01377952,  0.00093304,  0.00121136,\n",
            "          -0.01104918,  0.10560814,  0.13381055,  0.07630526,\n",
            "          -0.01431605, -0.02118547,  0.09013655, -0.0265353 ,\n",
            "          -0.11865564, -0.12467797, -0.08452661,  0.05382565,\n",
            "           0.05429635, -0.10022423, -0.06130689, -0.13440712,\n",
            "          -0.11789946, -0.09025624,  0.12026802,  0.08531036,\n",
            "           0.08089645, -0.05007134,  0.05979368,  0.03233768,\n",
            "           0.10889847,  0.0952926 , -0.10880031,  0.02067293],\n",
            "         [ 0.02843251, -0.0894304 , -0.1106861 , -0.0778192 ,\n",
            "           0.13270572,  0.10011248, -0.10998666, -0.07351878,\n",
            "           0.05422954,  0.12548357, -0.00596094, -0.11575116,\n",
            "          -0.09964809, -0.06303961,  0.11970926, -0.04474729,\n",
            "           0.08606003, -0.06497286,  0.00061309,  0.07423409,\n",
            "          -0.02071255, -0.04495885,  0.10210555,  0.05416598,\n",
            "          -0.00934349, -0.08238733, -0.00792673, -0.02892979,\n",
            "          -0.12002125, -0.00319961, -0.05346504, -0.08064937],\n",
            "         [ 0.07405018, -0.06886487,  0.11924151,  0.00330933,\n",
            "           0.06172152, -0.13669406,  0.05104458, -0.03686824,\n",
            "          -0.11877088, -0.00522781,  0.11882644, -0.11585739,\n",
            "          -0.00021781, -0.10814109, -0.10797323, -0.04283886,\n",
            "           0.06153858, -0.00500509,  0.10449573, -0.10942254,\n",
            "          -0.04432091,  0.03208026, -0.08886653,  0.05373099,\n",
            "          -0.05920685,  0.0347141 , -0.06340747,  0.10282148,\n",
            "           0.08376148, -0.0556419 , -0.07628772,  0.02202522]],\n",
            "\n",
            "        [[-0.03204655, -0.08864683, -0.06046924, -0.00071049,\n",
            "          -0.10231212, -0.00778996,  0.08521662, -0.09482018,\n",
            "          -0.07394937,  0.08007928, -0.04154857,  0.02488723,\n",
            "          -0.09543261, -0.1356255 , -0.10655265, -0.10697939,\n",
            "          -0.10365886,  0.05524317, -0.11629266, -0.10690272,\n",
            "           0.05696592,  0.06364778,  0.06057586, -0.07549295,\n",
            "           0.07612901,  0.08788421,  0.1322128 ,  0.03609196,\n",
            "          -0.0354219 ,  0.00142641, -0.1341774 ,  0.02690879],\n",
            "         [ 0.0651783 ,  0.02133638, -0.01617685, -0.12060561,\n",
            "          -0.09568376, -0.05331368, -0.0292604 ,  0.10154477,\n",
            "          -0.09103269, -0.05749987, -0.09556714, -0.03366229,\n",
            "           0.06638917,  0.0089799 ,  0.01918315,  0.01520147,\n",
            "           0.07870985, -0.02079869,  0.09564693, -0.09266864,\n",
            "          -0.13225207, -0.02569382,  0.04980357,  0.05156912,\n",
            "           0.05803132,  0.08668628,  0.04721198, -0.13156556,\n",
            "           0.03300977,  0.10417521,  0.00152105,  0.0786782 ],\n",
            "         [ 0.11209591,  0.01906612,  0.03748616, -0.09553137,\n",
            "          -0.10498767, -0.09636234, -0.06207938, -0.04861269,\n",
            "          -0.04344416, -0.1316835 ,  0.06616519,  0.04875475,\n",
            "           0.00755029, -0.12405758,  0.11380397,  0.04967633,\n",
            "          -0.0864137 , -0.08521684,  0.10099932, -0.07864819,\n",
            "          -0.09657332, -0.10859701, -0.00946552,  0.03244379,\n",
            "           0.13993545,  0.08624662,  0.06148698, -0.02244927,\n",
            "          -0.02958981, -0.02235753,  0.0226586 ,  0.0571898 ]],\n",
            "\n",
            "        [[ 0.09139223, -0.07837097,  0.11755794,  0.04446394,\n",
            "           0.02047952,  0.10612295,  0.09510644, -0.02750639,\n",
            "          -0.09097458,  0.0888048 , -0.01743614, -0.02444874,\n",
            "           0.00474823, -0.0799344 , -0.04285013,  0.11106913,\n",
            "          -0.0786042 ,  0.02486774,  0.05698973,  0.1278197 ,\n",
            "           0.014443  ,  0.07725677, -0.06276849, -0.00706563,\n",
            "          -0.1123613 ,  0.09914418,  0.12172315, -0.12345615,\n",
            "          -0.02947205,  0.07646856,  0.08119923,  0.10212418],\n",
            "         [-0.01852435, -0.03236955, -0.07857247,  0.12065361,\n",
            "           0.00118207, -0.07032757,  0.02482275, -0.06501792,\n",
            "           0.08859029,  0.07621482,  0.12625901,  0.08438644,\n",
            "           0.09680173, -0.06528242,  0.13524194,  0.12484545,\n",
            "          -0.04329658, -0.00163911,  0.09565519, -0.07349437,\n",
            "          -0.11794551, -0.09542812,  0.03886716,  0.01432682,\n",
            "           0.01523554, -0.08776634,  0.03724783, -0.10872138,\n",
            "          -0.09578639, -0.01749419, -0.01465496, -0.13808537],\n",
            "         [-0.09936543, -0.0927365 ,  0.04885828, -0.01933628,\n",
            "           0.01031303, -0.09725222, -0.01701919,  0.07763617,\n",
            "          -0.0266448 ,  0.03178734, -0.06378469, -0.10319546,\n",
            "           0.11143196,  0.05180197,  0.03123424, -0.09320486,\n",
            "          -0.09203952,  0.0508537 ,  0.03850361,  0.05541765,\n",
            "           0.07718822, -0.05687004, -0.07391279, -0.04498195,\n",
            "          -0.08580523, -0.12505229,  0.1280964 ,  0.12160079,\n",
            "           0.04738431, -0.0468226 , -0.04952756,  0.13340205]]],\n",
            "\n",
            "\n",
            "       [[[-0.1022076 , -0.03959294,  0.06940892,  0.06772729,\n",
            "           0.01790047, -0.13836834, -0.00544769, -0.09306914,\n",
            "          -0.09944591,  0.05020312,  0.03696215,  0.03561563,\n",
            "           0.09281749, -0.08319843, -0.01494442,  0.05232811,\n",
            "          -0.07068018,  0.0964089 ,  0.10361206, -0.01047549,\n",
            "           0.00025324, -0.02788777, -0.00323203, -0.06655892,\n",
            "          -0.01480266, -0.11030932,  0.10734165, -0.0977686 ,\n",
            "          -0.0564983 ,  0.00055282, -0.09396601,  0.11629958],\n",
            "         [ 0.07448827, -0.04993038, -0.02347584, -0.12697971,\n",
            "          -0.04850955,  0.01802647,  0.05496023, -0.04243916,\n",
            "           0.07617944, -0.0064432 ,  0.1359143 ,  0.01690206,\n",
            "          -0.12849416,  0.05666651,  0.01426594, -0.10467743,\n",
            "           0.13058661, -0.03850536, -0.01886936, -0.06838676,\n",
            "          -0.04866531,  0.06718523,  0.01105794, -0.10020183,\n",
            "          -0.11659916, -0.10458907, -0.06638626, -0.0988932 ,\n",
            "          -0.00018031, -0.11116593,  0.04422746, -0.00124639],\n",
            "         [ 0.0584679 ,  0.00610095, -0.05875351, -0.06816732,\n",
            "          -0.11579204, -0.12796992,  0.1032385 ,  0.08653816,\n",
            "           0.08155429,  0.05173735, -0.07955015,  0.05809925,\n",
            "          -0.0855442 ,  0.04822904,  0.0948433 , -0.05352382,\n",
            "          -0.05489096,  0.01737623, -0.04281281,  0.01211981,\n",
            "           0.00694124, -0.07574091, -0.10906306, -0.08269482,\n",
            "          -0.03200486, -0.10325751,  0.01900153,  0.00356302,\n",
            "          -0.04549725, -0.04686024, -0.07281273, -0.13494046]],\n",
            "\n",
            "        [[ 0.09760048,  0.04677786, -0.07834245,  0.03881821,\n",
            "          -0.09186892,  0.13007818, -0.09822797,  0.11044719,\n",
            "           0.10408027,  0.13563809, -0.05965031,  0.06501387,\n",
            "          -0.00808876,  0.01817541, -0.0619268 , -0.00403043,\n",
            "           0.04146004,  0.01581524,  0.09404343,  0.01762281,\n",
            "           0.1352015 , -0.11852761, -0.10610816,  0.09247735,\n",
            "           0.05928828, -0.07907836,  0.12189545,  0.03599405,\n",
            "          -0.10692561, -0.03371287, -0.09350643, -0.04784054],\n",
            "         [-0.01791594,  0.04458674,  0.03557822, -0.01076548,\n",
            "          -0.07340702,  0.09329335,  0.06758455,  0.00258155,\n",
            "          -0.05602172,  0.05817175,  0.03340748, -0.0930238 ,\n",
            "           0.10434251,  0.00359399,  0.0703551 ,  0.05904394,\n",
            "           0.05549412,  0.11683772,  0.04185377, -0.14197138,\n",
            "           0.05778569,  0.00773522, -0.00166218,  0.07466376,\n",
            "          -0.11774   ,  0.06782538, -0.06580462, -0.1311392 ,\n",
            "          -0.08644307,  0.05452325,  0.00655724,  0.01352472],\n",
            "         [-0.0279627 ,  0.00486655,  0.08400103, -0.01563991,\n",
            "          -0.10133283, -0.03876311,  0.11671401, -0.07850653,\n",
            "           0.06389013,  0.04918806, -0.04212574,  0.03564296,\n",
            "          -0.06211874,  0.07765145, -0.07867455,  0.13632905,\n",
            "           0.08824427, -0.06278479, -0.05504191, -0.0017618 ,\n",
            "          -0.04792652,  0.11737684, -0.01302678,  0.1281808 ,\n",
            "          -0.03298462,  0.05783078,  0.01313855,  0.02569422,\n",
            "           0.10990252, -0.03530289, -0.02718567, -0.11170658]],\n",
            "\n",
            "        [[ 0.1092649 , -0.02683628,  0.13000858,  0.08299977,\n",
            "           0.02148396, -0.11066947,  0.13095908, -0.0592297 ,\n",
            "           0.07643051, -0.13057002, -0.10890081,  0.12338284,\n",
            "           0.13106109, -0.10281365,  0.0334461 ,  0.03033914,\n",
            "          -0.09656183, -0.10215992,  0.02819464,  0.08966511,\n",
            "          -0.04889709,  0.05998953,  0.12855387, -0.0644626 ,\n",
            "          -0.0584533 ,  0.07728232,  0.12959869,  0.06410377,\n",
            "          -0.11194652, -0.01813679, -0.06351479, -0.04177333],\n",
            "         [-0.12725092, -0.05606477,  0.04850029, -0.01805647,\n",
            "          -0.08539975,  0.04233854, -0.00662312,  0.10052759,\n",
            "           0.0324211 , -0.10247862, -0.01302237, -0.04368325,\n",
            "          -0.00194638, -0.01452792, -0.13772225,  0.06124804,\n",
            "          -0.11384847,  0.05994447, -0.04254779, -0.08754425,\n",
            "           0.08888903, -0.06034268, -0.10274284,  0.07820146,\n",
            "          -0.03685093, -0.02754605, -0.08098239,  0.09154671,\n",
            "          -0.06953898,  0.02248179, -0.05255557,  0.12898183],\n",
            "         [-0.11296503, -0.02800782,  0.05780946,  0.07147088,\n",
            "           0.06963663, -0.05898597, -0.06510583, -0.09897226,\n",
            "          -0.03109681,  0.04035338, -0.01137801, -0.09560762,\n",
            "          -0.03305398, -0.07704616,  0.04848385, -0.10603112,\n",
            "          -0.04042342, -0.12231339, -0.0960675 , -0.0712086 ,\n",
            "          -0.04616748,  0.1092115 , -0.02681835, -0.07518101,\n",
            "          -0.02824055,  0.01868382, -0.08952745,  0.05749255,\n",
            "           0.04339133, -0.07413745,  0.02288518, -0.06916954]]]],\n",
            "      dtype=float32)>\n",
            "<tf.Variable 'conv2d_7/bias:0' shape=(32,) dtype=float32, numpy=\n",
            "array([-0.00099966, -0.0074321 ,  0.00212117,  0.0020699 , -0.00049141,\n",
            "        0.00065877, -0.00084332, -0.00148263, -0.00397045, -0.00199155,\n",
            "        0.00244777, -0.00753183,  0.00209837, -0.00090338, -0.00010562,\n",
            "        0.00196827, -0.0079772 , -0.00340809, -0.00780883, -0.0015054 ,\n",
            "        0.00464537, -0.00014185,  0.00058547,  0.00399493,  0.00234667,\n",
            "       -0.0003852 , -0.00213311,  0.00082205,  0.0016727 , -0.00200501,\n",
            "       -0.00470313, -0.00480735], dtype=float32)>\n",
            "<tf.Variable 'conv2d_8/kernel:0' shape=(3, 3, 32, 32) dtype=float32, numpy=\n",
            "array([[[[ 0.09135251,  0.00177484,  0.00996858, ..., -0.04125912,\n",
            "           0.08857411,  0.09482185],\n",
            "         [ 0.0156694 , -0.00872227,  0.04342094, ..., -0.00537283,\n",
            "          -0.095627  , -0.04847958],\n",
            "         [ 0.09012105,  0.06923366,  0.04585932, ..., -0.01604584,\n",
            "           0.04901075, -0.01389037],\n",
            "         ...,\n",
            "         [ 0.06809228, -0.06176298,  0.00312266, ...,  0.04127333,\n",
            "          -0.01236812, -0.09630462],\n",
            "         [-0.08770413,  0.04208522, -0.03939457, ..., -0.06662062,\n",
            "           0.05116869, -0.04234468],\n",
            "         [ 0.05837612,  0.03595101, -0.06587441, ..., -0.01157791,\n",
            "          -0.04464102, -0.09813908]],\n",
            "\n",
            "        [[ 0.04646363,  0.01664689,  0.0429048 , ...,  0.03458001,\n",
            "          -0.03587941, -0.03515495],\n",
            "         [-0.04635597, -0.07201198,  0.07860608, ...,  0.03469082,\n",
            "          -0.08333873, -0.00590399],\n",
            "         [ 0.0696791 , -0.06280883, -0.04706348, ...,  0.04181011,\n",
            "          -0.05083465, -0.02491344],\n",
            "         ...,\n",
            "         [-0.02948606, -0.07923874,  0.01426748, ...,  0.00629863,\n",
            "           0.0527744 ,  0.08208599],\n",
            "         [ 0.0886804 ,  0.07612102, -0.02174249, ..., -0.003076  ,\n",
            "           0.0523779 , -0.10157278],\n",
            "         [ 0.08086325, -0.02872987, -0.05233296, ...,  0.0673947 ,\n",
            "           0.03741976, -0.048269  ]],\n",
            "\n",
            "        [[-0.07501482, -0.02086017, -0.09230562, ...,  0.01321014,\n",
            "           0.09662669, -0.00491065],\n",
            "         [ 0.04019715,  0.08036034, -0.02134619, ...,  0.04115665,\n",
            "          -0.07911804, -0.06041449],\n",
            "         [ 0.08412311, -0.04776736,  0.06098988, ..., -0.08972235,\n",
            "           0.05716999, -0.00447791],\n",
            "         ...,\n",
            "         [-0.02240747,  0.06374823, -0.02316019, ...,  0.00159428,\n",
            "           0.082814  , -0.07619794],\n",
            "         [ 0.00101192, -0.06969341,  0.02195849, ..., -0.00861613,\n",
            "           0.03924678, -0.04294256],\n",
            "         [ 0.08239417, -0.09130038, -0.0525279 , ...,  0.06159376,\n",
            "           0.06179463, -0.0042759 ]]],\n",
            "\n",
            "\n",
            "       [[[-0.10108758, -0.0450988 , -0.05863493, ..., -0.00193111,\n",
            "           0.02016491,  0.09359009],\n",
            "         [ 0.02719445, -0.06859477,  0.00195763, ..., -0.04825255,\n",
            "          -0.00608826,  0.04724538],\n",
            "         [ 0.08630881,  0.08059054, -0.08689176, ...,  0.08779855,\n",
            "          -0.04316602, -0.07590022],\n",
            "         ...,\n",
            "         [-0.10343365,  0.04655222,  0.02891482, ...,  0.02059855,\n",
            "          -0.09727363,  0.09782994],\n",
            "         [ 0.02280532, -0.04268224, -0.0692048 , ...,  0.01155007,\n",
            "          -0.01676582,  0.0288583 ],\n",
            "         [ 0.0701464 ,  0.08468965, -0.0185314 , ..., -0.07766868,\n",
            "           0.0962021 , -0.07222582]],\n",
            "\n",
            "        [[-0.06476773, -0.0219964 ,  0.0869814 , ...,  0.04906826,\n",
            "           0.04472743, -0.06845734],\n",
            "         [ 0.01811606,  0.1010893 , -0.09662589, ..., -0.05505104,\n",
            "           0.0972378 , -0.07906242],\n",
            "         [-0.07286885,  0.0665054 , -0.07877496, ..., -0.0140829 ,\n",
            "          -0.00377633,  0.01425671],\n",
            "         ...,\n",
            "         [ 0.03782004, -0.03150234, -0.01750941, ..., -0.06931564,\n",
            "          -0.08988547, -0.00937255],\n",
            "         [ 0.03530739, -0.00702073, -0.05310927, ...,  0.01228915,\n",
            "           0.04982268,  0.04308224],\n",
            "         [-0.09326614,  0.08149076,  0.06188273, ...,  0.0894971 ,\n",
            "           0.09787177,  0.06331718]],\n",
            "\n",
            "        [[ 0.02344469, -0.04824755,  0.03356673, ...,  0.07668136,\n",
            "           0.01184964, -0.05445373],\n",
            "         [ 0.06352347, -0.08926803, -0.06087913, ..., -0.07680407,\n",
            "           0.01825781,  0.02460815],\n",
            "         [ 0.01706921,  0.0045543 , -0.0800205 , ..., -0.03925303,\n",
            "           0.01215311,  0.05827691],\n",
            "         ...,\n",
            "         [ 0.05708506, -0.08883759, -0.02729246, ..., -0.08984193,\n",
            "           0.03451618, -0.03575475],\n",
            "         [ 0.07881892, -0.1023194 , -0.08313084, ..., -0.09175932,\n",
            "           0.04721826,  0.09760623],\n",
            "         [-0.10444944, -0.07703596, -0.02548265, ..., -0.00778582,\n",
            "           0.0278402 , -0.06486959]]],\n",
            "\n",
            "\n",
            "       [[[-0.07003091,  0.00922226, -0.04240031, ..., -0.02455855,\n",
            "          -0.03053564,  0.05699914],\n",
            "         [-0.01010967, -0.10136209,  0.08167062, ..., -0.07601463,\n",
            "          -0.01189345, -0.04178739],\n",
            "         [-0.01200356,  0.00409036,  0.02649522, ..., -0.00656716,\n",
            "           0.07649426,  0.07925459],\n",
            "         ...,\n",
            "         [ 0.01061603, -0.04354247, -0.0666701 , ...,  0.09740181,\n",
            "          -0.03048709, -0.04483787],\n",
            "         [-0.02742697, -0.04163653,  0.07785909, ...,  0.01297741,\n",
            "          -0.0052643 ,  0.0577653 ],\n",
            "         [-0.0891794 ,  0.02285762,  0.02116338, ...,  0.09807106,\n",
            "          -0.08178058, -0.00646105]],\n",
            "\n",
            "        [[ 0.06586067, -0.00399177,  0.0439261 , ...,  0.06770305,\n",
            "          -0.07529566,  0.01618665],\n",
            "         [-0.07575518,  0.03892732, -0.07755584, ..., -0.01242969,\n",
            "           0.02619326,  0.02135374],\n",
            "         [-0.04106152, -0.02640202, -0.00940241, ...,  0.09235416,\n",
            "          -0.0733329 , -0.00622547],\n",
            "         ...,\n",
            "         [ 0.05737701, -0.04722735,  0.03067858, ..., -0.04908432,\n",
            "           0.08149553,  0.06966651],\n",
            "         [ 0.05713649,  0.08462735,  0.01154518, ..., -0.00397902,\n",
            "          -0.00014969, -0.06447442],\n",
            "         [ 0.08036254, -0.07697652,  0.10077114, ..., -0.04313879,\n",
            "          -0.10318644, -0.07721876]],\n",
            "\n",
            "        [[ 0.02782984, -0.04817117,  0.08057308, ..., -0.00384288,\n",
            "          -0.0180782 ,  0.07829197],\n",
            "         [ 0.04340898, -0.00871398, -0.04781307, ...,  0.00968618,\n",
            "           0.00234497, -0.03587408],\n",
            "         [ 0.07001942, -0.08969392, -0.05017882, ..., -0.05252947,\n",
            "          -0.05878101, -0.01688354],\n",
            "         ...,\n",
            "         [ 0.06965097,  0.01286158,  0.08751388, ...,  0.04166652,\n",
            "          -0.08508002, -0.09264328],\n",
            "         [-0.09681919, -0.04474654, -0.09013842, ...,  0.04808776,\n",
            "           0.06263862, -0.04805503],\n",
            "         [-0.01725205, -0.06046084,  0.02925527, ...,  0.09226471,\n",
            "          -0.03528232, -0.02818819]]]], dtype=float32)>\n",
            "<tf.Variable 'conv2d_8/bias:0' shape=(32,) dtype=float32, numpy=\n",
            "array([-4.5339999e-05,  1.6224787e-03, -3.9180595e-04, -2.6763889e-03,\n",
            "       -2.0101957e-03, -6.0871063e-04,  3.7646468e-04,  3.8332413e-03,\n",
            "       -3.4612352e-03, -3.3869771e-03,  3.8095899e-03, -2.4922760e-03,\n",
            "        1.2450245e-03,  4.3568300e-04,  1.5238718e-03, -4.8650890e-03,\n",
            "        1.3638178e-03, -3.8369003e-04, -3.9442345e-03,  1.8779084e-03,\n",
            "       -6.1533242e-03, -3.9538229e-03, -1.4259859e-03, -1.6022468e-03,\n",
            "       -1.3632500e-03,  4.4553765e-04,  2.9300770e-03, -1.7932872e-03,\n",
            "       -4.8051460e-04, -6.6580874e-04, -3.0133247e-03, -5.8652121e-03],\n",
            "      dtype=float32)>\n",
            "<tf.Variable 'conv2d_9/kernel:0' shape=(3, 3, 32, 32) dtype=float32, numpy=\n",
            "array([[[[-0.07418017, -0.01344527,  0.06782348, ...,  0.0030607 ,\n",
            "           0.01542319,  0.06756118],\n",
            "         [ 0.02882614, -0.01417451, -0.01297151, ...,  0.0694316 ,\n",
            "          -0.09769717,  0.04004616],\n",
            "         [ 0.09186015,  0.07251153,  0.0395328 , ..., -0.02725621,\n",
            "          -0.00149764, -0.00598036],\n",
            "         ...,\n",
            "         [-0.04160546,  0.08085385, -0.09587063, ...,  0.08941063,\n",
            "          -0.05719313,  0.07463074],\n",
            "         [ 0.09436549,  0.10062911, -0.03028501, ..., -0.00870403,\n",
            "          -0.02823781, -0.07713332],\n",
            "         [ 0.0482049 , -0.05023186, -0.05163112, ...,  0.05127925,\n",
            "          -0.05807231, -0.00583672]],\n",
            "\n",
            "        [[ 0.10021643, -0.06251819, -0.00887424, ..., -0.06097979,\n",
            "          -0.08276547, -0.04551749],\n",
            "         [ 0.07548288, -0.05240975, -0.00467898, ...,  0.09735509,\n",
            "           0.06905911, -0.01451087],\n",
            "         [ 0.10191635,  0.02413744,  0.0379363 , ...,  0.10231459,\n",
            "           0.04871191,  0.02709011],\n",
            "         ...,\n",
            "         [-0.03697388, -0.01391393,  0.05984915, ..., -0.03029898,\n",
            "           0.00460199, -0.0262833 ],\n",
            "         [ 0.00733604, -0.03487285, -0.04711753, ...,  0.06082068,\n",
            "          -0.07205806, -0.00819636],\n",
            "         [ 0.058746  ,  0.0359278 ,  0.05616944, ..., -0.09896974,\n",
            "          -0.0903291 , -0.06712546]],\n",
            "\n",
            "        [[ 0.10087136, -0.02784147, -0.03511322, ...,  0.03636723,\n",
            "           0.01800004,  0.09220809],\n",
            "         [ 0.08358681, -0.02072223,  0.10308547, ..., -0.05095127,\n",
            "           0.01831113,  0.02531014],\n",
            "         [-0.07072614, -0.0823412 , -0.0157655 , ...,  0.09896744,\n",
            "           0.05411613,  0.04357141],\n",
            "         ...,\n",
            "         [-0.05841407, -0.04802507,  0.03173851, ..., -0.07170091,\n",
            "           0.00915388, -0.09432141],\n",
            "         [-0.09931696, -0.0363305 ,  0.00081697, ...,  0.05858632,\n",
            "           0.07574074, -0.09656099],\n",
            "         [ 0.06149022,  0.02710715,  0.00143103, ..., -0.01248895,\n",
            "           0.09351549,  0.08701657]]],\n",
            "\n",
            "\n",
            "       [[[-0.051628  ,  0.05228088, -0.04706141, ..., -0.09095121,\n",
            "          -0.0597518 , -0.06560235],\n",
            "         [ 0.03515493,  0.07004606, -0.00480075, ...,  0.07972564,\n",
            "           0.04911621,  0.03316629],\n",
            "         [ 0.0083988 ,  0.03370943,  0.08608417, ...,  0.00234705,\n",
            "           0.06748246,  0.05850952],\n",
            "         ...,\n",
            "         [ 0.03680595,  0.08478374, -0.07799038, ..., -0.0448055 ,\n",
            "           0.02182355, -0.01444424],\n",
            "         [ 0.08757313,  0.01652207, -0.06443312, ..., -0.01288757,\n",
            "          -0.07253338,  0.01645612],\n",
            "         [ 0.06365553,  0.02971254, -0.05938838, ..., -0.00385093,\n",
            "          -0.11315452, -0.06980433]],\n",
            "\n",
            "        [[ 0.02823676, -0.02808769,  0.09671213, ..., -0.05888117,\n",
            "           0.02002127, -0.00757976],\n",
            "         [ 0.04357487,  0.09738305, -0.05628992, ..., -0.00635219,\n",
            "           0.030825  ,  0.00221439],\n",
            "         [-0.07558183, -0.04395858,  0.04677562, ...,  0.06635343,\n",
            "           0.09069952, -0.0084694 ],\n",
            "         ...,\n",
            "         [ 0.00458788, -0.03892703, -0.09628735, ...,  0.00625901,\n",
            "          -0.0477673 ,  0.08082227],\n",
            "         [ 0.00429024, -0.02016142,  0.03532265, ..., -0.01232756,\n",
            "          -0.0067738 ,  0.02972575],\n",
            "         [ 0.08000714, -0.09067628,  0.00167445, ...,  0.00092408,\n",
            "           0.07621638,  0.06164144]],\n",
            "\n",
            "        [[-0.08393927,  0.06220278, -0.01124539, ...,  0.07004689,\n",
            "          -0.08406988, -0.07921117],\n",
            "         [-0.06802145,  0.08921874,  0.02395604, ...,  0.0418824 ,\n",
            "           0.04912835,  0.09125941],\n",
            "         [-0.01358599, -0.09943208, -0.08253448, ..., -0.04531699,\n",
            "          -0.03708043,  0.06762699],\n",
            "         ...,\n",
            "         [ 0.00480515,  0.06029581,  0.05679045, ...,  0.02145221,\n",
            "           0.06252145,  0.01105267],\n",
            "         [ 0.05217568, -0.08507486, -0.03246763, ..., -0.0411219 ,\n",
            "          -0.00202751,  0.02580716],\n",
            "         [ 0.02288476, -0.02883027, -0.02639081, ..., -0.08540184,\n",
            "          -0.08330917, -0.05962262]]],\n",
            "\n",
            "\n",
            "       [[[ 0.10003304,  0.08347638, -0.07579227, ...,  0.01955885,\n",
            "           0.08478619, -0.05750729],\n",
            "         [-0.05829563,  0.00407387,  0.02529434, ..., -0.03131991,\n",
            "          -0.06499732,  0.04520774],\n",
            "         [-0.00736867, -0.06334572,  0.03120635, ..., -0.03452689,\n",
            "           0.05340037, -0.00123358],\n",
            "         ...,\n",
            "         [-0.00818578,  0.00970772, -0.05018495, ..., -0.0594784 ,\n",
            "          -0.02893675,  0.09528257],\n",
            "         [-0.03989614,  0.10136772, -0.03596744, ...,  0.05610944,\n",
            "          -0.08482149,  0.00500328],\n",
            "         [-0.02741535,  0.02843557,  0.05276142, ...,  0.10387051,\n",
            "           0.0104881 ,  0.0516136 ]],\n",
            "\n",
            "        [[ 0.00685035,  0.07315949,  0.07763513, ..., -0.04206894,\n",
            "          -0.08918509, -0.03157951],\n",
            "         [-0.01279736, -0.01156515,  0.07995169, ..., -0.08396603,\n",
            "           0.08802185, -0.07128342],\n",
            "         [ 0.07751057,  0.08255525,  0.01747798, ..., -0.09818606,\n",
            "           0.01661901,  0.05548517],\n",
            "         ...,\n",
            "         [ 0.04676412, -0.00780443,  0.00277587, ...,  0.06625789,\n",
            "          -0.08529051,  0.01366505],\n",
            "         [-0.08672802, -0.07615148, -0.03517473, ...,  0.05294409,\n",
            "           0.0696054 ,  0.07797284],\n",
            "         [-0.02813362, -0.0204024 ,  0.03853165, ..., -0.09126567,\n",
            "          -0.06948863,  0.0529121 ]],\n",
            "\n",
            "        [[-0.09173109, -0.03882392,  0.05358479, ...,  0.05562562,\n",
            "          -0.01450118,  0.01915456],\n",
            "         [-0.0032555 ,  0.04889197,  0.05161101, ...,  0.0802273 ,\n",
            "           0.04070278, -0.04139731],\n",
            "         [ 0.07871768, -0.05532065, -0.08263405, ...,  0.07550816,\n",
            "           0.03734813, -0.07379769],\n",
            "         ...,\n",
            "         [-0.00348149,  0.0341242 ,  0.05967302, ..., -0.07019539,\n",
            "          -0.03364034, -0.04795199],\n",
            "         [ 0.07895228, -0.04894027,  0.01966472, ...,  0.02515964,\n",
            "           0.03581318,  0.09337007],\n",
            "         [-0.06226877,  0.03381938,  0.05006227, ...,  0.03975146,\n",
            "           0.08884618, -0.05287215]]]], dtype=float32)>\n",
            "<tf.Variable 'conv2d_9/bias:0' shape=(32,) dtype=float32, numpy=\n",
            "array([-8.5971667e-04,  2.8266723e-03, -1.1881539e-03,  8.7660749e-04,\n",
            "       -2.1274192e-03, -1.1676382e-03, -2.4325661e-03, -5.2623893e-03,\n",
            "       -5.1809205e-03,  1.1214131e-03,  1.5664247e-03,  1.1381906e-03,\n",
            "       -1.2497499e-03,  1.0688015e-03,  1.0742430e-03,  1.8832478e-05,\n",
            "        9.7593531e-04, -8.8003679e-04, -1.0377490e-03, -2.6068295e-04,\n",
            "       -1.1375826e-03,  5.0149076e-03, -8.5415784e-03, -1.9134068e-03,\n",
            "        3.9914069e-03,  1.9531632e-03,  2.8593563e-03, -8.0056088e-03,\n",
            "       -3.0244796e-03, -5.7042489e-04, -5.5471482e-04, -1.6227862e-03],\n",
            "      dtype=float32)>\n",
            "<tf.Variable 'conv2d_10/kernel:0' shape=(3, 3, 32, 32) dtype=float32, numpy=\n",
            "array([[[[-0.05865742,  0.04632591,  0.01293703, ...,  0.04341111,\n",
            "          -0.01608665, -0.03823398],\n",
            "         [ 0.02265774, -0.0191413 ,  0.0944318 , ..., -0.08455262,\n",
            "          -0.03277599, -0.04891991],\n",
            "         [ 0.00588079, -0.04996126,  0.02827153, ..., -0.07433584,\n",
            "          -0.09456613,  0.09442033],\n",
            "         ...,\n",
            "         [-0.02361661,  0.0118227 ,  0.00867029, ...,  0.03381298,\n",
            "           0.02215637, -0.09323525],\n",
            "         [-0.08167858,  0.00319031,  0.03297331, ..., -0.05177474,\n",
            "           0.03031771, -0.08994108],\n",
            "         [ 0.02452502,  0.01389579, -0.05554373, ...,  0.09778388,\n",
            "           0.08304308, -0.08233821]],\n",
            "\n",
            "        [[ 0.01900978,  0.07661653, -0.01047969, ..., -0.01426983,\n",
            "          -0.04454329, -0.00210766],\n",
            "         [-0.02657264,  0.05440577, -0.01655558, ...,  0.08665478,\n",
            "           0.01217457, -0.08503737],\n",
            "         [-0.05812934, -0.09781526, -0.09360641, ..., -0.07304405,\n",
            "          -0.00853273, -0.03735463],\n",
            "         ...,\n",
            "         [ 0.09334031,  0.04835029, -0.09951805, ..., -0.08198833,\n",
            "           0.07246998,  0.02456633],\n",
            "         [ 0.05161064,  0.00620935, -0.08792891, ..., -0.01246368,\n",
            "           0.03156019,  0.09376941],\n",
            "         [-0.08690918, -0.06855027, -0.09897529, ..., -0.06637952,\n",
            "          -0.02466633,  0.07522362]],\n",
            "\n",
            "        [[ 0.05158719, -0.06410083, -0.0448776 , ..., -0.06202991,\n",
            "          -0.09796111, -0.04179311],\n",
            "         [ 0.10059105, -0.02503816, -0.0446411 , ...,  0.0817912 ,\n",
            "          -0.06319859,  0.02948457],\n",
            "         [ 0.08624823,  0.0232207 ,  0.04490431, ..., -0.03971335,\n",
            "          -0.06759577, -0.09559654],\n",
            "         ...,\n",
            "         [-0.09572956,  0.06243197,  0.03863439, ..., -0.07121178,\n",
            "          -0.05125218, -0.08216283],\n",
            "         [ 0.00669066,  0.0364029 ,  0.00448494, ...,  0.00145063,\n",
            "          -0.05239924, -0.02519652],\n",
            "         [-0.07165229,  0.04471631, -0.06611093, ...,  0.09427941,\n",
            "           0.0021366 , -0.01695909]]],\n",
            "\n",
            "\n",
            "       [[[-0.00077691, -0.00890279, -0.01522085, ..., -0.0603016 ,\n",
            "           0.05098653, -0.06890517],\n",
            "         [-0.06634203, -0.08644788,  0.04811204, ..., -0.07527646,\n",
            "           0.01517334, -0.0795023 ],\n",
            "         [-0.03820435,  0.01470985, -0.01574454, ...,  0.04656502,\n",
            "           0.02159795, -0.056586  ],\n",
            "         ...,\n",
            "         [-0.06502217, -0.03766599, -0.06576243, ...,  0.08956219,\n",
            "          -0.00647628, -0.03268645],\n",
            "         [ 0.01159685,  0.04236291,  0.01455874, ..., -0.00971349,\n",
            "          -0.0743532 ,  0.06446186],\n",
            "         [ 0.08425241,  0.0661036 ,  0.08050343, ..., -0.0095637 ,\n",
            "           0.09614202, -0.0853519 ]],\n",
            "\n",
            "        [[-0.05053218,  0.03907432,  0.07659038, ...,  0.03703592,\n",
            "           0.03690384,  0.09330504],\n",
            "         [ 0.07500031,  0.03803474,  0.06305901, ..., -0.06287961,\n",
            "          -0.05965352, -0.07868543],\n",
            "         [ 0.06337807,  0.07908684,  0.08846275, ..., -0.00576283,\n",
            "          -0.02300991,  0.07839006],\n",
            "         ...,\n",
            "         [-0.03203371, -0.04368504,  0.08445869, ...,  0.0943728 ,\n",
            "           0.07044339, -0.0722388 ],\n",
            "         [-0.08174933, -0.0696096 , -0.09740099, ..., -0.06917459,\n",
            "           0.05063499,  0.08251851],\n",
            "         [-0.03559367, -0.04781924,  0.08416483, ...,  0.0094893 ,\n",
            "          -0.00015053,  0.09527951]],\n",
            "\n",
            "        [[-0.09169665, -0.01349423, -0.10027162, ..., -0.0891457 ,\n",
            "           0.06235275,  0.05861939],\n",
            "         [-0.06911094,  0.01248796, -0.02349397, ...,  0.0593064 ,\n",
            "          -0.05917929,  0.00340541],\n",
            "         [ 0.0046381 ,  0.05341246, -0.06880518, ..., -0.09132041,\n",
            "           0.0092557 , -0.06312486],\n",
            "         ...,\n",
            "         [ 0.05396577, -0.07793297, -0.09793045, ..., -0.05030036,\n",
            "           0.10250633, -0.02983315],\n",
            "         [-0.04629854, -0.00787117, -0.02566745, ...,  0.01210387,\n",
            "           0.0656199 ,  0.09112424],\n",
            "         [ 0.07962416, -0.0371065 ,  0.01105951, ..., -0.00490865,\n",
            "          -0.04752562, -0.00331292]]],\n",
            "\n",
            "\n",
            "       [[[ 0.02262124,  0.03106584, -0.08020063, ...,  0.04931623,\n",
            "           0.01229561, -0.04963479],\n",
            "         [-0.0829459 , -0.05349417, -0.05479433, ..., -0.04412483,\n",
            "          -0.07818554, -0.04959191],\n",
            "         [ 0.03446511,  0.00605538, -0.06490821, ..., -0.08183438,\n",
            "          -0.02130593, -0.08305451],\n",
            "         ...,\n",
            "         [-0.00927674,  0.0351188 ,  0.00585345, ...,  0.05537777,\n",
            "          -0.03863294, -0.02511931],\n",
            "         [ 0.07960101, -0.0429682 ,  0.05739417, ...,  0.0448633 ,\n",
            "           0.0311176 , -0.08102771],\n",
            "         [ 0.06706912,  0.09404711, -0.03693673, ..., -0.03220775,\n",
            "          -0.01735982, -0.03593817]],\n",
            "\n",
            "        [[ 0.08756138, -0.0124698 ,  0.00322515, ..., -0.08227769,\n",
            "           0.00905575, -0.03488532],\n",
            "         [ 0.03049094,  0.01935817,  0.07641717, ...,  0.08038064,\n",
            "           0.08013335,  0.08358786],\n",
            "         [-0.05353762, -0.07358991,  0.09474088, ..., -0.06072345,\n",
            "           0.03221775,  0.02160558],\n",
            "         ...,\n",
            "         [ 0.09950811, -0.05161572, -0.10052017, ..., -0.07348786,\n",
            "          -0.05219009,  0.07042373],\n",
            "         [-0.06521804, -0.01637392,  0.09513912, ..., -0.00841745,\n",
            "          -0.04632407, -0.01564587],\n",
            "         [-0.0485249 ,  0.02245523,  0.07559332, ..., -0.00502433,\n",
            "           0.02834982,  0.0023023 ]],\n",
            "\n",
            "        [[ 0.01974854, -0.0202123 , -0.07098155, ...,  0.00711326,\n",
            "           0.09898738,  0.09817208],\n",
            "         [ 0.04282209,  0.0432504 , -0.01256084, ...,  0.03288638,\n",
            "           0.04963485, -0.05358885],\n",
            "         [ 0.07568768, -0.05299652, -0.05138272, ..., -0.07284866,\n",
            "          -0.05720038, -0.05778085],\n",
            "         ...,\n",
            "         [ 0.09426381, -0.04261436, -0.06588443, ...,  0.09822423,\n",
            "           0.01290343, -0.07950056],\n",
            "         [ 0.07698949, -0.06047631, -0.08594093, ..., -0.04365511,\n",
            "          -0.09803158, -0.09068234],\n",
            "         [-0.03566435, -0.04272854, -0.08093335, ...,  0.0401185 ,\n",
            "           0.05433811,  0.05477884]]]], dtype=float32)>\n",
            "<tf.Variable 'conv2d_10/bias:0' shape=(32,) dtype=float32, numpy=\n",
            "array([ 0.00092275,  0.00533178, -0.00315828,  0.00101158, -0.00173142,\n",
            "       -0.00370667,  0.00704122,  0.00112691,  0.00298318, -0.00288653,\n",
            "        0.00570003, -0.00179867, -0.00270694,  0.00187508,  0.00270351,\n",
            "        0.00267254,  0.00048985,  0.00331389, -0.00522186,  0.00541101,\n",
            "        0.00679314, -0.00691621,  0.0040118 , -0.00012383, -0.00458719,\n",
            "       -0.00309626,  0.00416394,  0.00112198,  0.00065637,  0.0036351 ,\n",
            "       -0.00425969,  0.00176084], dtype=float32)>\n",
            "<tf.Variable 'conv2d_11/kernel:0' shape=(3, 3, 32, 32) dtype=float32, numpy=\n",
            "array([[[[ 0.03798461, -0.04017209,  0.03466183, ...,  0.0418799 ,\n",
            "           0.04790693, -0.05175699],\n",
            "         [-0.09193449, -0.08451585,  0.06241097, ..., -0.05924405,\n",
            "           0.08874973, -0.00615671],\n",
            "         [-0.06232189, -0.04652416,  0.03250454, ..., -0.07962856,\n",
            "           0.09315873,  0.04121054],\n",
            "         ...,\n",
            "         [ 0.07042716,  0.05020982, -0.07287997, ..., -0.00486482,\n",
            "           0.08836731,  0.08363088],\n",
            "         [ 0.03645502,  0.0209412 , -0.0988154 , ...,  0.07857769,\n",
            "           0.07020491, -0.02707526],\n",
            "         [-0.01976167, -0.04136693, -0.04921795, ...,  0.1012311 ,\n",
            "           0.07581405,  0.10294411]],\n",
            "\n",
            "        [[-0.04709545,  0.00335723,  0.06770173, ..., -0.08563403,\n",
            "           0.09550317, -0.01291706],\n",
            "         [-0.05068433, -0.08850721, -0.03181645, ...,  0.0325349 ,\n",
            "          -0.08353397,  0.03622454],\n",
            "         [-0.03841691,  0.05072987, -0.07708742, ..., -0.09291212,\n",
            "           0.07327618, -0.00833438],\n",
            "         ...,\n",
            "         [ 0.0453519 , -0.00161645,  0.09743317, ...,  0.01705678,\n",
            "          -0.07348826, -0.06663166],\n",
            "         [-0.094362  , -0.1006294 , -0.03887139, ...,  0.00324104,\n",
            "          -0.06267574,  0.01532122],\n",
            "         [ 0.02227477, -0.02899017,  0.02582409, ...,  0.0478062 ,\n",
            "           0.05173483, -0.00982535]],\n",
            "\n",
            "        [[ 0.09904426, -0.022144  ,  0.04616248, ...,  0.00970517,\n",
            "           0.00077233,  0.09735767],\n",
            "         [ 0.07235987,  0.02163046, -0.00511919, ..., -0.02500653,\n",
            "          -0.05694869, -0.00819894],\n",
            "         [-0.02260941, -0.07329372, -0.04574211, ...,  0.06160538,\n",
            "           0.05572849, -0.03250737],\n",
            "         ...,\n",
            "         [-0.07047275,  0.01816284,  0.03183351, ..., -0.01368186,\n",
            "           0.04698799,  0.03613391],\n",
            "         [ 0.06829556,  0.02154982,  0.07555381, ..., -0.05938274,\n",
            "           0.083354  , -0.06247282],\n",
            "         [-0.01536011, -0.08144686,  0.05807513, ..., -0.00240392,\n",
            "          -0.08217375, -0.04994096]]],\n",
            "\n",
            "\n",
            "       [[[-0.04895422, -0.0372493 , -0.03413836, ...,  0.03026514,\n",
            "           0.07609747,  0.06206758],\n",
            "         [ 0.0925635 ,  0.00513597,  0.04906914, ..., -0.10199422,\n",
            "           0.003785  ,  0.00263582],\n",
            "         [ 0.08900283,  0.0103396 ,  0.0562044 , ...,  0.09994224,\n",
            "           0.02845971,  0.07182704],\n",
            "         ...,\n",
            "         [ 0.04693712,  0.08056519,  0.06534898, ..., -0.05423924,\n",
            "          -0.0453631 , -0.0258464 ],\n",
            "         [-0.02104875, -0.00453529,  0.08202391, ...,  0.03138772,\n",
            "          -0.05669703,  0.08052946],\n",
            "         [-0.10088548,  0.0185607 ,  0.03083329, ..., -0.01536156,\n",
            "           0.01203617, -0.04403275]],\n",
            "\n",
            "        [[-0.01112937,  0.00771124,  0.01064518, ..., -0.06084304,\n",
            "           0.10016195, -0.04390051],\n",
            "         [-0.01403675,  0.04692351,  0.02337957, ..., -0.04815757,\n",
            "          -0.03140537,  0.00523735],\n",
            "         [ 0.06220168, -0.01749211,  0.07956653, ...,  0.05363403,\n",
            "          -0.02250167,  0.02429187],\n",
            "         ...,\n",
            "         [-0.06411577,  0.07247553, -0.07075315, ...,  0.0773906 ,\n",
            "          -0.08067576, -0.03540273],\n",
            "         [-0.03100015, -0.0983726 ,  0.0350556 , ...,  0.04049202,\n",
            "           0.04588896,  0.02189066],\n",
            "         [-0.06561176, -0.08613374, -0.00609506, ...,  0.07333199,\n",
            "           0.00566328, -0.09649183]],\n",
            "\n",
            "        [[ 0.04432117, -0.0262845 ,  0.09380796, ..., -0.07784985,\n",
            "           0.04764449,  0.07737061],\n",
            "         [-0.09193254, -0.0160682 ,  0.0643997 , ...,  0.07793489,\n",
            "           0.0841665 , -0.049285  ],\n",
            "         [-0.0418785 , -0.01752851,  0.04032069, ..., -0.0482196 ,\n",
            "          -0.05553025,  0.00803116],\n",
            "         ...,\n",
            "         [ 0.03046399,  0.0108055 , -0.04488641, ...,  0.077415  ,\n",
            "           0.00295505,  0.1053507 ],\n",
            "         [-0.09654098,  0.01522351, -0.05125002, ...,  0.02114317,\n",
            "          -0.07838196,  0.00482392],\n",
            "         [ 0.03177999,  0.04257685, -0.07791498, ...,  0.06078905,\n",
            "           0.04480232,  0.03870884]]],\n",
            "\n",
            "\n",
            "       [[[ 0.08558339,  0.00222137,  0.02022297, ..., -0.09760354,\n",
            "          -0.02441978, -0.06268301],\n",
            "         [-0.03838791, -0.07115331, -0.0436804 , ...,  0.05341925,\n",
            "          -0.065549  ,  0.09705546],\n",
            "         [-0.02226136, -0.0859462 ,  0.00362286, ..., -0.00847739,\n",
            "          -0.07235338,  0.06767198],\n",
            "         ...,\n",
            "         [ 0.08239006,  0.0819075 , -0.05843985, ...,  0.05650665,\n",
            "           0.09800196, -0.04750983],\n",
            "         [ 0.07521325, -0.07246225,  0.06559541, ...,  0.03364266,\n",
            "           0.01140973, -0.02095075],\n",
            "         [-0.00423501,  0.08291353, -0.07729252, ..., -0.02976579,\n",
            "          -0.08102392,  0.02080408]],\n",
            "\n",
            "        [[ 0.00630782,  0.05393846,  0.06184117, ...,  0.07671548,\n",
            "           0.04800656,  0.06559581],\n",
            "         [ 0.05980913,  0.08241823, -0.07693511, ...,  0.06362414,\n",
            "           0.08290678, -0.07460076],\n",
            "         [ 0.04796496, -0.05373031,  0.0125494 , ...,  0.05355109,\n",
            "          -0.08005742, -0.02776097],\n",
            "         ...,\n",
            "         [-0.09816595, -0.02530701, -0.01707508, ...,  0.00566344,\n",
            "          -0.04788318,  0.06771638],\n",
            "         [ 0.07424737,  0.05527311, -0.0078422 , ..., -0.07326669,\n",
            "          -0.10128861, -0.09161419],\n",
            "         [ 0.09490333,  0.0624206 , -0.05551882, ...,  0.05433244,\n",
            "           0.08100039,  0.05130189]],\n",
            "\n",
            "        [[ 0.00446586, -0.06271199,  0.04076338, ...,  0.08574936,\n",
            "           0.05874147,  0.06733288],\n",
            "         [-0.05670669, -0.02314215, -0.0079027 , ...,  0.00375425,\n",
            "          -0.07670885, -0.08764543],\n",
            "         [ 0.03449245, -0.06367547, -0.07607669, ..., -0.08742443,\n",
            "           0.00938346, -0.09303524],\n",
            "         ...,\n",
            "         [-0.02100068, -0.09115496, -0.00734766, ..., -0.00289438,\n",
            "          -0.02570383,  0.09385919],\n",
            "         [-0.01802075, -0.09853606,  0.01501903, ..., -0.00087654,\n",
            "          -0.00240526, -0.0406561 ],\n",
            "         [-0.00867213, -0.05463586, -0.02620463, ..., -0.04250553,\n",
            "           0.01812837, -0.08267494]]]], dtype=float32)>\n",
            "<tf.Variable 'conv2d_11/bias:0' shape=(32,) dtype=float32, numpy=\n",
            "array([-0.00231729,  0.00063966, -0.0113486 , -0.0035297 , -0.00133844,\n",
            "       -0.00702842,  0.00015891, -0.00379067, -0.00428938, -0.00413114,\n",
            "       -0.00582195,  0.00016869, -0.00182164, -0.00622526, -0.01188719,\n",
            "       -0.00154885,  0.00105104, -0.00285795, -0.01258592, -0.00573222,\n",
            "       -0.00858763, -0.00135028, -0.00046062, -0.00164111, -0.00287192,\n",
            "       -0.00059685, -0.00317723, -0.00389342, -0.00597649,  0.00288365,\n",
            "       -0.00295054,  0.00197927], dtype=float32)>\n",
            "<tf.Variable 'conv2d_12/kernel:0' shape=(3, 3, 32, 64) dtype=float32, numpy=\n",
            "array([[[[-0.04872232,  0.01893043, -0.0527883 , ..., -0.06189818,\n",
            "           0.06164777,  0.07399368],\n",
            "         [ 0.04050634,  0.06554192, -0.04812099, ...,  0.04305375,\n",
            "           0.04937764, -0.07249822],\n",
            "         [ 0.06702885,  0.00270129, -0.06994089, ...,  0.07797122,\n",
            "          -0.0507134 ,  0.06500115],\n",
            "         ...,\n",
            "         [ 0.02337421,  0.03530896, -0.0535147 , ..., -0.07594167,\n",
            "          -0.02021462, -0.00425764],\n",
            "         [ 0.00557913,  0.01338284,  0.07708351, ..., -0.01910454,\n",
            "           0.02136058, -0.00617583],\n",
            "         [ 0.08020477,  0.02628756,  0.0643917 , ...,  0.05636802,\n",
            "           0.04697259,  0.06536748]],\n",
            "\n",
            "        [[ 0.06488078, -0.05568206,  0.05547789, ...,  0.04580898,\n",
            "          -0.07067543,  0.01672751],\n",
            "         [ 0.07261074, -0.0514866 ,  0.0169612 , ..., -0.00949893,\n",
            "          -0.02216704, -0.0149051 ],\n",
            "         [-0.06648666, -0.08202747,  0.0569266 , ...,  0.00847495,\n",
            "           0.02814889, -0.01259545],\n",
            "         ...,\n",
            "         [-0.06677167, -0.01424305,  0.00252103, ...,  0.03534238,\n",
            "          -0.00928602, -0.0351612 ],\n",
            "         [ 0.00205352,  0.02760339, -0.04644129, ...,  0.08173734,\n",
            "          -0.01323074, -0.0287109 ],\n",
            "         [-0.01493712,  0.04134214,  0.07046575, ...,  0.02172413,\n",
            "          -0.03395801,  0.06601152]],\n",
            "\n",
            "        [[ 0.05737181,  0.05018793,  0.07582638, ..., -0.00246877,\n",
            "           0.03034426,  0.05297271],\n",
            "         [ 0.00453373,  0.03874168, -0.06930729, ...,  0.05287964,\n",
            "          -0.07420821,  0.02032594],\n",
            "         [ 0.0353257 , -0.01690488, -0.00233646, ..., -0.06282268,\n",
            "          -0.04727201, -0.08368661],\n",
            "         ...,\n",
            "         [-0.00907689,  0.04894781, -0.0270668 , ..., -0.06309959,\n",
            "          -0.06174483,  0.07994717],\n",
            "         [ 0.06435737, -0.05086357,  0.02263704, ...,  0.02994439,\n",
            "          -0.08214337, -0.00697149],\n",
            "         [-0.05032978,  0.05761545,  0.07596497, ..., -0.04863245,\n",
            "           0.05985877, -0.03575885]]],\n",
            "\n",
            "\n",
            "       [[[-0.0596514 ,  0.0444327 ,  0.00653764, ..., -0.05627054,\n",
            "          -0.06296274,  0.05560523],\n",
            "         [-0.01802054,  0.01988434, -0.04962508, ..., -0.02778246,\n",
            "          -0.04256247, -0.03486903],\n",
            "         [-0.06767219,  0.05082636,  0.06668504, ..., -0.04705149,\n",
            "           0.01188617,  0.04655531],\n",
            "         ...,\n",
            "         [ 0.00787186, -0.06419817,  0.00396937, ..., -0.02160799,\n",
            "          -0.02820762,  0.05830586],\n",
            "         [-0.06943262, -0.07486016, -0.04509707, ...,  0.00458934,\n",
            "          -0.08298495,  0.01530379],\n",
            "         [-0.02754108,  0.04307155, -0.08739907, ...,  0.05794296,\n",
            "          -0.00335351, -0.02822056]],\n",
            "\n",
            "        [[-0.06162648, -0.05197603,  0.01857168, ...,  0.02569505,\n",
            "          -0.00271168, -0.0217089 ],\n",
            "         [ 0.07008731,  0.01504089, -0.02985189, ..., -0.07424296,\n",
            "           0.04359003,  0.04896773],\n",
            "         [-0.04674631,  0.04409121, -0.05777996, ...,  0.04253728,\n",
            "          -0.02695368, -0.04225472],\n",
            "         ...,\n",
            "         [-0.05582669, -0.02874094,  0.05752908, ...,  0.02940158,\n",
            "          -0.06569447, -0.05087422],\n",
            "         [-0.06616644,  0.06770743, -0.00105614, ...,  0.03073829,\n",
            "          -0.05036008,  0.04525312],\n",
            "         [-0.06765778, -0.00345339, -0.07633428, ..., -0.04292012,\n",
            "           0.02154637, -0.06167343]],\n",
            "\n",
            "        [[-0.04871597,  0.04241459, -0.02499683, ..., -0.01010649,\n",
            "          -0.07511605,  0.02799939],\n",
            "         [ 0.02789669,  0.00850906,  0.00888586, ...,  0.02130112,\n",
            "           0.04819372, -0.07561409],\n",
            "         [ 0.06231794,  0.00422227,  0.02938789, ..., -0.07500261,\n",
            "          -0.06867233,  0.05269928],\n",
            "         ...,\n",
            "         [-0.07945292,  0.03973204,  0.02959277, ...,  0.05347178,\n",
            "          -0.06930802,  0.03787484],\n",
            "         [-0.07486227, -0.07374104, -0.05573304, ..., -0.04371439,\n",
            "           0.0283976 , -0.06885122],\n",
            "         [-0.01967738,  0.0015039 , -0.0639026 , ...,  0.05629148,\n",
            "           0.06089263,  0.04357019]]],\n",
            "\n",
            "\n",
            "       [[[ 0.0770074 , -0.02810088,  0.01673972, ...,  0.07234841,\n",
            "           0.00519624, -0.05185847],\n",
            "         [ 0.06963178, -0.06339313,  0.04303659, ..., -0.03324589,\n",
            "          -0.04831776, -0.05040488],\n",
            "         [ 0.03692037,  0.03271396, -0.01710569, ..., -0.03638154,\n",
            "          -0.06837544, -0.03913493],\n",
            "         ...,\n",
            "         [ 0.00416492, -0.08231843, -0.00112873, ..., -0.07519744,\n",
            "          -0.01410714, -0.00099038],\n",
            "         [ 0.08327085, -0.0154762 ,  0.06224945, ...,  0.06204528,\n",
            "          -0.08136388,  0.04447949],\n",
            "         [ 0.03389633, -0.02412092,  0.06713621, ..., -0.07457948,\n",
            "           0.00214841, -0.073717  ]],\n",
            "\n",
            "        [[-0.0023431 , -0.04548219,  0.0701904 , ...,  0.06295615,\n",
            "          -0.02583566, -0.02879585],\n",
            "         [-0.05635406, -0.01991292, -0.01512266, ..., -0.07539107,\n",
            "          -0.0036637 , -0.07230393],\n",
            "         [-0.00483602,  0.05283871, -0.06045896, ..., -0.03602775,\n",
            "          -0.03896141, -0.04888424],\n",
            "         ...,\n",
            "         [-0.07889349, -0.07396935,  0.04237855, ...,  0.07210138,\n",
            "           0.02807598, -0.04662731],\n",
            "         [ 0.02921063, -0.06694341,  0.00540357, ..., -0.07507363,\n",
            "           0.05327724,  0.0397446 ],\n",
            "         [ 0.04462392, -0.02083958, -0.02357904, ...,  0.03872805,\n",
            "          -0.02856063, -0.00906898]],\n",
            "\n",
            "        [[ 0.06749524,  0.0106462 ,  0.07269775, ..., -0.06387865,\n",
            "           0.02010023,  0.07680784],\n",
            "         [-0.04013075,  0.07533795, -0.03423601, ..., -0.0094176 ,\n",
            "          -0.06157751, -0.07790312],\n",
            "         [ 0.06980117, -0.01408749,  0.06912035, ...,  0.06002783,\n",
            "           0.0264861 ,  0.04578899],\n",
            "         ...,\n",
            "         [ 0.00638713,  0.06475595,  0.01241408, ...,  0.05011228,\n",
            "           0.00255972, -0.05328878],\n",
            "         [ 0.05682459, -0.05065385,  0.05695956, ..., -0.00535841,\n",
            "          -0.06618264,  0.05567668],\n",
            "         [ 0.05879895,  0.04310704,  0.05824196, ...,  0.03534507,\n",
            "           0.01280232, -0.05668018]]]], dtype=float32)>\n",
            "<tf.Variable 'conv2d_12/bias:0' shape=(64,) dtype=float32, numpy=\n",
            "array([-0.01082487, -0.00606347,  0.00333877, -0.00052551, -0.00786213,\n",
            "       -0.01291748,  0.01378409, -0.0014753 , -0.01384054, -0.00036441,\n",
            "        0.00063921, -0.00177099,  0.01067091, -0.0109945 , -0.00617316,\n",
            "       -0.00666773, -0.00899193,  0.00430164, -0.00523126, -0.00619657,\n",
            "       -0.01357303, -0.00908763, -0.01310073,  0.01071156,  0.00235357,\n",
            "        0.01024671, -0.00967599,  0.00565892,  0.00505044, -0.002498  ,\n",
            "       -0.01161612,  0.00545316,  0.0019401 , -0.0122902 , -0.00610193,\n",
            "       -0.00455737, -0.01060117,  0.00806517, -0.00334126, -0.01335845,\n",
            "        0.00389745,  0.00356411, -0.01052683, -0.00669544, -0.00606374,\n",
            "       -0.0089869 , -0.00842639, -0.0005978 , -0.00757577, -0.00495483,\n",
            "        0.00251622,  0.00080923,  0.0054824 ,  0.0040941 , -0.00064797,\n",
            "        0.00300003,  0.00978927, -0.01091513, -0.00921569, -0.00581357,\n",
            "        0.00224657, -0.00151198, -0.00191717, -0.00192785], dtype=float32)>\n",
            "<tf.Variable 'conv2d_13/kernel:0' shape=(3, 3, 64, 64) dtype=float32, numpy=\n",
            "array([[[[-5.3325832e-02,  2.3036947e-02,  6.7511916e-02, ...,\n",
            "           2.2814262e-03,  3.9698007e-03,  4.8565462e-02],\n",
            "         [ 1.6156014e-02,  3.3806045e-02,  4.5623455e-02, ...,\n",
            "          -1.8843311e-03,  5.8338862e-02, -8.5178188e-05],\n",
            "         [ 3.4913305e-02, -3.4051362e-02,  6.8507932e-02, ...,\n",
            "           1.1027173e-02, -1.6941361e-02,  2.1448873e-02],\n",
            "         ...,\n",
            "         [-6.5604858e-02, -3.2029703e-02, -5.7982251e-02, ...,\n",
            "          -2.0070927e-02, -4.0314291e-02,  3.4399077e-03],\n",
            "         [ 3.6687803e-02, -8.9261197e-03,  2.7810368e-03, ...,\n",
            "           5.2976128e-02, -2.8311972e-02,  4.7210492e-02],\n",
            "         [-1.1088317e-02, -3.0259125e-02,  3.2880921e-03, ...,\n",
            "          -1.6856512e-02,  6.4376786e-02, -2.9235741e-02]],\n",
            "\n",
            "        [[ 3.6973968e-02,  4.8660979e-02, -4.9753200e-02, ...,\n",
            "           5.6201775e-02,  3.7097555e-02, -3.8807199e-03],\n",
            "         [ 1.9238869e-02, -4.2791206e-02,  5.1857170e-02, ...,\n",
            "           3.0221382e-02,  2.5001444e-02,  1.5769737e-02],\n",
            "         [-6.5500341e-02, -3.3681680e-02,  2.6520805e-03, ...,\n",
            "          -1.0219303e-02, -3.8028065e-02,  5.8787704e-02],\n",
            "         ...,\n",
            "         [-6.8959087e-02,  4.1444745e-02,  1.6450789e-03, ...,\n",
            "           3.9454103e-02, -1.2600910e-02,  4.1982964e-02],\n",
            "         [-3.0774426e-02, -3.7335206e-02, -4.3395814e-02, ...,\n",
            "           2.6424050e-02, -8.7425690e-03,  4.1366555e-02],\n",
            "         [-3.9404720e-02, -5.6493487e-02, -9.4720088e-03, ...,\n",
            "           2.0375807e-02,  5.2383490e-02,  3.3595987e-02]],\n",
            "\n",
            "        [[-2.7435845e-02, -4.8817236e-02,  2.8605811e-02, ...,\n",
            "          -1.7407386e-02, -4.3008933e-03, -1.9016502e-02],\n",
            "         [ 1.4918044e-02,  7.3249534e-02,  1.9479986e-02, ...,\n",
            "           3.8070425e-02,  3.5699554e-02, -4.5933701e-02],\n",
            "         [-7.4410744e-02,  2.6077388e-02,  4.4051308e-02, ...,\n",
            "           5.6463020e-04,  4.2790983e-02,  4.6998295e-03],\n",
            "         ...,\n",
            "         [-4.0542938e-02,  3.0701401e-02, -5.7476453e-02, ...,\n",
            "           6.8833544e-03,  5.1325627e-02,  6.5223123e-03],\n",
            "         [-6.9044024e-02, -5.4955861e-04, -6.7351423e-02, ...,\n",
            "           6.0050688e-03, -5.8490649e-02, -5.5916689e-02],\n",
            "         [-6.3685939e-02, -2.8373582e-02, -1.5923465e-02, ...,\n",
            "          -6.3742287e-02, -4.0516447e-02,  2.6977211e-02]]],\n",
            "\n",
            "\n",
            "       [[[-5.6946885e-02, -5.7523455e-02, -2.8795926e-02, ...,\n",
            "           7.0134372e-02, -1.2173998e-02, -6.6439748e-02],\n",
            "         [-3.6560152e-02, -1.4034212e-02, -3.4880627e-02, ...,\n",
            "           6.6350959e-02,  6.2311985e-02, -1.8547494e-02],\n",
            "         [ 5.5742368e-02,  1.9904889e-02, -6.0486767e-02, ...,\n",
            "          -4.0844943e-02, -6.7244299e-02, -1.8882515e-02],\n",
            "         ...,\n",
            "         [-1.6581820e-02,  5.3092137e-02,  4.9428392e-02, ...,\n",
            "           2.6561558e-02, -6.1681565e-02,  5.4144710e-02],\n",
            "         [ 6.6116638e-02,  4.8755355e-02,  2.5951600e-02, ...,\n",
            "          -5.7110675e-02,  3.8014900e-02,  4.5737512e-02],\n",
            "         [ 4.4308640e-02,  1.6151834e-02,  2.7901651e-02, ...,\n",
            "           2.6012337e-02, -3.5454813e-02, -5.5872839e-02]],\n",
            "\n",
            "        [[ 4.5437783e-02,  3.5213213e-04, -5.1653773e-02, ...,\n",
            "           6.2570803e-02, -6.3624911e-02, -3.8614869e-02],\n",
            "         [ 3.1477634e-02, -5.7856474e-02, -8.7192943e-03, ...,\n",
            "           2.2873080e-03, -3.3416033e-02, -3.8398247e-02],\n",
            "         [ 1.2039815e-02,  1.7076230e-02, -4.2280987e-02, ...,\n",
            "           7.0738092e-02,  5.2232463e-02, -2.2295320e-02],\n",
            "         ...,\n",
            "         [-4.8893049e-02,  2.7113987e-02, -3.4794312e-02, ...,\n",
            "           5.6684446e-02, -6.8720572e-02,  1.6227800e-02],\n",
            "         [-7.4676730e-02,  2.2964370e-02, -1.6874153e-02, ...,\n",
            "          -5.4722983e-02, -5.5002373e-02,  5.7674892e-02],\n",
            "         [-5.4576714e-02, -3.0709019e-02, -5.6606662e-02, ...,\n",
            "          -4.0039457e-02, -1.2265114e-02, -2.4144469e-04]],\n",
            "\n",
            "        [[ 4.6766601e-03,  4.1269574e-02,  6.3264765e-02, ...,\n",
            "          -7.2065359e-03,  4.2877175e-02,  2.0546339e-02],\n",
            "         [-3.0158032e-02,  6.2522337e-02, -5.2492455e-02, ...,\n",
            "           4.6497896e-02, -2.8367005e-02, -3.3796202e-02],\n",
            "         [ 4.0262328e-03,  4.0164893e-03,  4.7702774e-02, ...,\n",
            "           6.1839890e-02, -2.0409975e-02,  2.8838057e-02],\n",
            "         ...,\n",
            "         [ 6.1061375e-02,  4.6881426e-02, -4.6858612e-02, ...,\n",
            "          -1.4479927e-02, -1.1455233e-02,  3.6322713e-02],\n",
            "         [ 4.4402912e-02,  6.8441123e-02,  6.6416331e-02, ...,\n",
            "          -2.0847673e-02,  6.3010357e-02,  4.0344499e-02],\n",
            "         [ 6.2619619e-02,  5.3642016e-02, -2.4746571e-02, ...,\n",
            "          -1.3839111e-02,  2.3637967e-02,  3.9011218e-02]]],\n",
            "\n",
            "\n",
            "       [[[-5.4265995e-02, -5.1397108e-02, -5.3077601e-02, ...,\n",
            "           2.0652337e-02,  4.4713210e-02, -1.6690673e-02],\n",
            "         [-2.1398809e-02,  5.6565475e-02,  6.1074547e-03, ...,\n",
            "           5.5971239e-02,  6.2463470e-03,  7.5041287e-02],\n",
            "         [-7.3800482e-02,  1.2780447e-02, -5.8825988e-02, ...,\n",
            "           6.4639367e-02,  6.7901216e-02, -5.9800003e-02],\n",
            "         ...,\n",
            "         [-6.4079180e-02,  4.3739192e-03,  4.0310591e-02, ...,\n",
            "          -2.9116407e-02,  6.5536171e-02,  2.0706851e-02],\n",
            "         [-2.3380080e-02, -5.1732942e-02,  2.7877621e-02, ...,\n",
            "           6.5559261e-02, -3.5158835e-02, -3.3056796e-02],\n",
            "         [ 3.4278605e-02,  2.4356471e-02,  3.5897139e-02, ...,\n",
            "          -7.0798688e-02,  2.8755808e-02, -2.5116969e-02]],\n",
            "\n",
            "        [[-4.9354494e-02,  2.6702469e-03,  4.2178392e-02, ...,\n",
            "          -3.9129224e-02, -1.7384965e-02, -4.6863172e-02],\n",
            "         [-6.9618993e-02, -3.3438914e-02,  4.8768058e-02, ...,\n",
            "           2.3429632e-02, -1.0111570e-02,  2.4353202e-02],\n",
            "         [-1.2683538e-03, -4.8442945e-02, -6.8746589e-04, ...,\n",
            "           2.3387501e-02, -3.0415338e-02,  3.6447790e-02],\n",
            "         ...,\n",
            "         [ 3.2361235e-02, -4.5366943e-02, -6.2435150e-02, ...,\n",
            "           9.1493698e-03,  4.5234684e-02,  2.6716404e-02],\n",
            "         [ 1.3301485e-02,  6.5229021e-02, -2.7841626e-02, ...,\n",
            "           6.7674816e-02,  2.2884801e-02,  1.7056613e-03],\n",
            "         [ 3.7210017e-02, -4.8339337e-02, -5.0631303e-02, ...,\n",
            "          -9.6436152e-03,  6.0105272e-02,  1.0942937e-02]],\n",
            "\n",
            "        [[-6.0854252e-02, -1.8322226e-02, -4.5328859e-02, ...,\n",
            "          -3.8940135e-02, -3.9030049e-02,  2.8299360e-02],\n",
            "         [ 5.6875527e-02,  1.6179869e-02, -5.3892370e-02, ...,\n",
            "           3.2664668e-02, -6.0504325e-02,  2.1311183e-02],\n",
            "         [-2.0860522e-03,  4.9330391e-02,  4.2587798e-02, ...,\n",
            "           7.0003584e-02, -2.8380012e-02, -2.2157475e-02],\n",
            "         ...,\n",
            "         [ 1.1498137e-02,  3.6570314e-02,  4.5998812e-02, ...,\n",
            "          -4.9608417e-02, -4.3261487e-02, -3.4745254e-02],\n",
            "         [ 3.7719775e-02,  9.3464991e-03, -1.1676264e-02, ...,\n",
            "           1.5885411e-02,  3.9607054e-03, -5.3993132e-02],\n",
            "         [ 4.2534221e-02,  7.4269399e-03, -1.0723143e-02, ...,\n",
            "          -1.6595094e-02, -1.5200489e-02,  6.1695736e-02]]]],\n",
            "      dtype=float32)>\n",
            "<tf.Variable 'conv2d_13/bias:0' shape=(64,) dtype=float32, numpy=\n",
            "array([-1.30355787e-02, -7.21594598e-03, -9.57607850e-03, -4.78952331e-03,\n",
            "       -8.46995693e-03, -2.27675145e-03, -1.18860165e-02, -3.44466325e-03,\n",
            "        4.30606026e-03, -8.08338448e-03, -9.31463204e-03, -1.05900094e-02,\n",
            "        1.29576703e-03, -1.14223047e-03, -4.24195081e-03, -1.66428890e-02,\n",
            "        1.13980926e-03, -1.37402313e-02, -1.09511772e-02, -1.42771825e-02,\n",
            "       -7.44145655e-04, -1.22868866e-02, -7.63950357e-03, -1.34941684e-02,\n",
            "        1.20125915e-05,  2.73618405e-03, -8.21569841e-03, -9.05613508e-03,\n",
            "       -6.50281133e-03, -7.01193418e-03, -4.70967125e-03, -3.03821522e-04,\n",
            "       -8.42624868e-04,  3.89065174e-03, -1.24238208e-02, -7.22862035e-03,\n",
            "       -8.41475558e-03, -1.04477536e-02, -8.30876268e-03, -7.94256013e-03,\n",
            "       -5.55200409e-03, -1.01545453e-02,  2.05998425e-03, -9.58940480e-03,\n",
            "       -1.22380361e-03,  1.73785258e-03,  1.12976602e-04, -9.86075029e-03,\n",
            "        2.76115863e-03,  5.08622359e-03, -7.30741397e-03, -8.83019343e-03,\n",
            "       -9.66910273e-04, -6.06609276e-03, -8.83463118e-03, -9.02234763e-03,\n",
            "       -7.89994746e-03, -1.09173916e-03, -1.18992412e-02, -1.25497933e-02,\n",
            "       -1.17635988e-02,  1.56765676e-03, -1.20524280e-02, -8.48790805e-04],\n",
            "      dtype=float32)>\n",
            "<tf.Variable 'dense_2/kernel:0' shape=(2304, 512) dtype=float32, numpy=\n",
            "array([[ 0.03280608, -0.00841272,  0.03579247, ..., -0.01986904,\n",
            "        -0.02037286,  0.00930949],\n",
            "       [-0.01354925,  0.01938586,  0.03322319, ..., -0.02498034,\n",
            "        -0.00896929, -0.00942194],\n",
            "       [ 0.01274882,  0.03506536,  0.03122378, ...,  0.00488488,\n",
            "        -0.02690085, -0.03685056],\n",
            "       ...,\n",
            "       [-0.01299655,  0.00873996, -0.00359315, ...,  0.02832883,\n",
            "        -0.04142186, -0.03895881],\n",
            "       [-0.02042406, -0.01918252, -0.02379574, ..., -0.01196441,\n",
            "         0.04170324,  0.03099172],\n",
            "       [ 0.02964327, -0.00122662, -0.0422954 , ..., -0.01727555,\n",
            "        -0.02397328,  0.01398963]], dtype=float32)>\n",
            "<tf.Variable 'dense_2/bias:0' shape=(512,) dtype=float32, numpy=\n",
            "array([ 3.25855357e-03,  6.18929975e-03, -6.53506024e-03, -6.63532456e-03,\n",
            "       -5.23990160e-03, -7.79572595e-03,  4.60944185e-03,  5.40981721e-03,\n",
            "        2.17156345e-03,  5.52425347e-03,  5.88804390e-03, -3.68111813e-03,\n",
            "       -1.04382203e-03,  2.89303530e-03, -2.06668186e-03,  7.37734092e-03,\n",
            "       -1.89780293e-03,  5.17502241e-03,  3.16044688e-03,  2.42008362e-03,\n",
            "        7.58095086e-03,  3.48688592e-03,  2.28406489e-03,  2.58697104e-03,\n",
            "       -4.55777999e-03, -2.45033368e-03, -5.84139349e-03, -3.05831642e-03,\n",
            "       -2.88311485e-03, -5.59149915e-03,  6.18637633e-03, -5.44704171e-03,\n",
            "        4.48014308e-03, -6.02836069e-03,  4.04064870e-03, -7.46797165e-03,\n",
            "       -6.91328151e-03,  4.73081507e-03,  6.62911125e-03,  6.73956703e-03,\n",
            "       -6.50733057e-03, -6.39139349e-03,  3.37875402e-03, -6.26587635e-03,\n",
            "       -7.17163645e-03,  1.47919287e-03, -9.32203024e-04, -5.89776086e-03,\n",
            "        5.46574779e-03, -5.97231369e-03, -1.36472669e-03,  2.56755925e-03,\n",
            "       -4.80440073e-03,  4.11237124e-03,  5.20111807e-03, -2.66763684e-03,\n",
            "       -9.26586706e-03, -5.41661028e-03,  5.61906723e-03,  7.45736575e-03,\n",
            "        3.24152788e-04,  8.44784454e-03,  3.78945516e-03, -6.34124735e-03,\n",
            "        5.26962057e-03, -5.01970435e-03, -2.39186571e-03, -4.95968061e-03,\n",
            "       -3.14080389e-03,  5.22624282e-03,  4.64652665e-03, -7.49747828e-03,\n",
            "       -2.72551528e-03,  4.09585796e-03,  3.13944183e-03, -9.71381844e-04,\n",
            "       -9.29079577e-03, -5.43073518e-03,  4.60367789e-03, -1.45503518e-03,\n",
            "       -4.11890773e-03,  4.25520027e-03,  1.42432749e-03, -2.96840211e-03,\n",
            "        3.60733923e-03, -5.54958172e-03, -3.36917420e-03, -2.36774189e-03,\n",
            "       -7.62331579e-03, -5.30709838e-03, -2.96870968e-03,  5.09186322e-03,\n",
            "        1.74663879e-03, -4.39258246e-03, -1.93195173e-03, -3.82721378e-03,\n",
            "       -6.27797050e-03,  2.15107831e-03,  5.65477973e-03,  5.90197451e-04,\n",
            "       -1.51486287e-03,  7.24678487e-03,  6.15533954e-03, -4.17728676e-03,\n",
            "        4.77169082e-03,  3.92808020e-03, -2.43436871e-03, -5.34030609e-03,\n",
            "       -7.42981816e-03, -7.99977127e-03, -5.54243196e-03,  4.58043953e-03,\n",
            "        4.05797502e-03, -8.90834257e-03, -1.24577177e-03,  3.85730993e-03,\n",
            "       -6.85699238e-03,  6.35394454e-03,  6.82527339e-03, -6.64839754e-03,\n",
            "        1.49750034e-03, -6.51440537e-03,  1.68384460e-03,  2.96755764e-03,\n",
            "       -1.01361983e-02,  7.76284980e-03, -7.65411183e-04, -1.70550658e-03,\n",
            "       -4.91130864e-03,  5.99944312e-03, -5.71183627e-03,  7.63259316e-03,\n",
            "       -5.87283773e-03,  6.09432952e-03, -6.14620280e-03, -5.88602852e-03,\n",
            "       -5.17068291e-03, -4.84268647e-03, -1.80793332e-03, -1.46277843e-03,\n",
            "        4.53459937e-03,  5.01478044e-03,  4.75780899e-03, -5.99464308e-03,\n",
            "       -7.39461789e-03,  2.03698291e-03, -6.28956407e-03, -8.30564369e-03,\n",
            "       -3.58154881e-03, -4.41973330e-03, -5.99206099e-03, -6.32723374e-03,\n",
            "       -8.53049476e-03, -4.17851144e-03,  3.77754006e-03,  3.48923006e-03,\n",
            "       -5.71413524e-03, -1.71154947e-03, -6.81095524e-03, -1.46472524e-03,\n",
            "       -5.06222947e-03,  2.87891692e-03, -5.04492456e-03, -4.02311236e-03,\n",
            "        5.81988227e-03, -4.95538488e-03, -3.01296054e-03, -5.78118255e-03,\n",
            "       -3.04315169e-03, -3.66026722e-03,  1.60810421e-03, -6.03838870e-03,\n",
            "       -7.47235212e-03, -9.79894190e-04,  5.93325496e-03,  2.68836459e-03,\n",
            "       -6.69088541e-03, -2.71317642e-03,  5.53319836e-03,  8.50958657e-03,\n",
            "       -4.85080853e-03,  5.19532431e-03, -5.35216928e-03,  3.62462457e-03,\n",
            "        6.29091868e-03,  6.33053249e-03, -6.09610230e-03,  5.96146099e-03,\n",
            "       -5.57621382e-03,  3.75782605e-03, -4.24083043e-03, -3.07445717e-03,\n",
            "        5.73403621e-03,  6.64846459e-03, -4.91892826e-03,  4.16751206e-03,\n",
            "       -5.95306233e-03,  7.22645041e-07, -4.08823323e-03,  3.06139234e-03,\n",
            "       -3.26200272e-03,  7.22029386e-03, -8.00997019e-03,  7.53944227e-03,\n",
            "       -3.01668863e-03,  2.37351027e-03,  3.56051465e-03,  5.53738279e-03,\n",
            "       -5.63024590e-03, -4.69795894e-03, -2.73048994e-03, -6.10460946e-03,\n",
            "        7.55933579e-03,  8.11573770e-03, -4.70816251e-03, -6.62075006e-04,\n",
            "       -6.07774500e-03, -3.10797384e-03,  5.82420314e-03, -3.76106543e-03,\n",
            "       -6.25906512e-03, -6.49123173e-03,  5.20519959e-03,  5.13783935e-03,\n",
            "       -6.23810431e-03, -3.32938717e-03, -5.07583795e-03,  2.30391719e-03,\n",
            "       -1.07366790e-03,  9.61160753e-03,  6.60063874e-04, -7.92867504e-03,\n",
            "        4.73483093e-03, -4.25877701e-03,  6.31969422e-03,  5.49721532e-03,\n",
            "       -6.23797905e-03, -4.88924608e-03,  4.56727343e-03,  6.18771277e-03,\n",
            "       -3.83686554e-03, -6.71190582e-03, -1.35408458e-03, -6.54581655e-03,\n",
            "        2.60009896e-04, -4.94026300e-03,  1.86229602e-03,  1.87611638e-03,\n",
            "        4.01040073e-03, -2.57539708e-04,  4.72732680e-03, -8.04413669e-03,\n",
            "       -4.02890099e-03, -5.06214425e-03, -2.80733220e-03, -8.81695561e-03,\n",
            "       -7.29108183e-03, -7.09272781e-03, -2.49846489e-03, -4.94748726e-03,\n",
            "        5.14822220e-03,  3.91263934e-03, -1.77548849e-03,  4.25878307e-03,\n",
            "        8.12459458e-03, -4.39322926e-03,  4.00302280e-03, -7.38064572e-03,\n",
            "       -2.45615933e-03, -5.64503390e-03, -7.29057239e-03, -2.48959428e-03,\n",
            "        4.00483096e-03,  1.23242754e-03, -3.04612052e-03,  5.28491475e-03,\n",
            "       -5.55203669e-03, -5.67762740e-03,  6.82949275e-03,  2.32295250e-03,\n",
            "       -6.11088146e-03, -6.38787588e-03, -4.50590625e-03,  1.50641066e-03,\n",
            "       -6.03998022e-04,  2.75321165e-03, -2.85946392e-03, -7.13019539e-03,\n",
            "       -6.29661605e-03,  8.00183043e-03,  9.64522269e-03,  4.45464952e-03,\n",
            "        2.66952580e-03, -4.64164698e-03,  2.98891775e-03, -3.95604502e-03,\n",
            "       -3.25263035e-03, -3.42068332e-03,  3.40997661e-03, -1.26872270e-03,\n",
            "       -5.23149827e-03,  9.16803908e-03,  1.39760575e-03,  7.61390710e-03,\n",
            "       -6.55803597e-03, -4.46186028e-03, -2.72114598e-03,  3.28328693e-03,\n",
            "       -1.10176229e-03, -4.94864630e-03,  3.64186289e-03,  4.37473552e-03,\n",
            "        4.05390048e-03,  2.50667962e-03,  2.97546107e-03, -5.80737879e-03,\n",
            "        1.22010373e-02, -4.99067688e-03, -5.66839427e-03,  2.64858804e-03,\n",
            "        4.13401844e-03,  2.67631141e-03,  3.00960662e-03,  8.31153058e-03,\n",
            "        3.46208632e-04, -6.33295719e-03,  2.26202235e-03,  4.43007005e-03,\n",
            "        7.29687326e-03, -1.80096424e-03,  5.12634264e-03,  7.81411398e-03,\n",
            "        6.30299235e-03,  4.22412239e-04,  5.20963594e-03,  2.82322266e-03,\n",
            "        1.18112471e-03, -5.44823287e-03, -3.09069455e-03, -4.77238186e-03,\n",
            "       -5.34713129e-03, -5.76181570e-03, -7.37856003e-03, -5.68260439e-03,\n",
            "       -5.55280875e-03, -3.80101288e-03, -3.47974128e-03, -3.62456450e-03,\n",
            "        3.25230695e-03, -1.45663123e-03,  3.48501513e-03,  6.87420089e-03,\n",
            "       -6.71517616e-03,  6.13304274e-03, -3.45026306e-03, -3.91978817e-03,\n",
            "       -7.67604541e-03,  3.18914466e-03,  5.52161178e-03, -1.14317215e-03,\n",
            "        4.14254144e-03, -4.06895066e-03,  4.86486871e-03, -2.39242543e-03,\n",
            "        6.25353167e-03, -5.64193586e-03,  1.24880776e-03, -7.66126439e-03,\n",
            "       -4.62197373e-03, -8.21304414e-03, -4.35426133e-03,  6.51523471e-03,\n",
            "       -1.29930896e-03,  2.14159605e-03,  5.92829334e-03, -9.68002714e-04,\n",
            "        6.09173020e-03, -5.76226460e-03,  6.73758285e-03,  1.27593975e-03,\n",
            "        9.64506296e-04,  6.59835245e-03,  6.00920897e-03,  4.22427291e-03,\n",
            "       -2.88822618e-03,  2.34940395e-04, -5.54485340e-03, -8.11150111e-03,\n",
            "       -6.01567701e-03, -4.36830334e-03, -4.22966015e-03,  4.16791067e-04,\n",
            "        1.05962041e-03,  1.00995135e-02, -3.93583020e-03, -2.97509297e-03,\n",
            "       -7.07434723e-03, -5.36001613e-03, -7.40279723e-03, -3.54238646e-03,\n",
            "       -7.33381789e-03, -3.08579300e-03, -4.86939028e-03,  7.23714195e-03,\n",
            "        5.43175731e-03,  5.35717839e-03,  3.96829378e-03,  5.64784277e-03,\n",
            "       -3.67671670e-03,  5.45135699e-03,  6.63975440e-03, -3.45674320e-03,\n",
            "       -6.83202781e-03,  4.58111899e-04, -3.13009950e-03,  4.22247220e-03,\n",
            "        4.32645064e-03, -3.72880721e-03, -6.44306047e-03,  1.20342220e-03,\n",
            "       -4.71606571e-03, -2.96381622e-04,  5.31973550e-03, -5.57974773e-03,\n",
            "        5.94836986e-03,  6.65565813e-03,  2.07253895e-03, -4.52855323e-03,\n",
            "       -6.28178008e-03, -2.91122380e-03, -5.34376409e-03,  3.67693510e-03,\n",
            "        4.19920031e-03,  1.02024898e-02,  2.13196268e-03, -4.18762909e-03,\n",
            "        6.65083947e-03,  3.84766725e-03,  5.86893130e-03, -6.76078908e-03,\n",
            "       -6.39492273e-03, -2.64899805e-03,  2.78095971e-03, -4.26140800e-03,\n",
            "        8.23181216e-03,  5.08292392e-03, -5.36430255e-03, -8.68611224e-03,\n",
            "       -5.09091048e-03, -3.42148170e-03, -3.73703893e-03,  5.54701267e-03,\n",
            "        5.80488518e-03, -5.48463501e-03,  7.89205637e-03,  4.02723067e-03,\n",
            "       -6.92997454e-03, -7.89751019e-03, -2.78509851e-03,  4.09807166e-04,\n",
            "       -1.83077401e-03,  4.63746954e-03,  3.87748168e-03,  2.92355218e-03,\n",
            "        6.50722533e-03,  6.73572812e-03,  3.79032048e-04, -6.35941559e-03,\n",
            "       -4.67312383e-03, -4.91947308e-03, -8.52227770e-03, -3.44472146e-03,\n",
            "       -5.64202154e-03, -4.12946008e-03,  1.94261759e-03,  6.84046885e-03,\n",
            "       -3.65161919e-03, -2.76536704e-03,  3.53002013e-03, -2.21868540e-04,\n",
            "        8.30586813e-03, -4.34930390e-03,  5.15633449e-03, -7.75289303e-03,\n",
            "        9.21847019e-03, -4.15760279e-03, -4.96489787e-03, -1.73903257e-03,\n",
            "        4.86308755e-03,  7.50956766e-04, -5.17717423e-03, -1.27276918e-03,\n",
            "        2.05759332e-03,  8.95058643e-03,  8.88502877e-03, -3.76909412e-03,\n",
            "       -2.69576744e-03, -5.33080986e-03, -6.20627450e-03, -5.18726278e-03,\n",
            "       -6.12216117e-03,  5.81206894e-03, -6.35366235e-03, -2.59365281e-03,\n",
            "       -5.44979749e-03,  5.99245867e-03, -6.46983506e-03,  4.09670360e-03,\n",
            "        7.52764707e-03,  1.01523765e-04, -7.50711514e-03, -3.44491401e-03],\n",
            "      dtype=float32)>\n",
            "<tf.Variable 'dense_3/kernel:0' shape=(512, 2) dtype=float32, numpy=\n",
            "array([[-0.08793281,  0.02455223],\n",
            "       [-0.1012421 , -0.01020729],\n",
            "       [ 0.07194501, -0.06048537],\n",
            "       ...,\n",
            "       [-0.09026898, -0.07421488],\n",
            "       [ 0.06290391, -0.0584349 ],\n",
            "       [ 0.04583807, -0.10903409]], dtype=float32)>\n",
            "<tf.Variable 'dense_3/bias:0' shape=(2,) dtype=float32, numpy=array([-0.00883075,  0.00883075], dtype=float32)>\n"
          ]
        }
      ]
    },
    {
      "cell_type": "markdown",
      "metadata": {
        "id": "SR42boMgczoF"
      },
      "source": [
        "Unfortunately, that probably didn’t help you make a useful explanation.\n",
        "\n",
        "Researchers are currently studying ways to make neural networks more explainable. One approach is using **saliency maps** to figure out the saliency (importance) of each individual pixel. Check out a demo [here](https://lrpserver.hhi.fraunhofer.de/image-classification). Intuitively, we're trying to understand the neural network by tracking what it \"pays attention\" to, in the same way that psychologists study babies' cognition by [tracking what babies look at](https://www.ncbi.nlm.nih.gov/pmc/articles/PMC3259733/).\n",
        "\n",
        "In this exercise, we're going to build a simple version of a saliency map for the image you chose above. We'll see what pixels were most important in helping the network make its classification.\n",
        "\n",
        "To do this, we'll investigate the effects of changing each pixel a little bit. If changing a particular pixel changes the result a lot, we conclude that pixel must be important for classifying. If changing that pixel doesn't change the result, we conclude that pixel is unimportant.\n"
      ]
    },
    {
      "cell_type": "markdown",
      "metadata": {
        "id": "0RpZL6ChfLZ6"
      },
      "source": [
        "We're going to use the raw predicted probabilities, rather than the final classification."
      ]
    },
    {
      "cell_type": "code",
      "metadata": {
        "id": "gkdMS7sJfR6j",
        "colab": {
          "base_uri": "https://localhost:8080/"
        },
        "outputId": "bc8b12ff-1f9c-4982-c6b5-fd69fd9d758a"
      },
      "source": [
        "pred = cnn.predict_proba(np.array([input_image])) #What does each number mean?\n",
        "print (pred)\n",
        "dog_prob = pred[0][0] #This is the probability we'll use (if we know dog prob, we know the classification)\n",
        "\n",
        "print ('Probability of dog:')\n",
        "print (dog_prob)"
      ],
      "execution_count": null,
      "outputs": [
        {
          "output_type": "stream",
          "name": "stdout",
          "text": [
            "[[0.9900535  0.00994657]]\n",
            "Probability of dog:\n",
            "0.9900535\n"
          ]
        }
      ]
    },
    {
      "cell_type": "markdown",
      "metadata": {
        "id": "Xla3j0R1geJY"
      },
      "source": [
        "Now, we need to calculate the saliency for each pixel (really, each R/G/B value). The core idea is that a pixel's saliency is the average value of\n",
        "\n",
        " $D = |\\frac{\\Delta probability}{\\Delta pixel}|$\n",
        "\n",
        " where $\\Delta$ is the amount of change. If a small change in the pixel value results in a large change in the probability (either up or down), we know this pixel is important. If you've seen derivatives in calculus, this idea should feel familiar.\n",
        "\n",
        "Here's the game plan:\n",
        "\n",
        "*   Consider each pixel value in turn: R, G, B, then the next pixel.\n",
        "*   Make a copy of the image array before you change anything!\n",
        "*   Make the pixel value larger or smaller by various amounts. Each time, find the CNN's prediction with the changed value, and calculate the value of D.\n",
        "*   Repeat the previous step a few times, and calculate the pixel's saliency: the average value of D.\n",
        "*   Store the saliency of each pixel in a list, so that we can visualize it later.\n",
        "\n",
        "Try it below! (Warning: this code might be very slow. As a further challenge, try to speed it up!)\n"
      ]
    },
    {
      "cell_type": "code",
      "metadata": {
        "id": "RnABhKUJmNCF",
        "colab": {
          "base_uri": "https://localhost:8080/"
        },
        "outputId": "688edbd3-e7b9-423e-9aaa-69296b45a69b"
      },
      "source": [
        "saliencies = [] #eventually, will be the same size as input_image\n",
        "\n",
        "for index, pixel in enumerate(input_image):\n",
        "  #index counts up from 0, pixel is between 0 and 255\n",
        "\n",
        "  if index%100 == 0: #will track progress - this might take a while\n",
        "    print (index)\n",
        "\n",
        "  changed_input = input_image.copy() #make sure not to change the original input_image!\n",
        "\n",
        "  #YOUR CODE HERE:\n",
        "  #In changed_input, change the value of this pixel by some amount.\n",
        "  D_list = []\n",
        "  for pixel_change in [-50,-30,-10,10,30,50]:\n",
        "    change_pixel = pixel + pixel_change\n",
        "    if 0 <= change_pixel <= 255:\n",
        "      changed_input[index] = change_pixel\n",
        "      changed_pred = cnn.predict_proba(np.array([changed_input]))\n",
        "      changed_dog_prob = changed_pred[0][0]\n",
        "      D = (changed_dog_prob - dog_prob)/pixel_change\n",
        "      D_list.append(np.abs(D))\n",
        "\n",
        "  #Use the CNN to classify changed_input.\n",
        "  #Calculate the value of D.\n",
        "  #Repeat with various-size changes, and calculate saliency as the average D.\n",
        "  saliency = np.mean(D_list) #Change this!\n",
        "\n",
        "  saliencies.append(saliency)\n",
        "\n",
        "print (saliencies)"
      ],
      "execution_count": null,
      "outputs": [
        {
          "output_type": "stream",
          "name": "stdout",
          "text": [
            "0\n",
            "100\n",
            "200\n",
            "300\n",
            "400\n",
            "500\n",
            "600\n",
            "700\n",
            "800\n",
            "900\n",
            "1000\n",
            "1100\n",
            "1200\n",
            "1300\n",
            "1400\n",
            "1500\n",
            "1600\n",
            "1700\n",
            "1800\n",
            "1900\n",
            "2000\n",
            "2100\n",
            "2200\n",
            "2300\n",
            "2400\n",
            "2500\n",
            "2600\n",
            "2700\n",
            "2800\n",
            "2900\n",
            "3000\n",
            "[3.092686335245768e-06, 6.712807549370659e-07, 2.9934777153862847e-07, 1.5680657492743597e-06, 2.0018418629964196e-06, 3.319422403971354e-06, 2.3333231608072918e-06, 1.3002554575602214e-06, 9.481906890869141e-07, 7.193088531494141e-07, 4.634936650594076e-06, 1.3835430145263672e-06, 1.5225410461425782e-06, 8.343060811360679e-06, 1.1459191640218098e-06, 4.609028498331706e-06, 1.9616550869411893e-06, 5.270706282721626e-06, 1.2041131655375162e-05, 3.0045376883612736e-06, 2.217425240410699e-06, 5.437731742858885e-06, 1.3046794467502168e-06, 6.386107868618435e-06, 6.83234797583686e-06, 2.381867832607693e-06, 9.0969271130032e-06, 6.4347849951850035e-06, 2.547370062934028e-06, 9.820924864874946e-06, 3.6966138415866428e-06, 3.235936164855958e-06, 2.499620119730631e-06, 8.007685343424479e-06, 6.544722451104058e-06, 5.639062987433539e-06, 2.5984446207682293e-06, 1.8554263644748265e-06, 1.1216070916917589e-05, 7.5355370839436845e-06, 1.1644959449768067e-05, 1.4362434546152753e-05, 2.4310747782389324e-06, 5.996465682983398e-06, 9.60598389307658e-06, 3.2486915588378905e-06, 2.830028533935547e-06, 3.617703914642334e-06, 2.907832463582357e-06, 3.680090109507243e-06, 3.536840279897054e-06, 1.7987092336018878e-06, 5.453745524088541e-06, 7.078170776367187e-06, 6.7564845085144045e-06, 6.4294338226318365e-06, 2.3456414540608727e-06, 7.3699156443278e-06, 5.927801132202148e-06, 1.6101996103922524e-06, 4.255308045281305e-06, 1.7797152201334638e-06, 1.5130043029785156e-06, 2.0371278127034503e-06, 1.1404832204182942e-05, 9.94435946146647e-06, 7.503628730773925e-06, 6.323556105295817e-06, 1.4896194140116375e-05, 8.754134178161621e-06, 1.77813900841607e-06, 4.122124777899848e-06, 3.068314658270942e-06, 9.03924306233724e-06, 4.998710420396592e-06, 1.276201672024197e-06, 1.1536147859361439e-05, 2.457035912407769e-06, 8.063183890448677e-07, 1.0637111133999293e-05, 4.06046708424886e-06, 1.1964639027913412e-06, 6.961623827616374e-06, 9.396937158372668e-06, 1.790589756435818e-06, 2.116229799058702e-06, 9.481774436102972e-07, 2.824001842074924e-06, 1.3970666461520723e-06, 1.3044807646009657e-06, 1.1956029468112523e-06, 1.6154183281792534e-06, 3.606743282741971e-07, 7.854567633734809e-08, 2.0086765289306639e-07, 5.991591347588433e-07, 1.1605686611599392e-06, 3.0397044287787543e-06, 1.95569462246365e-06, 2.508693271213107e-06, 3.5859478844536674e-06, 4.027088483174642e-06, 5.259050263298882e-06, 3.953536351521809e-06, 4.268010457356771e-06, 1.8396642473008898e-06, 9.064674377441407e-07, 1.9741058349609373e-06, 2.924680709838867e-06, 2.693573633829753e-06, 2.234141031901042e-06, 1.5242894490559896e-06, 1.043391227722168e-05, 4.826784133911132e-06, 2.1378199259440104e-06, 2.4958451588948564e-06, 8.85976685418023e-06, 5.6518448723687075e-06, 5.348655912611219e-06, 1.4983415603637697e-05, 4.787842432657878e-06, 6.197492281595866e-06, 1.827147271898058e-06, 2.1020571390787756e-06, 5.35375542110867e-06, 3.0915604697333444e-06, 1.7202562756008572e-06, 1.349978976779514e-06, 1.4141201972961426e-05, 2.737508879767524e-06, 6.887780295477974e-06, 1.81938542260064e-05, 5.231830808851454e-06, 3.122025065951877e-06, 2.8215514289008244e-06, 6.807565689086913e-06, 5.914966265360515e-06, 3.5477677981058757e-06, 8.155306180318198e-06, 2.5063355763753257e-06, 3.171920776367187e-06, 3.1226873397827145e-06, 9.266800350613064e-06, 6.7913532257080085e-06, 5.983445379469131e-06, 2.623200416564942e-06, 1.2824853261311847e-05, 7.757981618245442e-06, 4.815260569254557e-06, 6.926854451497396e-06, 1.5569527943929036e-06, 2.6046567493014865e-06, 2.282566494411892e-05, 4.005034764607748e-06, 1.465108659532335e-05, 3.44852606455485e-06, 1.1019309361775716e-05, 1.243399249182807e-05, 3.663963741726346e-06, 7.765611012776691e-06, 3.1197071075439455e-06, 2.1670262018839515e-06, 6.348821851942273e-06, 1.3542274634043375e-05, 9.866555531819662e-07, 3.1786494784884984e-06, 6.6460503472222235e-06, 1.2414919005499948e-05, 5.970332357618544e-06, 1.4769434928894042e-05, 3.8874149322509765e-06, 2.6157829496595595e-06, 6.680091222127278e-06, 6.877382596333821e-06, 2.893673049079047e-06, 6.677905718485513e-06, 2.793735928005642e-06, 4.678964614868165e-06, 5.750788582695855e-06, 1.0295046700371636e-06, 1.5349520577324764e-06, 1.0713073942396377e-05, 4.016823238796658e-06, 1.3473961088392469e-06, 1.0263257556491427e-06, 1.5683968861897786e-06, 1.0445382859971788e-06, 5.755821863810221e-07, 5.237261454264323e-07, 5.147854487101237e-07, 6.873740090264214e-07, 5.583630667792426e-07, 1.2069278293185764e-06, 2.3219982782999673e-06, 3.363821241590712e-06, 2.821617656283908e-06, 1.9026464886135526e-06, 1.5771389007568358e-06, 1.726879013909234e-06, 3.155390421549479e-06, 2.9632250467936198e-06, 3.783782323201497e-06, 1.6478697458902994e-06, 2.1678606669108068e-06, 3.5641988118489584e-06, 4.03889020284017e-06, 2.894322077433268e-06, 3.266096115112305e-06, 1.2715657552083335e-06, 3.1665960947672525e-06, 6.728768348693848e-06, 1.8463532129923505e-06, 3.9051638709174255e-06, 3.4435590108235677e-06, 1.726898882124159e-05, 9.265608257717555e-06, 9.915828704833985e-06, 1.3797283172607423e-05, 1.3958745532565645e-06, 5.067785580952962e-06, 3.592040803697374e-06, 4.3935908211602106e-06, 1.0175307591756185e-05, 4.728304015265571e-06, 4.69823678334554e-06, 1.58997376759847e-05, 9.502702289157443e-06, 5.395478672451443e-06, 9.943577978346083e-06, 1.5500055419074163e-05, 2.776053216722277e-06, 1.3932466506958007e-05, 1.77842378616333e-05, 5.527416865030924e-06, 8.64439540439182e-06, 6.598101721869575e-06, 1.8276108635796441e-06, 9.385082456800672e-06, 8.774664666917589e-06, 1.1877881156073678e-06, 4.549953672620985e-06, 3.6511818567911793e-06, 7.04314973619249e-06, 3.756920496622721e-06, 2.2837983237372504e-05, 1.3515684339735245e-06, 7.975101470947265e-07, 1.1536412768893771e-05, 9.458793534172904e-06, 2.3690859476725262e-06, 1.0036826133728028e-05, 9.062687555948892e-06, 1.2624197536044652e-05, 2.8263860278659395e-06, 1.302957534790039e-06, 2.1700064341227213e-06, 4.8812230428059894e-06, 4.866851700676812e-06, 6.5918763478597e-06, 1.8750826517740887e-05, 1.1161168416341145e-06, 2.842108408610026e-06, 1.5073683526780872e-05, 3.692838880750868e-06, 4.9998362859090165e-06, 1.3296471701727972e-06, 1.2112723456488715e-05, 5.024870236714681e-06, 1.3060834672715927e-05, 3.970861434936523e-06, 1.6827053493923614e-06, 8.294979731241862e-07, 2.1568271848890515e-06, 3.0939446555243596e-06, 1.3354023297627766e-05, 1.1705689960055881e-06, 4.435843891567654e-06, 9.344352616204155e-06, 2.559555901421441e-06, 1.2467967139350042e-06, 5.684958563910591e-07, 1.8188026216295034e-06, 1.728799608018663e-06, 3.157522943284776e-06, 6.369749704996745e-07, 5.086925294664171e-07, 2.094507217407226e-06, 3.315342797173394e-07, 1.4329618877834744e-06, 3.0518902672661677e-06, 5.663765801323785e-07, 1.1946757634480794e-06, 1.214146614074707e-06, 4.101196924845378e-06, 9.867217805650498e-07, 5.967617034912109e-07, 5.630811055501302e-06, 5.927642186482747e-06, 6.695906321207683e-06, 3.345012664794922e-07, 1.5955766042073571e-06, 2.7268727620442708e-06, 5.818208058675129e-07, 2.796332041422526e-06, 4.472653071085612e-06, 8.351008097330731e-07, 1.6984674665662977e-06, 5.791253513760036e-06, 6.3184897104899085e-06, 5.8324469460381394e-06, 3.983775774637858e-06, 1.7028384738498264e-06, 1.2655191951327854e-05, 1.472506258222792e-05, 1.611967881520589e-05, 1.0785195562574599e-05, 2.116560935974121e-06, 9.357863002353245e-06, 2.3839937316046817e-05, 1.4399091402689617e-05, 5.390445391337077e-06, 1.2461476855807834e-05, 5.136595831976997e-06, 1.009768909878201e-05, 3.95304626888699e-06, 6.179279751247829e-06, 4.500150680541992e-06, 1.840511957804362e-06, 2.163002888361613e-05, 2.4801095326741536e-06, 4.730489518907336e-06, 7.6082017686631945e-06, 1.2085967593722873e-05, 1.0232329368591308e-05, 1.6222397486368816e-06, 1.7587939898173014e-05, 7.5387954711914065e-06, 1.0723537868923612e-05, 1.570112175411648e-05, 2.584126260545518e-06, 1.6613867547776963e-05, 3.6203198962741435e-06, 4.4180949529012045e-06, 1.2614528338114422e-05, 9.32998127407498e-06, 1.4721155166625976e-05, 8.510682317945691e-06, 5.83171844482422e-06, 4.6957201427883575e-06, 6.421340836418999e-06, 8.914801809522841e-06, 1.1956214904785157e-05, 7.157193289862739e-06, 8.886257807413737e-06, 1.4521678288777669e-05, 1.630352603064643e-05, 4.045698377821181e-06, 9.61152712504069e-06, 1.7009841071234808e-06, 9.222626686096192e-06, 1.3344817691379121e-06, 6.367630428738064e-06, 8.329749107360838e-06, 9.675953123304578e-06, 9.906159506903753e-06, 9.290708435906305e-06, 2.786119778951009e-06, 2.148350079854329e-06, 4.758768611484104e-06, 1.0304517216152614e-05, 5.627473195393879e-06, 6.155835257636176e-06, 1.9194020165337454e-06, 5.653964148627387e-06, 2.9706292682223854e-06, 3.446208106146918e-06, 7.919470469156901e-07, 3.603100776672363e-06, 1.2131532033284506e-06, 7.750590642293294e-07, 1.1066595713297526e-06, 5.079640282524957e-07, 2.6319424311319987e-06, 1.4823012881808811e-06, 1.0312928093804254e-06, 3.5653511683146157e-06, 4.318687650892469e-07, 2.3268328772650824e-06, 2.6846594280666777e-06, 1.5451510747273762e-06, 4.911502202351888e-06, 1.4567375183105467e-06, 6.388266881306966e-06, 5.454540252685546e-06, 1.2328624725341798e-06, 3.861188888549805e-06, 3.7109851837158206e-06, 5.877912044525147e-06, 2.3872057596842447e-06, 3.6520759264628093e-06, 1.1212825775146483e-06, 9.719530741373697e-07, 4.703203837076823e-06, 4.821022351582845e-06, 1.0995732413397894e-06, 6.019671758015951e-06, 6.904933187696669e-06, 3.2314327028062605e-06, 4.295044475131565e-06, 1.413563887278239e-05, 1.4944871266682943e-06, 1.1117723253038196e-05, 3.430710898505317e-06, 1.0528167088826496e-06, 4.457963837517632e-06, 7.48349560631646e-06, 4.870494206746419e-06, 2.865526411268446e-06, 3.0584467781914607e-06, 7.99311531914605e-06, 3.9545032713148325e-06, 1.0912881957160102e-05, 2.047684457567003e-06, 1.9218126932779947e-06, 1.3264815012613931e-06, 2.0416577657063805e-06, 2.2073586781819665e-06, 2.1623902850680884e-06, 2.1136535538567437e-05, 4.001259803771972e-06, 3.7539005279541014e-06, 8.231467670864528e-06, 2.0960966746012373e-06, 1.0315246052212187e-05, 1.8748309877183702e-06, 6.7193640602959525e-06, 2.16144323348999e-05, 6.2497456868489595e-06, 6.832281748453776e-06, 7.856090863545734e-06, 4.581742816501194e-06, 2.865417798360189e-05, 1.701249016655816e-06, 3.7501917945014107e-06, 4.9728817409939225e-06, 3.1541453467475044e-06, 1.1084675788879394e-05, 8.055766423543294e-06, 6.303985913594563e-06, 1.000258657667372e-05, 8.678595225016276e-06, 4.820492532518175e-06, 1.4211734135945637e-05, 7.851322491963706e-06, 2.9622713724772136e-06, 2.541939417521159e-06, 3.073692321777344e-06, 5.7479408052232535e-06, 1.0613534185621472e-05, 9.06123055352105e-06, 1.2293126848008899e-06, 1.9008583492702908e-06, 3.6736991670396586e-06, 1.8021133210923937e-06, 1.5636947419908312e-06, 5.720059076944986e-06, 5.7609875996907545e-06, 1.6606516308254668e-06, 5.795028474595812e-06, 2.767708566453722e-06, 2.1800729963514543e-06, 2.271400557623969e-06, 3.4030940797593857e-06, 1.1785825093587238e-06, 3.961854510837131e-06, 2.562999725341797e-06, 3.4928984112209747e-06, 4.291534423828125e-07, 1.95569462246365e-06, 1.7949607637193468e-06, 1.9550985760158963e-06, 1.48826175265842e-06, 2.7293629116482207e-06, 9.83542866177029e-07, 1.159773932562934e-06, 2.478096220228407e-06, 1.1137326558430987e-06, 1.3297398885091147e-06, 3.7332375844319657e-06, 5.546331405639648e-06, 2.828439076741537e-06, 3.306945164998372e-06, 3.608067830403646e-06, 1.1056661605834961e-06, 1.3168652852376302e-06, 6.169478098551432e-06, 6.79930051167806e-06, 1.7897288004557292e-06, 1.620385381910536e-06, 7.290442784627279e-06, 6.798969374762641e-06, 3.922515445285374e-06, 9.668138292100695e-06, 7.468461990356445e-06, 4.921224382188584e-06, 9.62074597676595e-06, 6.140708923339844e-06, 3.2520294189453126e-06, 6.8691704008314336e-06, 8.012586169772677e-06, 2.245505650838216e-06, 3.535615073310004e-06, 3.3529599507649738e-06, 1.2454191843668618e-05, 6.119211514790853e-06, 1.8536183569166395e-05, 1.5766090816921656e-06, 1.48238738377889e-05, 9.882913695441352e-06, 1.0410282346937393e-06, 1.2720955742730035e-06, 8.960101339552137e-06, 7.6260169347127275e-06, 1.2206832567850748e-05, 5.695422490437826e-06, 3.7860870361328127e-06, 4.187623659769694e-06, 6.8937407599555115e-06, 9.134411811828613e-06, 1.1548068788316514e-05, 7.530053456624349e-06, 2.254082096947564e-05, 1.620749632517497e-05, 5.372299088372124e-06, 5.628930197821723e-06, 1.0707245932685003e-05, 4.691812727186415e-06, 1.5177408854166667e-05, 4.293455017937555e-06, 6.625519858466254e-06, 2.620538075764974e-06, 8.683403333028156e-06, 4.265705744425456e-06, 1.8855267100863987e-05, 9.067787064446343e-06, 2.795855204264323e-06, 3.817240397135417e-06, 7.302893532647028e-06, 6.382928954230414e-06, 5.259613196055095e-06, 1.6657511393229168e-06, 2.4490223990546334e-06, 2.258916695912679e-05, 5.017439524332683e-06, 3.4682618247138128e-06, 7.605711619059246e-06, 7.939736048380535e-06, 2.4081601036919487e-06, 3.894567489624024e-06, 1.6742944717407226e-06, 2.687639660305447e-06, 3.2171275880601667e-06, 2.299348513285319e-06, 2.0848380194769967e-06, 4.6622090869479715e-06, 3.934899965922038e-06, 1.9156270556979707e-06, 7.309317588806152e-06, 2.1500719918145074e-06, 4.6820110744900166e-06, 2.676049868265788e-06, 2.3940536710951064e-06, 1.3261371188693576e-06, 2.0119878980848527e-06, 1.6865465376112196e-06, 2.7663840187920467e-06, 2.795060475667318e-06, 8.338027530246311e-07, 2.6491615507337783e-06, 2.662407027350532e-06, 6.0813294516669376e-06, 1.8915202882554797e-06, 1.3627211252848307e-06, 1.91958745320638e-06, 4.534244537353516e-06, 5.109786987304687e-06, 3.1273365020751955e-06, 8.494853973388672e-07, 3.436883290608724e-06, 2.1944443384806313e-06, 1.6493797302246096e-06, 5.632718404134115e-06, 8.64267349243164e-06, 1.2586116790771486e-05, 6.3747829861111115e-06, 3.06791729397244e-06, 3.614756796095106e-06, 5.7744317584567595e-06, 9.598334630330404e-06, 4.091064135233561e-06, 6.712012820773653e-06, 1.7305943701002333e-05, 1.1794765790303548e-05, 7.452567418416342e-06, 1.4724400308397082e-05, 2.5985638300577802e-06, 1.347449090745714e-05, 6.964339150322809e-06, 3.6844280030992294e-06, 2.8243992063734266e-06, 1.688718795776367e-05, 9.653237130906845e-06, 8.171531889173718e-06, 2.2386180029975045e-06, 5.500647756788466e-06, 5.339052942064073e-06, 5.2599774466620555e-06, 4.804333051045736e-06, 6.129940350850424e-06, 3.7039650811089406e-06, 1.1085338062710231e-05, 6.974471939934625e-06, 1.0428163740370008e-05, 1.1643171310424805e-05, 8.795393837822809e-06, 3.937946425543891e-06, 3.246267636617025e-06, 8.471475707160101e-06, 9.193486637539334e-06, 4.472891489664713e-06, 3.1099054548475477e-06, 1.379847526550293e-05, 4.814863204956055e-06, 1.0143783357408313e-05, 1.3840198516845704e-05, 6.209611892700196e-06, 1.6157944997151692e-05, 6.118946605258518e-06, 7.447865274217393e-06, 1.367664337158203e-05, 2.9769208696153424e-06, 1.702759000990126e-05, 2.7250581317477757e-06, 6.619294484456381e-06, 1.7768740653991697e-05, 2.259492874145508e-06, 5.154146088494194e-06, 7.696284188164606e-06, 3.802279631296794e-06, 4.751920700073242e-06, 5.146794848971897e-06, 2.6578108469645185e-06, 4.624260796440972e-06, 3.3311711417304145e-06, 1.950263977050781e-06, 3.5611126157972543e-06, 1.8925136990017361e-06, 4.90427017211914e-06, 3.828472561306424e-06, 2.430280049641927e-06, 2.1244419945610895e-06, 1.259975963168674e-06, 9.914769066704643e-06, 3.397067387898763e-06, 4.715124766031901e-06, 1.01115968492296e-06, 5.724231402079263e-06, 2.14536984761556e-06, 6.6783693101671e-07, 9.520186318291558e-07, 8.268488778008355e-07, 7.689661449856229e-07, 2.792411380343967e-06, 1.7746289571126304e-06, 1.7622444364759655e-06, 4.667573504977756e-06, 1.799133088853624e-06, 2.053380012512207e-06, 2.5320847829182938e-06, 2.2918383280436196e-06, 4.772663116455078e-06, 2.6495456695556644e-06, 2.2605260213216146e-06, 1.1088053385416667e-06, 1.510143280029297e-06, 2.414226531982422e-06, 1.0142246882120767e-05, 2.1794107225206165e-06, 3.8987398147583014e-06, 3.7360191345214844e-06, 2.172589302062988e-06, 1.1965963575575087e-05, 6.983412636650933e-06, 9.813176261054145e-06, 3.911654154459636e-06, 9.811917940775552e-06, 4.086494445800781e-06, 2.748370170593262e-06, 9.514888127644857e-07, 5.737609333462185e-06, 2.3176934983995228e-06, 6.294051806131999e-06, 4.59293524424235e-06, 3.1831529405381944e-06, 1.077711582183838e-05, 1.4563467767503525e-05, 1.7093949847751193e-06, 6.365180015563965e-06, 4.935993088616265e-06, 1.5624364217122392e-06, 1.0396639506022134e-05, 7.760061158074273e-06, 1.3384222984313964e-05, 2.2535853915744357e-06, 3.876023822360568e-06, 7.609923680623372e-06, 5.612969398498536e-06, 4.860162734985352e-06, 1.1611779530843097e-05, 1.3047456741333008e-06, 4.75870238410102e-06, 1.015550560421414e-05, 1.5849404864841034e-05, 6.89546267191569e-06, 3.1264623006184896e-06, 6.158828735351563e-06, 8.018732070922852e-06, 3.1436383724212644e-05, 5.389352639516195e-06, 8.001062605116104e-06, 2.155555619133843e-05, 5.189180374145508e-06, 1.1599527464972602e-05, 4.510151015387641e-06, 2.1537144978841146e-06, 8.856614430745442e-06, 9.801454014248319e-06, 5.529059304131403e-06, 1.1693874994913738e-05, 4.7090318467881945e-06, 9.204480383131239e-06, 3.4507910410563155e-06, 5.01447253757053e-06, 5.264414681328668e-06, 1.044770081837972e-06, 1.0631879170735677e-06, 6.279548009236654e-06, 6.475945313771566e-06, 3.0523141225179032e-06, 5.572239557902019e-06, 1.3187328974405925e-05, 3.1057331297132703e-06, 1.1106994416978624e-06, 3.3509069018893765e-06, 4.045301013522678e-06, 2.578761842515734e-06, 5.137523015340169e-06, 5.826950073242187e-06, 5.14633125729031e-06, 2.429220411512587e-06, 1.856088638305664e-06, 1.1532174216376411e-06, 6.157636642456054e-06, 2.6007493336995442e-06, 2.93837653266059e-06, 8.378426233927409e-07, 4.317363103230795e-07, 1.0367896821763781e-06, 5.675024456448025e-07, 1.7876757515801323e-06, 1.6674730512830946e-06, 1.658916473388672e-06, 1.6145573721991645e-06, 5.4389238357543945e-06, 3.4615198771158854e-06, 1.702970928615994e-06, 2.0213921864827474e-06, 6.559054056803384e-06, 3.6207172605726458e-06, 2.669175465901693e-06, 3.6238299475775827e-06, 3.7006537119547526e-06, 1.631842719184028e-06, 2.125634087456597e-06, 8.518298467000325e-06, 1.928210258483887e-06, 5.74999385409885e-06, 1.1108517646789551e-05, 6.078680356343588e-06, 2.28318903181288e-06, 5.5548879835340705e-06, 1.215868526034885e-06, 3.546277681986491e-06, 1.3976030879550508e-05, 5.527006255255805e-06, 9.7554259830051e-06, 1.1101894908481174e-05, 1.2646781073676217e-06, 3.6400556564331055e-06, 2.944734361436632e-06, 5.950795279608832e-06, 3.336734241909451e-06, 7.120702001783583e-06, 9.263422754075793e-06, 9.292893939548067e-06, 9.991990195380316e-06, 2.186364597744412e-06, 5.410114924112956e-06, 3.2741493648952906e-06, 2.18404663933648e-06, 9.832845793830025e-06, 5.540251731872558e-06, 5.615287356906467e-06, 1.139574580722385e-05, 7.378657658894857e-06, 4.429949654473199e-06, 8.584525850084094e-06, 1.1391639709472655e-05, 4.481010966830784e-06, 9.488330947028267e-06, 2.035649617513021e-05, 1.0202964146931966e-05, 7.265309492746989e-06, 5.680322647094726e-06, 1.8298625946044921e-06, 4.787921905517578e-06, 1.4912883440653483e-05, 9.632110595703125e-06, 1.1227528254191081e-05, 1.9040770000881616e-05, 6.869104173448351e-06, 1.5615953339470757e-05, 5.994637807210287e-06, 1.8055372767978244e-05, 1.4454364776611328e-05, 4.07503710852729e-06, 1.4496776792738175e-05, 7.697105407714845e-06, 3.560251659817166e-06, 8.629626697964138e-06, 1.0815362135569255e-05, 5.548927519056533e-06, 3.5990609063042536e-06, 4.3531258900960285e-06, 3.2396448983086477e-06, 2.8847323523627386e-06, 3.336111704508464e-06, 3.031227323744032e-06, 2.3343827989366318e-06, 2.2566980785793726e-06, 1.4411078559027776e-05, 1.4718373616536457e-06, 6.328092681037055e-06, 5.140172110663519e-06, 2.981490559048123e-06, 4.464122984144423e-06, 6.297032038370768e-06, 5.355808469984267e-06, 1.697474055820041e-06, 4.422002368503147e-07, 2.0833810170491536e-06, 1.376999749077691e-06, 4.77963023715549e-07, 1.1953380372789172e-06, 4.456440607706705e-06, 2.673864364624023e-06, 2.2292137145996093e-06, 2.873659133911133e-06, 6.354517406887479e-06, 3.4856796264648436e-06, 8.676528930664062e-06, 2.9302967919243705e-06, 2.0230611165364583e-06, 4.3779611587524416e-06, 2.8628110885620118e-06, 1.2864271799723306e-06, 7.142689492967394e-06, 2.7598937352498373e-06, 3.5529666476779516e-06, 3.2247437371148005e-06, 1.6473399268256291e-06, 1.7664829889933268e-06, 2.586841583251953e-06, 4.710621303982205e-06, 8.522404564751519e-06, 5.343423949347602e-06, 8.100536134507922e-06, 2.0966529846191407e-06, 7.200969590081109e-06, 2.0668241712782117e-06, 6.5020720163981115e-06, 6.047553486294217e-06, 2.7765168084038628e-06, 6.760040918986003e-06, 1.3210773468017577e-05, 9.670456250508627e-06, 1.7428398132324216e-06, 2.440512180328369e-05, 3.856420516967773e-06, 7.184081607394746e-06, 1.4557838439941407e-05, 1.352793640560574e-05, 3.2911698023478187e-06, 1.3455417421129013e-06, 7.013943460252549e-06, 4.816253980000814e-06, 4.116495450337728e-06, 2.3854441112942166e-06, 5.955696105957031e-06, 1.8672810660468208e-06, 1.964900228712294e-06, 5.227857165866428e-06, 9.706881311204699e-06, 3.7250916163126625e-06, 1.9487407472398547e-05, 1.075601577758789e-05, 7.08778699239095e-06, 5.801518758138021e-06, 6.755669911702474e-06, 1.0837634404500326e-05, 7.018645604451497e-06, 1.9594033559163412e-06, 9.354035059611004e-06, 3.988186518351236e-06, 7.175763448079427e-06, 1.6326189041137693e-05, 1.4054377873738608e-05, 6.3278277715047205e-06, 8.003314336140951e-06, 3.566185633341471e-06, 1.4673868815104168e-05, 4.578497674730089e-06, 5.262361632453071e-06, 2.610683441162109e-06, 1.699195967780219e-06, 2.388225661383735e-06, 4.873772462209066e-06, 6.37829303741455e-06, 3.8908587561713324e-07, 1.5394687652587892e-06, 1.5630324681599939e-06, 3.1164619657728406e-06, 1.6845597161187065e-06, 3.857745064629449e-06, 2.4412737952338325e-06, 2.6813348134358726e-06, 3.946754667494033e-06, 1.2401739756266277e-06, 1.6424655914306641e-06, 3.3992926279703773e-06, 1.8276108635796441e-06, 8.52015283372667e-07, 1.4195839564005534e-06, 8.579095204671224e-07, 1.1904372109307185e-06, 3.5634968015882707e-06, 2.2172265582614474e-06, 2.5294224421183264e-06, 1.8315182791815864e-06, 5.714098612467449e-07, 8.031725883483885e-07, 8.112192153930664e-07, 5.911191304524739e-07, 6.402492523193358e-06, 7.692972819010416e-07, 3.4814675649007155e-06, 5.492607752482096e-06, 8.549359109666612e-06, 6.781498591105143e-06, 2.15556886461046e-06, 1.447598139444987e-06, 4.410743713378906e-07, 2.37637095981174e-06, 1.4315711127387154e-06, 2.1221240361531575e-06, 3.2458040449354384e-06, 8.60909620920817e-06, 1.0351273748609755e-05, 1.407305399576823e-06, 4.726582103305393e-06, 2.7563174565633137e-06, 3.960768381754557e-06, 2.4842553668551977e-06, 1.7117659250895183e-06, 4.0197372436523445e-06, 3.797080781724718e-06, 2.0830631256103516e-06, 2.5767750210232205e-06, 5.18500804901123e-06, 1.6491942935519747e-06, 1.6224649217393663e-05, 8.396771219041612e-06, 3.3010376824273e-06, 5.244016647338866e-06, 2.5162696838378903e-06, 3.7700335184733073e-06, 3.1399726867675785e-06, 1.5475829442342124e-05, 3.697633743286133e-06, 3.960927327473958e-06, 5.2108367284139e-06, 6.769233279758029e-06, 1.0005301899380154e-05, 1.335899035135905e-05, 1.1346538861592611e-05, 2.0217233233981665e-06, 9.009043375651042e-06, 1.5310446421305337e-06, 4.2637189229329434e-06, 2.422995037502713e-06, 1.7765442530314127e-05, 2.6232401529947916e-06, 2.389828364054362e-06, 6.0258706410725915e-06, 1.155368487040202e-05, 1.633000373840332e-05, 1.530567804972331e-05, 3.651777903238932e-06, 6.645600001017253e-06, 6.652116775512695e-06, 1.2408415476481121e-05, 1.2302319208780924e-05, 7.198731104532877e-06, 1.093361112806532e-05, 1.9515222973293727e-06, 5.829996532864041e-06, 1.0935465494791667e-05, 1.6234980689154732e-06, 2.6099549399481883e-06, 6.209294001261393e-06, 3.0381149715847437e-06, 8.919570181104871e-06, 2.5052825609842936e-06, 7.122622595893011e-06, 1.3432237837049697e-06, 4.347165425618489e-06, 2.454254362318251e-06, 3.6416451136271157e-06, 5.104078186882866e-06, 2.143846617804633e-06, 1.5568733215332032e-06, 3.8243664635552294e-06, 5.246334605746798e-06, 2.562271224127875e-06, 6.878376007080079e-07, 1.7102559407552084e-06, 4.441142082214356e-06, 3.5958488782246907e-06, 6.026029586791992e-07, 7.32209947374132e-07, 8.357564608256022e-07, 2.523064613342285e-06, 3.753304481506348e-06, 1.5860795974731445e-06, 1.8994013468424478e-07, 1.4806456036037867e-06, 2.172589302062988e-07, 1.599921120537652e-06, 9.578863779703775e-07, 2.063016096750895e-06, 1.12050109439426e-06, 7.336934407552084e-07, 8.363564809163413e-06, 1.863241195678711e-06, 3.163576126098633e-06, 9.689066145155165e-07, 5.380709966023763e-06, 2.1902057859632704e-06, 9.978479809231227e-07, 3.191033999125163e-06, 2.5319390826755096e-06, 4.413445790608724e-06, 2.392133076985677e-06, 2.1909872690836586e-06, 6.719430287679037e-07, 1.542038387722439e-06, 4.445075988769531e-06, 7.176597913106283e-06, 7.725238800048828e-06, 7.747014363606772e-06, 1.8785794576009115e-06, 3.7412643432617184e-06, 7.418791453043621e-07, 6.631215413411458e-06, 1.2095371882120767e-05, 4.960298538208008e-06, 9.9439091152615e-06, 6.553133328755696e-06, 6.295111444261338e-06, 3.9949019749959306e-06, 2.0481149355570474e-06, 6.262063980102539e-06, 6.38812780380249e-06, 8.45839579900106e-06, 2.8560558954874672e-05, 9.574095408121743e-06, 1.9145078129238556e-05, 6.983280181884766e-06, 8.466442426045735e-06, 8.215904235839846e-06, 1.004285282558865e-05, 9.631911913553874e-06, 1.2263324525621203e-06, 6.467103958129883e-06, 1.3830728001064722e-05, 2.118878894382053e-06, 1.3292789459228515e-05, 5.33437728881836e-06, 4.336198170979818e-06, 1.0629018147786458e-05, 1.9640922546386718e-06, 5.509217580159505e-06, 4.421790440877279e-06, 3.0193726221720377e-06, 1.9462903340657554e-06, 2.0000139872233075e-06, 5.330973201327853e-06, 1.63497527440389e-05, 2.6976267496744794e-06, 4.749165640936958e-06, 9.557935926649305e-06, 4.545052846272786e-06, 2.2291474872165253e-06, 5.102753639221191e-06, 7.177723778618706e-06, 4.463593165079752e-06, 2.8825468487209746e-06, 1.4428959952460395e-06, 1.7369786898295086e-06, 5.769597159491646e-06, 4.8789050843980574e-06, 1.2975931167602539e-06, 1.2533532248602971e-06, 5.886289808485243e-07, 3.2040145662095808e-06, 5.0424867206149625e-06, 8.44113032023112e-06, 2.7381049262152776e-06, 5.688998434278699e-06, 3.415942192077637e-06, 1.560317145453559e-06, 1.4141201972961427e-06, 4.3108065923055016e-06, 2.609590689341227e-06, 3.3617019653320316e-07, 1.7900599373711479e-06, 1.0367234547932943e-06, 7.777412732442219e-07, 2.0015901989407007e-06, 2.1090110143025717e-07, 5.501508712768555e-07, 2.5577015346950956e-07, 2.587536970774333e-06, 1.1094411214192708e-06, 1.038511594136556e-06, 1.2718637784322102e-06, 4.8916339874267585e-06, 5.925655364990234e-06, 2.3125012715657553e-06, 4.930959807501899e-06, 2.856651941935221e-06, 3.4413072797987193e-06, 2.5384293662177194e-06, 4.995822906494141e-06, 1.3322300381130643e-06, 1.9151634640163845e-06, 3.318468729654947e-06, 3.6841630935668947e-06, 4.45858637491862e-06, 8.565485477447509e-06, 3.7062168121337886e-06, 2.5548140207926434e-06, 6.274978319803874e-06, 1.122554143269857e-06, 5.4173469543457034e-06, 7.517933845520019e-06, 5.774577458699544e-06, 6.518165270487468e-06, 3.414471944173177e-06, 9.854369693332248e-06, 4.636512862311469e-06, 6.58624702029758e-06, 3.078911039564345e-06, 6.290939119127061e-06, 1.873175303141276e-06, 4.513184229532878e-06, 3.45929463704427e-06, 3.188769022623698e-06, 1.4751036961873373e-05, 4.53495979309082e-06, 6.859699885050456e-06, 1.2839966350131565e-05, 4.549953672620985e-06, 1.1038382848103843e-05, 4.0892759958903e-06, 9.644230206807453e-06, 4.8395660188463e-06, 3.645883666144477e-06, 5.460050370958118e-06, 2.2013319863213433e-06, 2.5408797793918185e-06, 5.0293074713812935e-06, 2.418756484985351e-06, 1.0455515649583605e-05, 9.397930569118924e-06, 2.873539924621582e-06, 2.101129955715603e-06, 8.128152953253852e-06, 4.275043805440267e-06, 5.516873465643989e-06, 6.676051351759168e-06, 3.4677982330322265e-06, 4.2158365249633774e-06, 6.245043542650011e-06, 3.6118427912394204e-06, 8.838706546359592e-06, 9.061892827351888e-06, 1.126004589928521e-05, 2.3325284322102864e-06, 2.734727329678005e-06, 3.7510527504815e-06, 1.0016441345214844e-05, 7.15706083509657e-06, 1.378655433654785e-06, 3.2156705856323244e-06, 7.242692841423883e-06, 3.6686658859252932e-06, 1.0337432225545248e-06, 2.105500962999132e-06, 2.9233429167005753e-06, 8.421209123399524e-06, 2.528097894456651e-06, 9.503364562988281e-07, 3.6062796910603844e-06, 2.1056334177653e-06, 2.285771899753147e-06, 2.794166405995687e-06, 3.1068921089172363e-06, 4.925727844238281e-06, 1.2256701787312825e-06, 2.0971563127305773e-06, 2.440810203552246e-06, 1.046756903330485e-06, 1.9917885462443035e-07, 5.063083436754015e-07, 5.350510279337565e-07, 5.575021107991537e-07, 8.291006088256837e-07, 1.5912850697835288e-06, 6.090270148383246e-07, 3.2935539881388347e-06, 1.9077459971110027e-06, 4.662672678629557e-06, 4.442267947726779e-06, 8.060932159423829e-07, 1.1535485585530598e-06, 5.443791548411051e-06, 6.144444147745768e-06, 8.08066791958279e-06, 8.448263009389242e-06, 2.041988902621799e-06, 1.2322929170396592e-06, 1.9403298695882162e-06, 1.582039727105035e-06, 2.6669104894002282e-06, 8.592605590820313e-07, 5.057056744893392e-06, 1.9519196616278754e-06, 9.823838869730631e-06, 4.231929779052734e-06, 9.41124227311876e-06, 6.4127975040011936e-06, 2.07417541080051e-06, 2.391272121005588e-06, 3.951589266459147e-06, 1.291725370619032e-05, 1.336303022172716e-05, 9.069244066874186e-06, 2.3912721210055877e-06, 2.7305550045437282e-06, 1.1581314934624567e-05, 1.1855999628702799e-05, 1.1782407760620118e-05, 4.704197247823079e-06, 6.7163176006741e-06, 1.1929339832729765e-05, 6.84711668226454e-06, 2.8075774510701496e-06, 1.0954009162055123e-05, 1.0316835509406196e-05, 8.37246576944987e-06, 1.5989939371744795e-06, 6.3902139663696285e-06, 2.818425496419271e-06, 6.850242614746094e-06, 1.1914730072021485e-05, 2.1582179599338106e-06, 4.2709509531656895e-06, 2.644062042236328e-06, 2.5868415832519535e-06, 8.757180637783475e-06, 3.7413835525512697e-06, 5.180040995279949e-06, 1.6835927963256835e-05, 3.882315423753526e-06, 2.1022558212280275e-06, 4.217359754774305e-06, 2.39008002811008e-06, 5.528132120768229e-06, 7.045865058898925e-06, 4.922615157233345e-06, 3.3703777525160046e-06, 1.4311141437954372e-05, 1.784894201490614e-06, 5.53588072458903e-06, 6.391737196180556e-06, 5.49879339006212e-06, 1.5249252319335937e-06, 5.03891044192844e-06, 8.466442426045735e-06, 3.386239210764567e-06, 1.9340382681952584e-06, 5.156662729051378e-06, 1.1852052476671007e-06, 2.7745299869113494e-06, 9.534094068739149e-07, 7.546212938096788e-06, 1.3295147154066299e-06, 1.3941526412963868e-06, 5.901985698276095e-06, 4.8501624001397026e-06, 1.763237847222222e-06, 2.681116263071696e-06, 1.2080868085225422e-06, 3.214677174886068e-07, 1.883705457051595e-06, 6.239612897237142e-07, 5.419320530361599e-06, 6.102522214253743e-07, 5.263090133666992e-07, 4.3160385555691186e-07, 2.9325485229492187e-07, 1.0149677594502766e-06, 2.025233374701606e-07, 1.1465946833292644e-06, 9.004275004069011e-07, 3.3701790703667534e-06, 6.218883726331924e-06, 2.887447675069173e-06, 5.847944153679742e-06, 3.5301844278971354e-06, 5.006790161132813e-07, 5.7754913965861e-06, 4.593266381157769e-06, 9.807613160875108e-07, 7.662508222791883e-07, 1.6334321763780384e-06, 1.6627046797010635e-06, 4.45352660285102e-06, 4.35491402943929e-06, 4.820903142293294e-06, 3.839797443813747e-06, 9.366830190022787e-06, 6.43610954284668e-06, 7.189247343275282e-06, 6.08364741007487e-07, 3.039240837097168e-06, 1.253929403093126e-05, 1.1504987875620525e-05, 1.0557174682617188e-05, 4.193517896864149e-07, 5.10325034459432e-06, 4.929304122924805e-06, 1.6276703940497503e-06, 2.0642214351230193e-05, 2.2696124182807073e-06, 1.4730360772874619e-05, 4.730158381991916e-06, 3.536144892374675e-06, 1.278042793273926e-05, 8.413235346476237e-06, 5.651473999023438e-06, 2.2806061638726127e-06, 3.251499599880642e-06, 8.648170365227592e-06, 9.982453452216254e-07, 3.0690431594848634e-06, 1.092990239461263e-05, 6.356371773613824e-06, 3.251896964179145e-06, 1.7315149307250977e-06, 1.019736131032308e-05, 9.78239377339681e-06, 1.4269590377807617e-05, 1.7033418019612631e-06, 4.748172230190701e-06, 4.715654585096571e-06, 3.2816330591837564e-06, 5.105137825012208e-06, 3.715157508850098e-06, 6.313191519843207e-06, 1.393225457933214e-06, 3.1790468427870006e-06, 1.2321604622734917e-06, 9.620255894131132e-06, 3.245737817552355e-06, 9.276270866394043e-06, 1.8184714847140843e-06, 9.954174359639485e-06, 8.83969995710585e-06, 6.84095753563775e-06, 9.528795878092448e-07, 4.002518124050564e-06, 1.3008912404378255e-06, 8.102258046468099e-07, 2.9618210262722436e-06, 3.48895788192749e-06, 3.7716494666205513e-06, 1.0688437355889214e-06, 2.8075774510701496e-06, 1.4511081907484265e-06, 2.677175733778212e-06, 1.1666615804036459e-06, 1.0597705841064452e-06, 3.775623109605577e-06, 8.912086486816407e-06, 1.1391772164238824e-06, 2.5100840462578667e-06, 2.324713601006402e-06, 8.092323939005535e-07, 2.4580955505371095e-06, 2.2963682810465497e-06, 2.630750338236491e-06, 2.4310085508558484e-06, 1.4986594518025715e-06, 7.762511571248372e-07, 2.1708673901028102e-06, 2.848605314890544e-06, 1.563231150309245e-06, 3.710720274183485e-07, 5.407333374023437e-07, 5.156795183817546e-07, 8.994340896606444e-07, 2.2513667742411297e-06, 5.621711413065592e-07, 1.4170673158433702e-06, 2.645452817281087e-07, 1.7230709393819172e-06, 3.018577893575033e-06, 9.720524152119955e-07, 3.4994549221462675e-07, 1.9160906473795574e-06, 4.764000574747721e-06, 4.10159428914388e-06, 3.718137741088867e-06, 5.3471326828002934e-06, 1.3751453823513455e-06, 6.803539064195421e-06, 2.774894237518311e-06, 2.9326478640238445e-06, 4.267560111151801e-06, 1.0210871696472166e-05, 3.0475854873657224e-06, 4.085699717203776e-06, 1.9460916519165042e-06, 3.0617912610371907e-06, 2.498295572068956e-06, 9.162227312723794e-06, 3.8350621859232586e-06, 1.6548236211140952e-06, 5.634625752766927e-06, 1.1017878850301107e-05, 2.132521735297309e-06, 4.03594970703125e-06, 5.627605650160048e-06, 1.8578370412190758e-06, 6.675124168395997e-06, 5.1611264546712245e-06, 1.0454018910725911e-05, 8.478264013926189e-06, 3.4054120381673173e-06, 5.622009436289469e-06, 3.619909286499024e-06, 1.105984052022298e-05, 2.29497750600179e-06, 5.9959623548719614e-06, 7.858143912421334e-06, 4.1942463980780706e-06, 8.856932322184246e-06, 5.184412002563476e-06, 2.384026845296224e-06, 8.628169695536295e-06, 1.6491942935519747e-06, 1.1478132671780055e-05, 2.531343036227756e-06, 7.017585966322157e-06, 4.818505711025662e-06, 4.180272420247395e-06, 5.521112018161349e-06, 4.977517657809788e-06, 4.6371089087592225e-06, 4.72810533311632e-06, 1.6836325327555338e-06, 1.9886758592393663e-06, 2.543462647332085e-06, 3.2175911797417537e-06, 9.01586479610867e-06, 3.1722254223293726e-06, 3.938343789842393e-06, 7.772366205851236e-06, 5.331569247775607e-06, 6.80367151896159e-06, 4.642407099405925e-06, 1.9123819139268663e-06, 4.3219327926635745e-06, 1.263684696621365e-06, 5.019836955600315e-06, 9.583764606051974e-07, 3.3773978551228837e-06, 5.467732747395834e-07, 6.2965684466891825e-06, 5.910793940226237e-07, 3.2703744040595163e-06, 4.712939262390136e-06, 1.4326969782511395e-06, 3.7793318430582686e-06, 2.8568506240844726e-06, 1.835028330485026e-06, 1.3243158658345543e-06, 2.615518040127224e-06, 1.9127130508422854e-06, 2.597769101460775e-07, 5.483627319335938e-07, 3.632903099060059e-07, 1.628398895263672e-06, 1.5115737915039062e-06, 5.61972459157308e-07, 8.446971575419108e-07, 5.295541551378038e-07, 9.612242380777996e-07, 2.346535523732503e-06, 2.7540657255384657e-06, 4.256765047709147e-07, 3.5444895426432293e-06, 3.1398402320014106e-06, 3.1635165214538576e-06, 3.5585959752400716e-06, 1.3477934731377498e-06, 9.063978989919026e-06, 3.0799706776936852e-06, 3.2330883873833548e-06, 3.542800744374593e-06, 4.399418830871582e-06, 2.403193049960666e-06, 1.63803497950236e-06, 4.119873046875e-06, 2.8787718878852e-06, 5.558133125305176e-06, 2.254148324330648e-06, 2.109540833367242e-06, 1.3494491577148438e-06, 6.3911080360412594e-06, 4.0176179673936636e-06, 2.4468700091044105e-06, 1.7594297726949055e-06, 3.4717056486341692e-06, 7.358868916829427e-06, 2.244313557942708e-06, 5.469719568888346e-06, 4.625797271728515e-06, 8.328676223754883e-06, 7.342735926310222e-06, 3.2428900400797526e-06, 4.361470540364583e-06, 1.2721776962280274e-05, 1.0106861591339111e-05, 1.7161866029103598e-05, 1.6739567120869953e-05, 1.1056959629058838e-05, 9.505351384480796e-06, 7.583220799763998e-06, 1.1255078845553928e-05, 6.931357913547091e-06, 1.4001594649420845e-05, 1.2890497843424478e-05, 2.459208170572917e-06, 1.915031009250217e-06, 3.1994183858235683e-06, 5.004405975341797e-06, 4.725217819213867e-06, 8.008016480339896e-06, 6.3342518276638455e-06, 3.211299578348796e-06, 1.4123188124762642e-05, 4.5791599485609265e-06, 4.1382842593722875e-06, 1.871943473815918e-05, 5.027982923719618e-06, 4.530813958909777e-06, 4.977451430426703e-06, 1.1354486147562663e-05, 4.311336411370172e-06, 2.9861927032470704e-06, 2.9110908508300783e-06, 7.682376437717014e-06, 9.43597157796224e-06, 3.8179424073961045e-06, 3.768735461764866e-06, 3.3905108769734696e-06, 2.0819902420043945e-06, 9.236733118693032e-07, 4.009405771891276e-06, 1.238822937011719e-06, 1.4591217041015625e-06, 5.1344765557183165e-06, 3.5419066747029617e-06, 4.198418723212348e-06, 8.375114864773221e-07, 2.5369061364067927e-06, 3.528197606404622e-06, 3.6795934041341143e-07, 1.8712878227233886e-06, 1.5718407101101344e-06, 4.0572881698608394e-06, 2.9791394869486492e-06, 1.783702108595106e-06, 2.256631851196289e-06, 2.5365749994913736e-06, 9.28905275132921e-07, 1.756151517232259e-06, 3.9557615915934245e-07, 1.2537505891587998e-06, 5.846222241719564e-07, 1.3623634974161783e-06, 6.204181247287326e-07, 1.2356042861938477e-06, 2.8354922930399576e-06, 8.996327718098959e-07, 1.7192959785461425e-06, 1.7790993054707847e-06, 8.555915620591906e-07, 2.8996666272481283e-06, 1.554091771443685e-06, 6.895595126681857e-07, 2.2481878598531087e-06, 2.4984280268351236e-07, 9.617540571424696e-07, 1.5267729759216308e-06, 7.819135983784994e-07, 2.1272235446506077e-06, 5.715688069661459e-06, 1.5056133270263673e-06, 1.99894110361735e-06, 4.918773969014486e-06, 2.7719140052795407e-06, 5.590253406100803e-06, 2.0016233126322426e-06, 6.744464238484701e-06, 2.596908145480686e-06, 5.118747552235921e-06, 8.444686730702719e-06, 7.106794251335992e-06, 5.487137370639376e-06, 1.6458829243977862e-06, 6.241202354431152e-06, 1.9396146138509115e-06, 4.152218500773112e-06, 8.350133895874024e-06, 1.8160343170166013e-05, 3.1591256459554037e-06, 1.589298248291016e-06, 8.26438268025716e-06, 7.246732711791992e-06, 1.5689770380655927e-05, 6.082057952880859e-06, 1.1968413988749185e-05, 1.5965369012620716e-05, 1.2491212950812447e-05, 4.085103670756022e-06, 4.95804680718316e-06, 2.9421846071879068e-06, 5.762736002604166e-06, 4.9393971761067715e-06, 4.379848639170329e-06, 1.3361771901448568e-05, 3.597100575764974e-06, 4.172457589043511e-06, 1.7682645055982802e-05, 3.897150357564291e-06, 1.3693769772847494e-05, 3.984371821085612e-06, 4.826452996995714e-06, 5.976359049479167e-06, 9.272098541259764e-06, 1.0664727952745226e-05, 5.548265245225694e-06, 4.0892759958903e-06, 3.9096673329671216e-06, 3.764867782592774e-06, 3.438591957092285e-06, 4.314912690056695e-06, 9.113152821858725e-07, 1.0653336842854819e-06, 9.253289964463975e-07, 3.793835639953613e-06, 2.0771556430392794e-06, 3.6225053999159076e-06, 2.703070640563965e-07, 3.643194834391276e-06, 2.707441647847494e-06, 8.237361907958985e-07, 3.578166166941325e-06, 2.6794274648030603e-06, 6.004869937896728e-06, 1.6358494758605957e-06, 7.51018524169922e-07, 2.8563539187113444e-06, 3.7444631258646642e-06, 3.0008289549085834e-06, 1.6572078069051108e-06, 6.013115247090657e-07, 3.9193365308973526e-07, 2.284546693166097e-06, 5.500515302022298e-07, 4.329284032185873e-07, 1.580317815144857e-06, 1.3122955958048502e-06, 1.7717149522569444e-06, 6.599227587381999e-07, 2.2490819295247396e-07, 4.54054938422309e-07, 1.4387567838033042e-06, 1.300672690073649e-06, 3.8292672899034287e-07, 1.140435536702474e-06, 1.2594461441040038e-06, 6.881687376234268e-07, 1.796086629231771e-07, 5.852182706197104e-07, 8.097622129652236e-07, 2.3315350214640302e-07, 1.4119346936543782e-06, 9.207593070136177e-07, 4.814068476359049e-07, 1.4795859654744467e-06, 7.840659883287219e-07, 2.345542112986247e-06, 2.1274884541829424e-06, 2.98970275455051e-06, 2.5133291880289716e-06, 1.9223491350809732e-06, 9.247130817837186e-06, 4.862050215403239e-06, 7.802943388621012e-06, 6.255838606092666e-07, 4.960596561431885e-06, 1.0748008886973063e-05, 2.6217434141370986e-06, 8.468495474921333e-06, 1.4845530192057291e-06, 6.724132431877983e-06, 4.6422481536865235e-06, 6.70909881591797e-06, 8.385022481282554e-06, 5.612770716349283e-06, 7.022619247436524e-06, 4.206101099650065e-06, 1.2212892373402912e-05, 5.999565124511718e-06, 2.101421356201172e-06, 8.166829744974773e-07, 5.231300989786785e-06, 2.7556419372558598e-06, 5.581378936767579e-06, 6.251096725463868e-06, 8.419089847140841e-06, 2.5827685991923012e-06, 9.709437688191732e-06, 3.0734803941514763e-06, 6.416559219360352e-06, 1.1087417602539064e-05, 5.390008290608723e-06, 4.65099016825358e-06, 1.635098457336426e-05, 8.077303568522136e-06, 6.018214755588107e-06, 8.033646477593315e-06, 4.1560994254218205e-06, 4.469752311706543e-06, 5.679925282796224e-06, 3.3658742904663085e-06, 1.3909671041700573e-05, 3.42355834113227e-06, 5.164411332872179e-06, 4.90570068359375e-06, 1.8813874986436634e-06, 1.6556183497111003e-06, 4.5924054251776795e-06, 3.1043423546685108e-06, 2.3102760314941405e-06, 1.7938348982069226e-06, 4.919370015462239e-06, 2.7240647210015193e-06, 8.89897346496582e-07, 1.0095437367757162e-06, 1.7810530132717556e-06, 1.3004740079243979e-06, 1.4940897623697918e-07, 1.3903776804606118e-06, 9.902318318684896e-07, 1.412630081176758e-07, 6.497568554348416e-07, 1.4573335647583007e-06, 1.8947323163350421e-06, 2.1525886323716905e-06, 1.5223026275634765e-06, 1.7186005910237633e-07, 1.170900132921007e-07, 1.3367335001627604e-06, 7.366140683492024e-07, 2.30007701449924e-07, 4.267692565917969e-07, 9.64204470316569e-07, 2.9708279503716357e-06, 4.561742146809896e-07, 1.9031763076782226e-06, 6.182326210869683e-07, 2.4924675623575844e-06, 1.2390812238057455e-06, 3.7829081217447917e-07, 2.128481864929199e-06, 6.566445032755533e-07, 2.875129381815592e-06, 2.1719932556152342e-06, 1.5422701835632322e-06, 1.9484096103244357e-07, 2.583165963490804e-06, 8.433063824971517e-07, 1.2354718314276801e-06, 3.0335783958435056e-06, 2.4671355883280436e-06, 9.751982159084746e-07, 2.7413169542948405e-06, 3.215471903483073e-06, 6.116098827785917e-06, 8.031725883483887e-06, 5.069077014923096e-06, 3.616611162821452e-06, 3.104805946350098e-06, 4.6062469482421876e-06, 6.9033437305026595e-06, 3.4961104393005368e-06, 7.501443227132161e-06, 1.6899241341484919e-06, 1.7597277959187823e-06, 4.716449313693578e-06, 5.367596944173178e-06, 7.191399733225506e-06, 1.19324525197347e-05, 1.5443722407023112e-05, 2.2928913434346517e-06, 2.99986203511556e-06, 6.92288080851237e-06, 9.841720263163249e-06, 3.856420516967774e-06, 1.4064629872639977e-05, 2.2898415724436443e-05, 1.3666788736979168e-05, 2.07058588663737e-06, 8.310278256734213e-06, 2.479076385498047e-06, 8.171465661790637e-06, 1.5555818875630698e-06, 2.9126803080240886e-06, 4.950364430745442e-06, 1.1529286702473959e-05, 2.2591749827067054e-06, 4.716780450608995e-06, 1.7676591873168943e-05, 8.249203364054361e-06, 9.857495625813801e-06, 3.15301948123508e-06, 1.2222197320726184e-05, 1.767085658179389e-05, 8.972353405422636e-06, 3.845360543992785e-06, 2.5489595201280385e-06, 4.3375624550713435e-06, 6.005631552802192e-06, 6.426837709214953e-06, 3.272692362467448e-06, 2.0595391591389975e-06, 7.564557923210992e-06, 5.412631564670139e-06, 9.15494230058458e-06, 1.765622033013238e-06, 3.6906533771091036e-06, 3.998544481065538e-06, 1.7435020870632598e-06, 1.409451166788737e-06, 2.334038416544596e-06, 7.930066850450306e-07, 2.8178095817565917e-06, 3.5540262858072916e-06, 1.5921062893337674e-06, 2.5444229443868e-06, 6.54528538386027e-06, 4.203650686475966e-06, 2.3583571116129555e-06, 3.962417443593343e-06, 2.0478831397162543e-06, 3.378589948018392e-07, 7.106860478719076e-07, 2.0215908686319986e-06, 2.108017603556315e-07, 3.998478253682455e-07, 2.919965320163303e-07, 4.403789838155111e-07, 1.0607639948527018e-06, 5.209445953369141e-07, 1.2521942456563314e-06, 5.965431531270345e-07, 7.196267445882163e-07, 2.2599101066589355e-06, 1.4164050420125327e-06, 8.7738037109375e-07, 5.101164182027181e-07, 1.7340977986653648e-06, 2.4121999740600585e-06, 1.6614794731140137e-06, 4.891554514567057e-07, 3.5978688134087456e-06, 1.8283724784851075e-06, 7.424751917521159e-07, 1.8640359242757164e-06, 2.0243724187215172e-06, 1.7346938451131186e-06, 2.146760622660319e-06, 5.451937516530355e-06, 2.1030505498250324e-06, 2.3282236523098415e-06, 1.9192695617675783e-06, 2.983411153157552e-06, 2.5632646348741324e-06, 2.813835938771566e-06, 3.0950705210367836e-06, 5.697011947631836e-06, 7.806619008382161e-07, 5.612134933471679e-06, 2.3130575815836587e-06, 2.184430758158366e-05, 6.165305773417155e-06, 1.2192646662394205e-05, 1.8392999966939293e-06, 1.79519255956014e-05, 1.8284400304158524e-05, 1.0359366734822591e-05, 6.007194519042969e-06, 2.1982987721761066e-06, 1.199026902516683e-05, 4.424095153808594e-06, 5.378484725952148e-06, 5.687713623046875e-06, 8.058945337931314e-06, 7.720947265625e-06, 1.4238258202870688e-05, 1.778308550516764e-05, 1.856080691019694e-05, 1.1570374170939129e-05, 4.898707071940103e-06, 4.093514548407661e-06, 2.3732582728068035e-05, 7.777929306030275e-06, 4.281282424926758e-06, 3.4976005554199214e-06, 2.0009676615397136e-06, 1.1579063203599717e-05, 2.6530027389526366e-06, 1.8500619464450412e-06, 1.1300378375583224e-05, 3.280507193671332e-06, 9.717543919881185e-06, 8.555849393208821e-06, 4.566311836242676e-06, 8.645719952053494e-06, 3.5077995724148224e-06, 4.818174574110243e-06, 9.415679507785372e-06, 2.7808215883043073e-06, 6.379617585076226e-06, 6.1772929297553164e-06, 3.195603688557943e-06, 6.015539169311523e-06, 1.763568984137641e-06, 2.040664354960124e-06, 1.1080503463745117e-06, 2.2521615028381346e-06, 4.239877065022787e-06, 4.778305689493815e-07, 3.076593081156413e-07, 1.2332863277859157e-06, 7.604559262593587e-07, 4.1971604029337567e-07, 1.286665598551432e-06, 6.500879923502604e-07, 1.3410051663716635e-06, 1.4019674725002713e-06, 5.259116490681967e-07, 4.307428995768229e-07, 3.6399232016669375e-06, 9.79900360107422e-07, 1.9405285517374673e-06, 4.6869119008382156e-07, 4.807114601135254e-07, 1.6734997431437175e-06, 7.793638441297743e-07, 1.7457538180881074e-07, 1.058777173360189e-06, 1.3873312208387587e-06, 5.585617489284939e-07, 4.7405560811360676e-07, 6.645917892456055e-07, 2.3305416107177735e-06, 1.8409887949625653e-06, 1.3466676076253255e-06, 4.592206743028429e-07, 1.308123270670573e-06, 1.9208590189615885e-06, 4.838903745015462e-07, 7.645289103190104e-07, 6.659163369072808e-07, 3.425975640614828e-06, 1.7330050468444826e-06, 4.093514548407661e-06, 1.2951095898946127e-06, 3.902216752370199e-06, 5.856487486097547e-07, 4.906455675760905e-06, 1.6374389330546062e-06, 3.6672088834974497e-06, 2.135634422302246e-06, 7.134278615315755e-06, 1.4228555891248914e-05, 4.202591048346625e-06, 1.1652376916673448e-05, 2.044902907477485e-06, 9.556909402211506e-06, 2.942840258280436e-05, 6.130933761596679e-06, 4.1361649831136075e-06, 1.3047059377034503e-05, 1.0806719462076823e-05, 7.641712824503581e-06, 4.256963729858398e-06, 5.776484807332356e-06, 1.4659066994984946e-05, 2.7616659800211586e-05, 1.6590058803558352e-05, 1.397411028544108e-05, 1.4090140660603842e-05, 1.1291424433390298e-05, 1.3363043467203777e-05, 2.5395552317301434e-06, 4.910389582316081e-06, 1.322348912556966e-06, 5.247036616007487e-06, 3.1650066375732427e-06, 9.76228713989258e-06, 2.523946762084961e-05, 3.270546595255534e-06, 7.80789057413737e-06, 1.4386415481567385e-05, 2.129316329956055e-06, 9.277330504523385e-06, 8.979108598497179e-06, 4.730886883205838e-06, 1.065393288930257e-05, 4.126363330417209e-06, 2.143383026123047e-06, 3.3395820193820524e-06, 3.86867258283827e-06, 9.864767392476398e-06, 4.400875833299425e-06, 3.1769275665283206e-06, 2.0020537906222873e-06, 2.5658739937676324e-05, 3.966689109802246e-06, 1.4947785271538629e-05, 2.001365025838216e-06, 3.7597947650485565e-06, 6.285905838012695e-06, 1.9768873850504556e-06, 1.821617285410563e-06, 2.6943948533799915e-06, 6.465117136637369e-07, 1.426239808400472e-06, 5.025333828396268e-07, 8.487701416015625e-07, 2.0660956700642904e-06, 2.3895502090454104e-06, 6.108482678731282e-07, 1.893142859141032e-06, 1.870128843519423e-06, 1.878937085469564e-06, 2.2852420806884768e-06, 2.8052594926622176e-06, 7.928411165873209e-07, 4.2965014775594074e-07, 1.2818972269694013e-06, 2.3448467254638674e-06, 4.6203533808390296e-07, 1.0089079538981121e-06, 4.3839216232299807e-07, 1.5442371368408202e-06, 6.787644492255317e-07, 1.6180674235026043e-06, 8.558432261149089e-07, 6.055169635348851e-07, 1.3435880343119302e-06, 3.2485326131184897e-06, 5.12209203508165e-06, 8.874138196309408e-07, 3.4851233164469405e-06, 1.7942984898885088e-06, 2.115964889526367e-06, 5.837281545003255e-07, 1.2838840484619142e-06, 2.8873483339945477e-06, 1.1324882507324219e-06, 4.080931345621745e-07, 5.7424108187357586e-06, 8.794665336608887e-07, 1.6936328676011828e-06, 1.4845530192057291e-06, 6.7329406738281255e-06, 1.44448545244005e-06, 7.692575454711913e-06, 1.0812083880106609e-05, 3.080434269375271e-06, 4.239281018575033e-06, 3.8494004143608944e-06, 2.1997690200805664e-05, 1.937299966812134e-05, 5.282084147135416e-06, 2.7819474538167317e-06, 4.830559094746907e-06, 3.3168792724609377e-06, 1.1543989181518554e-05, 5.717873573303222e-06, 3.1535625457763673e-06, 2.354621887207031e-06, 3.2792091369628905e-06, 1.9410610198974606e-05, 8.285204569498698e-06, 1.514504353205363e-05, 1.8680969874064128e-05, 1.5182256698608397e-05, 6.23027483622233e-06, 1.2648264567057291e-05, 1.093602180480957e-05, 4.799763361612956e-06, 1.5967528025309245e-05, 3.5790602366129553e-06, 4.891157150268554e-06, 2.3244222005208336e-06, 6.329854329427083e-06, 1.0494311650594076e-05, 6.751378377278646e-06, 3.334561983744303e-05, 6.366332372029622e-06, 1.9672632217407224e-05, 2.3189981778462728e-05, 5.24743398030599e-06, 1.888124148050944e-05, 5.851123068067763e-06, 1.9804769092135957e-05, 1.4405846595764162e-05, 6.949504216512045e-06, 2.166695064968533e-06, 1.9911924997965495e-06, 3.8382079866197375e-06, 2.1110905541314018e-05, 2.89811028374566e-06, 1.7432371775309243e-05, 5.014419555664063e-06, 6.789896223280166e-06, 1.2344121932983397e-06, 5.652209122975667e-06, 1.802364985148112e-06, 1.217325528462728e-06, 3.2331943511962895e-06, 5.79833984375e-06, 1.3031562169392904e-06, 3.875394662221273e-06, 2.066691716512044e-06, 8.049276140001085e-07, 1.3103087743123373e-06, 1.4311075210571288e-06, 6.573067771063911e-07, 9.993712107340494e-07, 8.872151374816894e-07, 4.4875674777560764e-07, 4.2845805486043295e-07, 6.952881813049316e-07, 1.2168619367811416e-06, 6.106495857238769e-07, 4.2031208674112956e-07, 1.0575850804646811e-06, 3.4436252382066513e-06, 2.004570431179471e-06, 3.2676590813530815e-07, 1.2231535381740994e-06, 2.732541826036241e-06, 7.46713744269477e-07, 9.786420398288304e-07, 4.683600531684029e-07, 2.7124087015787757e-06, 5.3717692693074545e-06, 5.0785144170125325e-06, 8.659230338202583e-07, 2.2300746705796986e-06, 5.010631349351671e-06, 4.6621428595648875e-06, 5.420976214938694e-06, 2.3683574464586045e-06, 2.193517155117459e-06, 5.702906184726291e-06, 8.653932147555882e-07, 1.844631301032172e-06, 3.3798482682969837e-06, 1.5297200944688583e-06, 5.193816290961371e-06, 7.342894872029622e-06, 2.723601129319933e-06, 8.67380036248101e-06, 1.41727262073093e-05, 5.956954426235623e-06, 2.598365147908529e-06, 5.822102228800455e-06, 7.468064626057943e-06, 4.160722096761067e-06, 6.169875462849934e-06, 5.406240622202555e-06, 4.278421401977539e-06, 6.363709767659506e-06, 9.92608070373535e-06, 1.0545584890577528e-05, 8.649905522664388e-06, 5.319714546203613e-06, 2.686844931708442e-06, 5.296627680460612e-06, 9.421838654412162e-06, 1.7990668614705404e-06, 7.4980258941650394e-06, 1.0164658228556314e-05, 2.616564432779948e-06, 7.62393077214559e-06, 3.0035972595214845e-05, 4.235704739888509e-06, 6.402830282847087e-06, 3.5498539606730146e-06, 6.933112939198812e-06, 2.7799109617869062e-05, 1.4926989873250326e-05, 1.0644694169362385e-05, 1.1442303657531738e-05, 1.9974609216054278e-05, 9.790857632954916e-06, 7.453521092732748e-06, 3.964642683664958e-05, 7.11520512898763e-06, 4.759828249613444e-06, 1.4424191580878362e-05, 1.6682015524970162e-06, 3.389769130282932e-05, 4.721217685275608e-06, 5.825493070814344e-06, 1.0492404301961264e-06, 6.4751836988661016e-06, 8.66075356801351e-06, 1.1961327658759223e-06, 8.606712023417155e-06, 1.1188255416022407e-05, 7.935365041097005e-07, 1.6653537750244141e-06, 6.412400139702692e-06, 1.6774733861287433e-06, 3.6309162775675456e-07, 1.8107891082763671e-06, 2.330144246419271e-06, 7.219115893046062e-07, 1.8159548441569012e-06, 2.4348497390747067e-06, 1.7767151196797691e-06, 9.414884779188369e-07, 2.190768718719482e-06, 4.2447447776794436e-06, 3.825624783833821e-06, 3.2385190327962246e-07, 3.443161646525065e-06, 6.098217434353299e-07, 1.1527538299560547e-06, 1.3990203539530437e-06, 3.9226479000515415e-07, 1.6720427407158748e-06, 6.884998745388454e-07, 4.883607228597005e-07, 1.07268492380778e-06, 8.172459072536894e-07, 1.3773971133761935e-06, 1.2421607971191406e-06, 3.7054220835367834e-07, 1.7291307449340821e-06, 7.598267661200629e-07, 3.84986400604248e-06, 1.8850962320963543e-06, 1.6017754872639973e-06, 3.188716040717231e-06, 1.0808308919270833e-06, 4.000133938259548e-06, 1.990795135498047e-06, 3.0138095219930013e-06, 1.7948945363362628e-06, 1.1828872892591689e-06, 3.8081407546997066e-06, 8.090535799662273e-06, 4.7181712256537545e-06, 5.341503355238173e-06, 6.293919351365831e-06, 3.396868705749512e-06, 6.758848826090495e-06, 1.7744302749633789e-06, 4.624790615505643e-06, 7.718072997199165e-06, 3.447373708089192e-06, 7.756054401397705e-06, 6.077686945597331e-06, 3.849367300669352e-06, 6.80387020111084e-06, 3.779729207356771e-06, 2.2641023000081382e-06, 8.169174194335936e-06, 1.0080337524414061e-05, 8.14994176228841e-06, 4.9732128779093425e-06, 4.611280229356553e-06, 4.903011851840549e-06, 7.557802730136447e-06, 7.40614202287462e-06, 3.5409132639567057e-06, 4.793140623304579e-06, 5.942318174574111e-06, 1.3834900326199e-05, 4.0648778279622396e-06, 4.836320877075195e-06, 1.7614960670471193e-05, 5.456407864888509e-06, 4.42663828531901e-06, 8.269945780436198e-06, 9.486377239227295e-06, 4.6036640803019204e-06, 2.7001539866129558e-05, 8.497933546702067e-06, 1.7118950684865318e-05, 1.7413496971130373e-05, 3.063076072269015e-05, 3.585371706220839e-05, 1.2007620599534777e-05, 4.178020689222548e-06, 1.3811323377821183e-05, 2.4894078572591148e-05, 9.335147009955512e-06, 4.543198479546441e-06, 7.642441325717501e-06, 8.954869376288522e-06, 5.225009388393826e-06, 1.930554707845052e-06, 7.001757621765136e-06, 2.9522180557250977e-06, 1.2729565302530926e-06, 1.339415709177653e-06, 4.456308152940538e-06, 4.697740077972412e-06, 6.692250569661458e-06, 2.20689508650038e-06, 4.116098086039226e-06, 2.8385321299235026e-06, 9.043349160088433e-07, 1.8698970476786295e-06, 8.059541384379069e-07, 2.2917985916137693e-06, 2.329746882120768e-06, 1.920958360036214e-06, 2.117156982421875e-06, 9.308656056722004e-07, 1.379251480102539e-06, 3.280838330586751e-06, 1.2306372324625652e-06, 1.8423795700073242e-06, 3.790855407714844e-07, 3.63257196214464e-07, 2.4754471249050563e-06, 1.0724862416585288e-06, 2.31782595316569e-06, 9.246004952324761e-07, 4.719429545932346e-06, 3.236134847005208e-06, 9.45130983988444e-07, 4.125568601820204e-06, 2.219610744052463e-06, 3.2758712768554692e-06, 3.023412492540148e-06, 8.115503523084854e-07, 7.908145586649577e-06, 2.67187754313151e-06, 6.1126550038655595e-06, 5.008445845709906e-06, 9.04401143391927e-07, 5.648864640129937e-06, 2.880096435546875e-06, 3.6990642547607423e-06, 6.054109997219509e-06, 4.999107784695096e-06, 2.664963404337565e-06, 4.959305127461751e-06, 1.118832164340549e-05, 2.026955286661784e-06, 2.0760960049099394e-06, 2.8285053041246204e-06, 9.813838534884984e-06, 4.27405039469401e-06, 4.650592803955078e-06, 4.663546880086263e-06, 5.758285522460937e-06, 2.535084883371989e-06, 5.183021227518718e-06, 1.4999787012736002e-05, 1.5121539433797201e-05, 2.8887589772542318e-06, 1.793495814005534e-05, 1.2662649154663087e-05, 8.130629857381185e-06, 3.1954447428385417e-06, 1.447335879007975e-05, 1.4012575149536134e-05, 5.2167574564615885e-06, 5.792538324991863e-06, 4.591147104899089e-06, 9.775360425313315e-06, 7.575617896185981e-06, 1.2463794814215766e-05, 1.522928476333618e-05, 5.935529867808024e-06, 1.0386407375335691e-05, 8.522510528564452e-06, 3.4705599149068196e-05, 2.3244222005208335e-05, 2.3847553465101454e-05, 6.057659784952799e-06, 3.677527109781901e-05, 6.5690279006957996e-06, 7.144477632310656e-06, 1.4568236139085558e-05, 1.285605960422092e-05, 1.3259450594584148e-05, 7.715953720940484e-06, 2.5608804490831164e-06, 4.3776300218370225e-06, 1.1656880378723146e-05, 3.6499235365125865e-06, 7.188055250379774e-06, 1.8713871637980142e-06, 3.967682520548503e-06, 2.211928367614746e-06, 2.3023287455240885e-06, 1.4570686552259658e-06, 8.567174275716145e-06, 1.1899736192491318e-06, 1.7423099941677513e-06, 3.294812308417426e-06, 1.2086497412787544e-06, 3.1857358084784615e-06, 9.060568279690212e-07, 1.2679232491387261e-06, 2.3961067199707033e-06, 2.649294005499946e-06, 4.530747731526693e-06, 9.249647458394369e-07, 9.238719940185547e-07, 8.780426449245877e-07, 1.3950467109680174e-06, 9.520848592122397e-07, 1.548594898647732e-06, 1.2401739756266275e-06, 2.6320417722066247e-06, 3.173616197374132e-07, 9.980466630723743e-07, 6.526046329074436e-07, 3.930595186021593e-07, 6.190935770670572e-07, 3.89417012532552e-07, 1.2649430168999568e-06, 7.479058371649849e-07, 8.769830067952473e-07, 1.995695961846246e-06, 1.470711496141222e-06, 2.4855136871337892e-06, 2.7877092361450197e-06, 3.0043390062120225e-06, 9.694496790568034e-06, 6.764464908175998e-07, 3.1948089599609376e-06, 9.813772307501897e-06, 9.125471115112306e-07, 1.5790594948662651e-06, 2.035167482164171e-06, 2.5135676066080726e-06, 1.0045501920912e-05, 1.027451621161567e-06, 7.867018381754558e-07, 2.5500853856404626e-06, 5.356801880730523e-06, 1.2954076131184896e-06, 6.031129095289442e-06, 5.133085780673557e-06, 3.2035509745279945e-06, 4.264778561062282e-06, 7.597936524285211e-06, 6.186697218153212e-06, 1.1080834600660537e-05, 1.1483695771959094e-05, 1.0154909557766384e-05, 9.220441182454427e-06, 2.840280532836914e-06, 2.813021341959635e-06, 3.2497247060139977e-06, 8.09768835703532e-06, 1.970529556274414e-06, 1.413687070210775e-05, 9.691119194030762e-06, 1.1139909426371255e-05, 1.8643339474995933e-06, 8.645157019297281e-06, 4.285871982574463e-06, 4.359384377797444e-06, 2.30481227238973e-06, 5.6081016858418785e-06, 6.336688995361329e-06, 5.726814270019531e-06, 1.6276041666666668e-06, 1.5408462948269315e-05, 2.1384358406066893e-05, 1.6711685392591687e-05, 1.2999971707661946e-05, 1.138064596388075e-05, 8.860164218478732e-06, 9.997884432474771e-06, 6.468693415323893e-06, 1.7614629533555772e-05, 1.6519096162584093e-05, 5.456209182739259e-06, 1.673599084218343e-05, 1.7832981215582955e-05, 4.7850608825683594e-06, 6.758040852016873e-06, 4.6307510799831815e-06, 2.021988232930501e-06, 1.422365506490072e-06, 1.2542141808403865e-06, 6.020334031846788e-06, 6.451606750488281e-06, 7.520119349161784e-06, 2.0398696263631187e-06, 6.580829620361327e-06, 1.3354751798841688e-06, 2.074374092949761e-06, 5.490250057644314e-06, 5.5913130442301435e-06, 1.2287166383531359e-06, 4.330409897698296e-06, 1.8411874771118164e-06, 1.7834371990627714e-06, 2.725256813897027e-06, 7.056196530659994e-06, 1.5706486172146268e-06, 1.4137559466891818e-06, 7.867018381754556e-07, 1.3434224658542209e-06, 1.8524461322360565e-06, 8.687973022460937e-07, 8.362929026285807e-07, 2.8479099273681637e-06, 3.1206342909071183e-07, 6.080336040920682e-07, 9.755293528238933e-07, 2.6616122987535264e-06, 6.119410196940105e-07, 1.1095073488023546e-06, 1.8252266777886286e-06, 2.7522775861952035e-06, 3.736548953586154e-07, 1.5621715121799046e-06, 2.6324060228135853e-06, 1.3407733705308702e-06, 1.4319022496541343e-06, 1.3711055119832355e-06, 6.218671798706054e-06, 5.307992299397787e-06, 8.619891272650826e-06, 3.91840934753418e-06, 2.1715958913167316e-06, 2.2463003794352214e-06, 1.6751289367675783e-06, 2.984669473436143e-06, 1.6992621951633032e-06, 1.9229253133138016e-06, 5.001293288336859e-06, 7.249249352349177e-07, 6.807115342881944e-06, 3.9951668845282665e-06, 2.910163667466906e-06, 1.805093553331163e-06, 2.112653520372179e-06, 2.6371081670125325e-06, 2.0601352055867513e-06, 6.780094570583768e-06, 9.83277956644694e-07, 5.4122342003716366e-06, 2.3972325854831273e-06, 4.088348812527126e-06, 1.5055470996432835e-06, 2.9749340481228303e-06, 2.3395485348171656e-06, 2.6098224851820207e-06, 3.3106406529744464e-06, 3.998875617980956e-06, 2.0612080891927087e-05, 1.260526974995931e-05, 4.510879516601562e-06, 5.882779757181803e-06, 5.605485704210069e-06, 2.95408566792806e-06, 2.322673797607422e-06, 9.518331951565212e-06, 8.164644241333009e-06, 4.211346308390299e-06, 8.159014913770888e-06, 9.041759702894423e-06, 4.652341206868489e-06, 3.2050079769558377e-06, 8.51783487531874e-06, 6.147755516899957e-06, 1.034847895304362e-05, 1.140720314449734e-05, 6.646315256754557e-06, 1.4162725872463653e-06, 3.919336530897352e-06, 1.5593899620903863e-06, 3.772377967834472e-06, 2.6897589365641275e-06, 4.5414103402031796e-06, 1.226749685075548e-05, 3.876818550957574e-06, 3.3736228942871095e-06, 8.349286185370551e-07, 1.302162806193034e-06, 3.4984615114000103e-06, 6.6428714328342005e-06, 3.5132302178276913e-06, 9.956955909729003e-07, 6.234712070888943e-06, 4.428558879428439e-06, 3.7201245625813794e-06, 2.9147995842827695e-06, 6.839301851060654e-06, 3.753105799357097e-07, 4.362397723727756e-07, 3.8783417807685004e-06, 2.854400210910373e-06, 4.228552182515463e-06, 1.2610356012980143e-06, 3.88291147020128e-07, 1.2144777509901258e-06, 3.490116861131456e-06, 4.725323783026801e-07, 3.91244888305664e-06, 1.1063946617974175e-06, 1.5301836861504448e-06, 6.577041414048937e-07, 6.078349219428169e-07, 3.098116980658637e-07, 2.330409155951606e-06, 5.639923943413628e-07, 6.35981559753418e-07, 6.061792373657227e-07, 1.7784701453314891e-06, 8.37511486477322e-07, 1.5287929111056857e-06, 1.1719597710503473e-06, 2.3996829986572264e-06, 5.109376377529568e-06, 1.5983316633436413e-06, 1.814683278401693e-06, 1.7756223678588869e-06, 6.50273429022895e-06, 3.743171691894531e-06, 7.714033126831054e-06, 3.341237703959147e-06, 1.309792200724284e-06, 6.180604298909506e-06, 7.757345835367839e-06, 1.4209085040622287e-06, 7.115271356370714e-06, 3.1059318118625214e-06, 4.84148661295573e-06, 5.08427619934082e-06, 1.0759300655788846e-06, 8.39829444885254e-07, 2.7733643849690755e-06, 6.744596693250869e-07, 1.9519858890109594e-06, 3.7596623102823894e-06, 7.424275080362955e-06, 4.350582758585612e-06, 3.789186477661133e-06, 5.5554178025987415e-06, 2.7003553178575303e-06, 1.5988482369316948e-05, 1.555747456020779e-05, 8.191665013631184e-07, 7.173021634419758e-06, 1.291036605834961e-06, 5.84615601433648e-06, 8.446507983737521e-06, 1.2111067771911623e-05, 8.412996927897136e-07, 3.977749082777236e-06, 2.6114781697591145e-06, 2.128819624582926e-05, 7.426076465182834e-06, 1.103288597530789e-05, 6.1239136589898005e-06, 1.5986760457356773e-05, 7.457534472147624e-06, 6.1505370669894745e-06, 1.5669200155470105e-05, 3.9076805114746095e-06, 1.5245543585883247e-06, 1.5914440155029297e-05, 7.205870416429308e-06, 6.490283542209202e-06, 1.8294122483995224e-05, 4.313720597161187e-06, 5.175802442762587e-06, 3.5975376764933265e-06, 1.452121469709608e-05, 2.7038653691609703e-06, 6.097290250990126e-06, 2.952151828342014e-06, 2.675718731350369e-06, 3.5914447572496207e-06, 2.611941761440701e-06, 2.48412291208903e-06, 7.775425910949708e-06, 1.690056588914659e-06, 2.9961268107096358e-06, 2.8212865193684897e-06, 2.6683674918280705e-06, 1.957813898722331e-06, 4.188219706217448e-06, 2.951886918809679e-06, 3.6474068959554038e-06, 3.6195251676771378e-06, 4.231201277838813e-06, 2.861155403984918e-06, 5.156993865966797e-06, 1.8251604504055446e-06, 1.5766753090752495e-06, 4.58889537387424e-06, 1.1052025689019097e-06, 3.656413820054796e-07, 3.3529599507649746e-06, 1.4209747314453127e-06, 2.7863184611002606e-06, 8.358558019002279e-07, 3.7027729882134333e-07, 5.389584435356988e-07, 2.3153093126085068e-07, 6.922748353746202e-07, 6.994936201307509e-07, 1.0700358284844292e-06, 1.4911757575141059e-06, 6.32537735833062e-07, 1.7714500427246093e-06, 1.0567903518676758e-06, 3.0034383138020833e-06, 1.1811653772989909e-06, 1.955495940314399e-06, 2.3374557495117184e-06, 2.9725498623318143e-06, 2.2306707170274524e-06, 2.062797546386718e-06, 4.015631145901151e-06, 1.593298382229275e-06, 1.9019444783528648e-06, 7.65244166056315e-06, 6.339748700459798e-06, 2.5114085939195423e-06, 3.1832191679212784e-06, 1.2358029683430988e-06, 1.2179215749104818e-06, 6.575187047322591e-06, 2.2021267149183482e-06, 1.9224484761555988e-06, 5.435844262440999e-06, 5.468209584554037e-06, 5.467653274536133e-06, 1.3412038485209148e-06, 1.9362767537434898e-06, 2.07821528116862e-06, 1.131031248304579e-06, 1.3353427251180012e-06, 5.7188669840494795e-06, 4.698673884073894e-06, 2.106825510660807e-06, 3.0286444558037653e-06, 7.208916876051162e-06, 7.845958073933919e-07, 8.447302712334526e-06, 3.2913684844970702e-06, 5.021757549709744e-06, 2.226034800211589e-06, 1.279685232374403e-05, 4.918376604715983e-06, 1.0399738947550458e-05, 3.4987926483154294e-06, 3.4295188056098094e-06, 2.7137994766235352e-06, 2.347469329833984e-06, 6.36418660481771e-06, 5.631777975294326e-06, 1.7496744791666667e-06, 8.74201456705729e-07, 3.2638178931342225e-06, 8.76617431640625e-06, 1.2354056040445963e-06, 7.422566413879393e-06, 3.269844584994846e-06, 1.7271041870117187e-05, 2.51207086775038e-06, 5.757888158162434e-06, 1.9447008768717447e-06, 5.622784296671549e-06, 6.004042095608183e-06, 3.7838353051079655e-06, 4.452864329020182e-06, 8.206831084357367e-06, 2.46584415435791e-06, 2.673864364624024e-06, 6.498363282945422e-06, 5.793505244784886e-06, 2.891222635904948e-06, 7.452567418416339e-07, 9.85529687669542e-07, 3.1066735585530603e-06, 4.6597586737738715e-06, 2.710355652703179e-06, 1.8566184573703345e-06, 2.585649490356445e-06, 2.98301378885905e-06, 7.080104615953234e-06, 4.076030519273546e-06, 2.9174486796061197e-06, 2.009471257527669e-06, 2.2993485132853195e-06, 4.816121525234646e-06, 3.2077232996622723e-06, 7.274945576985677e-07, 4.78823979695638e-07, 3.00341182284885e-07, 7.727411058213976e-07, 2.2000736660427518e-07, 7.530715730455188e-07, 1.9584099451700848e-06, 1.3159381018744575e-07, 3.660387463039822e-07, 1.1318259769015843e-07, 5.192889107598198e-07, 7.229381137424046e-07, 8.412864473130968e-07, 8.489688237508138e-07, 9.758472442626953e-07, 1.8526448143853083e-06, 1.397795147365994e-06, 6.794134775797526e-07, 1.2379222446017797e-06, 9.056594636705186e-07, 1.0828177134195962e-06, 1.3984574211968319e-06, 5.752775404188369e-06, 1.5505154927571614e-06, 2.7649270163642036e-06, 5.858672989739312e-06, 9.545352723863391e-07, 1.3660060034857855e-06, 4.424121644761827e-06, 4.599226845635308e-06, 8.161067962646483e-07, 1.6700559192233617e-06, 9.285079108344184e-07, 3.586014111836751e-06, 7.187525431315103e-07, 4.844864209493002e-07, 5.001028378804525e-06, 1.854896545410156e-06, 8.717179298400879e-07, 3.817611270480685e-06, 3.643333911895752e-06, 2.356072266896566e-06, 1.7964839935302735e-06, 1.828405592176649e-06, 1.032551129659017e-06, 1.113348537021213e-06, 1.9290712144639753e-06, 4.982286029391818e-07, 3.989272647433811e-06, 4.976987838745118e-06, 5.247857835557725e-06, 1.4631615744696723e-06, 2.8071800867716474e-06, 8.011857668558756e-06, 1.5251835187276206e-05, 3.3395820193820532e-06, 3.5531653298272023e-06, 7.953643798828125e-06, 8.614460627237956e-06, 2.555383576287164e-06, 5.503495534261067e-07, 8.566697438557941e-06, 5.186001459757487e-06, 1.4190806282891167e-05, 4.747576183742947e-06, 1.375079154968262e-06, 1.5300909678141278e-06, 4.5569737752278646e-06, 1.0424455006917318e-05, 9.33319330215454e-06, 1.1650721232096354e-06, 1.7763177553812662e-06, 3.878540462917752e-06, 2.54213809967041e-06, 4.713071717156304e-06, 4.997187190585666e-06, 1.2364652421739366e-06, 1.9875499937269423e-06, 6.128682030571831e-07, 3.7746296988593206e-06, 6.152192751566568e-07, 1.2455383936564126e-06, 3.3641656239827478e-06, 5.505164464314779e-06, 2.3175610436333548e-06, 3.208849165174696e-06, 1.490513483683268e-06, 2.9242701000637478e-06, 1.0429488288031686e-06, 3.926290406121148e-06, 2.1788146760728623e-06, 5.753172768486871e-07, 1.781251695421007e-06, 2.204047309027778e-07, 1.352230707804362e-06, 2.50803099738227e-06, 4.84148661295573e-07, 1.0967916912502712e-06, 1.4707777235243057e-06, 5.129310819837782e-07, 3.5802523295084636e-07, 1.6245577070448135e-07, 3.039174609714084e-07, 1.8325116899278435e-07, 2.5199519263373476e-07, 1.201629638671875e-06, 9.17514165242513e-07, 7.437997394137912e-07, 1.55382686191135e-06, 6.795591778225369e-07, 1.9025802612304689e-07, 1.6021066241794164e-06, 1.0978513293796116e-06, 2.3710727691650387e-06, 1.8592675526936848e-06, 1.318653424580892e-06, 1.6094048817952473e-06, 1.1422899034288195e-06, 2.3235877354939775e-06, 1.1615753173828125e-06, 5.765093697441949e-07, 2.1922588348388673e-06, 1.3828277587890625e-06, 1.963708135816786e-06, 1.294083065456814e-06, 6.410148408677843e-07, 2.0640095074971515e-06, 2.1773974100748703e-06, 6.846586863199871e-07, 7.839004198710123e-07, 2.9260913530985515e-06, 4.1268269220987954e-06, 2.352595329284668e-06, 1.4254450798034667e-06, 1.671314239501953e-06, 1.5353163083394368e-06, 9.40859317779541e-07, 2.487301826477051e-06, 9.845693906148275e-07, 5.975643793741862e-06, 1.1073748270670575e-06, 8.187029096815321e-07, 3.4097168180677626e-06, 2.1532509062025283e-06, 1.1540783776177298e-06, 1.6660160488552515e-06, 3.987550735473633e-06, 1.6321076287163628e-06, 4.33153576321072e-06, 9.106927447848849e-07, 1.4371871948242189e-06, 6.614128748575846e-07, 1.5123685201009113e-06, 2.407073974609375e-06, 3.1415621439615888e-06, 3.332098325093587e-06, 3.553430239359538e-06, 1.930872599283854e-06, 2.7843316396077473e-06, 2.3137860827975805e-06, 9.834766387939453e-07, 3.761185540093316e-06, 2.6567776997884113e-06, 1.490314801534017e-06, 1.5775362650553384e-06, 1.191099484761556e-06, 3.763139247894287e-06, 8.601943651835125e-07, 2.429750230577257e-06, 3.1634171803792316e-06, 2.766251564025879e-06, 1.8801954057481556e-06, 2.2364324993557396e-06, 1.5972057978312175e-06, 5.625817510816785e-06, 3.3663113911946615e-06, 1.5675028165181477e-06, 4.337231318155925e-06, 2.6035308837890625e-06, 2.4676322937011717e-07, 2.585450808207194e-06, 2.6090145111083983e-06, 2.1279652913411457e-06, 7.863839467366536e-07, 1.828869183858236e-06, 1.0128153695000542e-06, 1.4728307723999022e-06, 1.1216931872897678e-06, 6.233321295844183e-07, 1.3109048207600909e-06, 7.13136461046007e-07, 7.835361692640516e-07, 9.093284606933594e-07, 4.383590486314561e-07, 1.202490594651964e-06]\n"
          ]
        }
      ]
    },
    {
      "cell_type": "markdown",
      "metadata": {
        "id": "SJEAJ5VinTIZ"
      },
      "source": [
        "You'll notice that your saliencies are probably very small values, since each individual pixel has a small effect on the output.\n",
        "Here are the current min and max:"
      ]
    },
    {
      "cell_type": "code",
      "metadata": {
        "id": "S5vRrciYnZgk"
      },
      "source": [
        "sal_array = np.array(saliencies)\n",
        "print (sal_array.min(), sal_array.max())\n",
        "print (sal_array.shape)"
      ],
      "execution_count": null,
      "outputs": []
    },
    {
      "cell_type": "markdown",
      "metadata": {
        "id": "UwQfwv6rnl--"
      },
      "source": [
        "To plot the saliencies, we need to do some arithmetic to transform them to a range of 0 to 1. Can you explain the function of each line?"
      ]
    },
    {
      "cell_type": "code",
      "metadata": {
        "id": "XL_W9k0W0Sai"
      },
      "source": [
        "sal_array = np.array(saliencies)\n",
        "sal_array = sal_array - sal_array.min()\n",
        "#TODO print min and max\n",
        "\n",
        "sal_array = sal_array/sal_array.max()\n",
        "#TODO print min and max\n",
        "\n",
        "#Can you perform this transformation in a single line of code?\n",
        "\n",
        "print (sal_array.shape)"
      ],
      "execution_count": null,
      "outputs": []
    },
    {
      "cell_type": "markdown",
      "metadata": {
        "id": "OvFKoff4n_gf"
      },
      "source": [
        "Finally, we can plot our saliency map!\n",
        "\n",
        "If you're not getting great results, try experimenting with how much you're changing the pixel values."
      ]
    },
    {
      "cell_type": "code",
      "metadata": {
        "id": "2vANcgvj1Pvc"
      },
      "source": [
        "#Plot our original image\n",
        "plt.imshow(input_image.reshape(32,32,3).astype(int))\n",
        "plt.show()\n",
        "\n",
        "#Plot our saliency map: the brighter, the higher the saliency\n",
        "plt.imshow(sal_array.reshape(32,32,3))\n",
        "plt.show()\n",
        "\n",
        "#Plot our saliency map superimposed on the image\n",
        "plt.imshow(input_image.reshape(32,32,3).astype(int))\n",
        "plt.imshow(sal_array.reshape(32,32,3),alpha=0.6)\n",
        "plt.show()"
      ],
      "execution_count": null,
      "outputs": []
    },
    {
      "cell_type": "markdown",
      "metadata": {
        "id": "fistwbaDp56y"
      },
      "source": [
        "We now have some insight into our neural network! We know which pixels matter in its decisions.\n",
        "\n",
        "You can experiment with the definition of saliency we used above; you might come up with a better way to measure it!"
      ]
    }
  ]
}